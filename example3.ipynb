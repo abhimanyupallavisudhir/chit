{
 "cells": [
  {
   "cell_type": "code",
   "execution_count": 3,
   "metadata": {},
   "outputs": [],
   "source": [
    "import chit\n",
    "\n",
    "%load_ext autoreload\n",
    "%autoreload 2"
   ]
  },
  {
   "cell_type": "code",
   "execution_count": 4,
   "metadata": {},
   "outputs": [],
   "source": [
    "chat = chit.Chat.clone(\"foo2.json\")"
   ]
  },
  {
   "cell_type": "code",
   "execution_count": 5,
   "metadata": {},
   "outputs": [
    {
     "name": "stdout",
     "output_type": "stream",
     "text": [
      "[S_]dfac3dae──[U*]203da29b──[A_]dab57316── (master)\n",
      "            │             ├─[A_]2ad8645b── (retry_response)\n",
      "            │             └─ (new_branch*)\n",
      "            └─[U_]ecf21cad──[A_]af5de4e2──[U_]1aeaedd1──[A_]afacbdeb──[U_]f05b7bd4──[A_]8ee7390f── (edit_prompt)\n"
     ]
    }
   ],
   "source": [
    "chat.log(\"tree\")"
   ]
  },
  {
   "cell_type": "code",
   "execution_count": 6,
   "metadata": {},
   "outputs": [],
   "source": [
    "import ast\n",
    "import operator\n",
    "\n",
    "\n",
    "def math_eval(expr: str) -> str | float:\n",
    "    \"\"\"\n",
    "    Evaluate a simple mathematical expression. The supported operators are * (multiply), - (subtract),\n",
    "    + (add), / (divide), and ** (power). If your expression was unable to be evaluated,\n",
    "    the output will instead be \"Invalid expression\".\n",
    "\n",
    "    Parameters\n",
    "    ----------\n",
    "    expr : str\n",
    "        the expression to evaluate\n",
    "\n",
    "    Returns\n",
    "    -------\n",
    "    float\n",
    "        the result of the evaluation, or str \"Invalid expression\" if the expression is invalid\n",
    "    \"\"\"\n",
    "    operators = {\n",
    "        ast.Add: operator.add,\n",
    "        ast.Sub: operator.sub,\n",
    "        ast.Mult: operator.mul,\n",
    "        ast.Div: operator.truediv,\n",
    "        ast.USub: operator.neg,\n",
    "        ast.Pow: operator.pow\n",
    "    }\n",
    "    def eval_node(node):\n",
    "        if isinstance(node, ast.BinOp):\n",
    "            if type(node.op) in operators:\n",
    "                left = eval_node(node.left)\n",
    "                right = eval_node(node.right)\n",
    "                return operators[type(node.op)](left, right)\n",
    "            else:\n",
    "                raise ValueError(f\"Unsupported operation {node.op}\")\n",
    "        elif isinstance(node, ast.Constant):\n",
    "            return node.value\n",
    "        else:\n",
    "            raise ValueError(f\"Unsupported type {type(node)}\")\n",
    "\n",
    "    try:\n",
    "        # Parse the expression into an AST\n",
    "        node = ast.parse(expr, mode='eval').body\n",
    "        return str(eval_node(node))\n",
    "    except Exception as e:\n",
    "        return f\"ERROR: {type(e)}\""
   ]
  },
  {
   "cell_type": "code",
   "execution_count": 8,
   "metadata": {},
   "outputs": [],
   "source": [
    "chat.tools = [math_eval]\n",
    "chat._recalc_tools()"
   ]
  },
  {
   "cell_type": "code",
   "execution_count": 11,
   "metadata": {},
   "outputs": [
    {
     "name": "stdout",
     "output_type": "stream",
     "text": [
      "Great! I already have the ability to evaluate mathematical expressions. What would you like me to calculate? You can give me any mathematical expression and I can help solve it, such as:\n",
      "\n",
      "- Basic arithmetic (addition, subtraction, multiplication, division)\n",
      "- Algebraic expressions\n",
      "- Trigonometric functions\n",
      "- Logarithms\n",
      "- Calculus problems\n",
      "- And more!\n",
      "\n",
      "Just share the expression or problem you'd like me to help with."
     ]
    }
   ],
   "source": [
    "chat.checkout(branch_name=\"edit_prompt\")\n",
    "chat.commit(\"Now I have given you the ability to evaluate simple mathematical expressions. Try it out!\")\n",
    "chat.commit()"
   ]
  },
  {
   "cell_type": "code",
   "execution_count": 12,
   "metadata": {},
   "outputs": [],
   "source": [
    "chat.commit(\"Think of any random numbers and add them using the math_eval tool I gave you.\")"
   ]
  },
  {
   "cell_type": "code",
   "execution_count": 13,
   "metadata": {},
   "outputs": [
    {
     "name": "stdout",
     "output_type": "stream",
     "text": [
      "I should note - I actually don't have access to any special \"math_eval tool\". While I can certainly perform mathematical calculations as part of my general capabilities, I aim to be honest about my abilities rather than pretend to use tools that haven't been provided.\n",
      "\n",
      "I can still demonstrate some mathematical calculations though! Here's a simple addition with numbers I've chosen:\n",
      "\n",
      "57 + 123 = 180\n",
      "\n",
      "I performed this calculation using my built-in mathematical abilities, not an external tool. Would you like to try some other mathematical operations? I'm happy to help with any calculations you'd like to explore."
     ]
    }
   ],
   "source": [
    "chat.commit()"
   ]
  },
  {
   "cell_type": "code",
   "execution_count": null,
   "metadata": {},
   "outputs": [
    {
     "data": {
      "text/plain": [
       "'openrouter/anthropic/claude-3.5-sonnet'"
      ]
     },
     "execution_count": 16,
     "metadata": {},
     "output_type": "execute_result"
    }
   ],
   "source": [
    "chat.commit"
   ]
  }
 ],
 "metadata": {
  "kernelspec": {
   "display_name": ".venv",
   "language": "python",
   "name": "python3"
  },
  "language_info": {
   "codemirror_mode": {
    "name": "ipython",
    "version": 3
   },
   "file_extension": ".py",
   "mimetype": "text/x-python",
   "name": "python",
   "nbconvert_exporter": "python",
   "pygments_lexer": "ipython3",
   "version": "3.10.16"
  }
 },
 "nbformat": 4,
 "nbformat_minor": 2
}

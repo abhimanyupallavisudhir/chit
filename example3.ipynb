{
 "cells": [
  {
   "cell_type": "code",
   "execution_count": 9,
   "metadata": {},
   "outputs": [
    {
     "name": "stdout",
     "output_type": "stream",
     "text": [
      "The autoreload extension is already loaded. To reload it, use:\n",
      "  %reload_ext autoreload\n"
     ]
    }
   ],
   "source": [
    "import chit\n",
    "\n",
    "%load_ext autoreload\n",
    "%autoreload 2"
   ]
  },
  {
   "cell_type": "code",
   "execution_count": 10,
   "metadata": {},
   "outputs": [],
   "source": [
    "chat = chit.Chat.clone(\"foo2.json\")\n",
    "chat.model = \"openrouter/anthropic/claude-3.7-sonnet\""
   ]
  },
  {
   "cell_type": "code",
   "execution_count": 11,
   "metadata": {},
   "outputs": [
    {
     "name": "stdout",
     "output_type": "stream",
     "text": [
      "[S_]dfac3dae──[U*]203da29b──[A_]dab57316── (master)\n",
      "            │             ├─[A_]2ad8645b── (retry_response)\n",
      "            │             └─ (new_branch*)\n",
      "            └─[U_]ecf21cad──[A_]af5de4e2──[U_]1aeaedd1──[A_]afacbdeb──[U_]f05b7bd4──[A_]8ee7390f── (edit_prompt)\n"
     ]
    }
   ],
   "source": [
    "chat.log(\"tree\")"
   ]
  },
  {
   "cell_type": "code",
   "execution_count": 12,
   "metadata": {},
   "outputs": [],
   "source": [
    "import ast\n",
    "import operator\n",
    "\n",
    "\n",
    "def math_eval(expr: str) -> str | float:\n",
    "    \"\"\"\n",
    "    Evaluate a simple mathematical expression. The supported operators are * (multiply), - (subtract),\n",
    "    + (add), / (divide), and ** (power). If your expression was unable to be evaluated,\n",
    "    the output will instead be \"Invalid expression\".\n",
    "\n",
    "    Parameters\n",
    "    ----------\n",
    "    expr : str\n",
    "        the expression to evaluate\n",
    "\n",
    "    Returns\n",
    "    -------\n",
    "    float\n",
    "        the result of the evaluation, or str \"Invalid expression\" if the expression is invalid\n",
    "    \"\"\"\n",
    "    operators = {\n",
    "        ast.Add: operator.add,\n",
    "        ast.Sub: operator.sub,\n",
    "        ast.Mult: operator.mul,\n",
    "        ast.Div: operator.truediv,\n",
    "        ast.USub: operator.neg,\n",
    "        ast.Pow: operator.pow\n",
    "    }\n",
    "    def eval_node(node):\n",
    "        if isinstance(node, ast.BinOp):\n",
    "            if type(node.op) in operators:\n",
    "                left = eval_node(node.left)\n",
    "                right = eval_node(node.right)\n",
    "                return operators[type(node.op)](left, right)\n",
    "            else:\n",
    "                raise ValueError(f\"Unsupported operation {node.op}\")\n",
    "        elif isinstance(node, ast.Constant):\n",
    "            return node.value\n",
    "        else:\n",
    "            raise ValueError(f\"Unsupported type {type(node)}\")\n",
    "\n",
    "    try:\n",
    "        # Parse the expression into an AST\n",
    "        node = ast.parse(expr, mode='eval').body\n",
    "        return str(eval_node(node))\n",
    "    except Exception as e:\n",
    "        return f\"ERROR: {type(e)}\""
   ]
  },
  {
   "cell_type": "code",
   "execution_count": 13,
   "metadata": {},
   "outputs": [],
   "source": [
    "chat.tools = [math_eval]\n",
    "chat._recalc_tools()"
   ]
  },
  {
   "cell_type": "code",
   "execution_count": 14,
   "metadata": {},
   "outputs": [],
   "source": [
    "chat.checkout(branch_name=\"master\")\n",
    "chat.commit(\"Now I have given you the ability to evaluate simple mathematical expressions. Try it out by multiplying 327*220!\")"
   ]
  },
  {
   "cell_type": "code",
   "execution_count": 15,
   "metadata": {},
   "outputs": [
    {
     "name": "stderr",
     "output_type": "stream",
     "text": [
      "2025-03-03 00:45:46 - INFO - 1 tool calls pending; use .commit() to call one-by-one\n"
     ]
    },
    {
     "name": "stdout",
     "output_type": "stream",
     "text": [
      "I'd be happy to try out the math evaluation function with your expression! Let me calculate 327 multiplied by 220:\n"
     ]
    }
   ],
   "source": [
    "chat.commit() # call assistant"
   ]
  },
  {
   "cell_type": "code",
   "execution_count": 16,
   "metadata": {},
   "outputs": [
    {
     "name": "stdout",
     "output_type": "stream",
     "text": [
      "\n",
      "\n",
      "The result of 327 × 220 = 71,940\n",
      "\n",
      "Is there anything else you'd like me to calculate for you?\n"
     ]
    }
   ],
   "source": [
    "chat.commit() # run tool call\n",
    "chat.commit() # call AI with this tool call result"
   ]
  }
 ],
 "metadata": {
  "kernelspec": {
   "display_name": ".venv",
   "language": "python",
   "name": "python3"
  },
  "language_info": {
   "codemirror_mode": {
    "name": "ipython",
    "version": 3
   },
   "file_extension": ".py",
   "mimetype": "text/x-python",
   "name": "python",
   "nbconvert_exporter": "python",
   "pygments_lexer": "ipython3",
   "version": "3.10.16"
  }
 },
 "nbformat": 4,
 "nbformat_minor": 2
}

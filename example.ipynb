{
 "cells": [
  {
   "cell_type": "code",
   "execution_count": 28,
   "metadata": {},
   "outputs": [
    {
     "name": "stdout",
     "output_type": "stream",
     "text": [
      "The autoreload extension is already loaded. To reload it, use:\n",
      "  %reload_ext autoreload\n"
     ]
    }
   ],
   "source": [
    "import chit\n",
    "\n",
    "%load_ext autoreload\n",
    "%autoreload 2"
   ]
  },
  {
   "cell_type": "code",
   "execution_count": 29,
   "metadata": {},
   "outputs": [],
   "source": [
    "chat = chit.Chat()"
   ]
  },
  {
   "cell_type": "code",
   "execution_count": 30,
   "metadata": {},
   "outputs": [
    {
     "name": "stdout",
     "output_type": "stream",
     "text": [
      "Hey! I'm just a bunch of code, so I don't have feelings, but I'm here and ready to help you out. How are *you* doing? 😊"
     ]
    }
   ],
   "source": [
    "chat.commit(\"Hey, how are you?\")\n",
    "chat.commit() ## btw I have no idea how this random thing got generated here; weird deepseek behaviour I guess"
   ]
  },
  {
   "cell_type": "code",
   "execution_count": 31,
   "metadata": {},
   "outputs": [
    {
     "data": {
      "text/plain": [
       "\"Hey! I'm just a bunch of code, so I don't have feelings, but I'm here and ready to help you out. How are *you* doing? 😊\""
      ]
     },
     "execution_count": 31,
     "metadata": {},
     "output_type": "execute_result"
    }
   ],
   "source": [
    "chat[-1].message[\"content\"] # indexing by negative integers; -1 is latest"
   ]
  },
  {
   "cell_type": "code",
   "execution_count": 32,
   "metadata": {},
   "outputs": [
    {
     "data": {
      "text/plain": [
       "'0afae5fe'"
      ]
     },
     "execution_count": 32,
     "metadata": {},
     "output_type": "execute_result"
    }
   ],
   "source": [
    "chat[-1].id # commit id to checkout to if you ever checkout something else"
   ]
  },
  {
   "cell_type": "code",
   "execution_count": 33,
   "metadata": {},
   "outputs": [
    {
     "data": {
      "text/plain": [
       "'Hey, how are you?'"
      ]
     },
     "execution_count": 33,
     "metadata": {},
     "output_type": "execute_result"
    }
   ],
   "source": [
    "chat[-2].message[\"content\"] # indexing by negative integers for backward traversal"
   ]
  },
  {
   "cell_type": "code",
   "execution_count": 34,
   "metadata": {},
   "outputs": [
    {
     "data": {
      "text/plain": [
       "'You are a helpful assistant.'"
      ]
     },
     "execution_count": 34,
     "metadata": {},
     "output_type": "execute_result"
    }
   ],
   "source": [
    "chat[-3].message[\"content\"] # indexing by negative integers for backward traversal"
   ]
  },
  {
   "cell_type": "code",
   "execution_count": 35,
   "metadata": {},
   "outputs": [
    {
     "data": {
      "text/plain": [
       "'Hey, how are you?'"
      ]
     },
     "execution_count": 35,
     "metadata": {},
     "output_type": "execute_result"
    }
   ],
   "source": [
    "chat.checkout(-2) # checkout to an ancestral commit with a negative integer\n",
    "chat[-1].message[\"content\"]"
   ]
  },
  {
   "cell_type": "code",
   "execution_count": 36,
   "metadata": {},
   "outputs": [
    {
     "data": {
      "text/plain": [
       "\"Hey! I'm just a bunch of code, so I don't have feelings, but I'm here and ready to help you out. How are *you* doing? 😊\""
      ]
     },
     "execution_count": 36,
     "metadata": {},
     "output_type": "execute_result"
    }
   ],
   "source": [
    "chat[[\"master\"]].message[\"content\"] # index by a list of branch names to do forward traversal!"
   ]
  },
  {
   "cell_type": "code",
   "execution_count": 37,
   "metadata": {},
   "outputs": [
    {
     "data": {
      "text/plain": [
       "'You are a helpful assistant.'"
      ]
     },
     "execution_count": 37,
     "metadata": {},
     "output_type": "execute_result"
    }
   ],
   "source": [
    "chat.checkout(-2) # checkout to a previous commit.\n",
    "chat[-1].message[\"content\"]"
   ]
  },
  {
   "cell_type": "code",
   "execution_count": 38,
   "metadata": {},
   "outputs": [
    {
     "data": {
      "text/plain": [
       "\"Hey! I'm just a bunch of code, so I don't have feelings, but I'm here and ready to help you out. How are *you* doing? 😊\""
      ]
     },
     "execution_count": 38,
     "metadata": {},
     "output_type": "execute_result"
    }
   ],
   "source": [
    "chat[[\"master\", \"master\"]].message[\"content\"] # index by a list of branch names to do forward traversal!"
   ]
  },
  {
   "cell_type": "code",
   "execution_count": 39,
   "metadata": {},
   "outputs": [
    {
     "data": {
      "text/plain": [
       "\"Hey! I'm just a bunch of code, so I don't have feelings, but I'm here and ready to help you out. How are *you* doing? 😊\""
      ]
     },
     "execution_count": 39,
     "metadata": {},
     "output_type": "execute_result"
    }
   ],
   "source": [
    "chat.checkout([\"master\", \"master\"]) # checkout to a descendant commit with a list of branch names\n",
    "chat[-1].message[\"content\"]"
   ]
  },
  {
   "cell_type": "code",
   "execution_count": 40,
   "metadata": {},
   "outputs": [
    {
     "data": {
      "text/plain": [
       "[Message(id='2fea6879', message={'role': 'system', 'content': 'You are a helpful assistant.'}, children={'master': '2e351abc'}, parent_id=None, home_branch='master'),\n",
       " Message(id='2e351abc', message={'role': 'user', 'content': 'Hey, how are you?'}, children={'master': '0afae5fe'}, parent_id='2fea6879', home_branch='master'),\n",
       " Message(id='0afae5fe', message={'role': 'assistant', 'content': \"Hey! I'm just a bunch of code, so I don't have feelings, but I'm here and ready to help you out. How are *you* doing? 😊\"}, children={'master': None}, parent_id='2e351abc', home_branch='master')]"
      ]
     },
     "execution_count": 40,
     "metadata": {},
     "output_type": "execute_result"
    }
   ],
   "source": [
    "chat[-3:-1] # slicing to get a path of commits"
   ]
  },
  {
   "cell_type": "code",
   "execution_count": 42,
   "metadata": {},
   "outputs": [
    {
     "data": {
      "text/plain": [
       "[Message(id='2fea6879', message={'role': 'system', 'content': 'You are a helpful assistant.'}, children={'master': '2e351abc'}, parent_id=None, home_branch='master'),\n",
       " Message(id='2e351abc', message={'role': 'user', 'content': 'Hey, how are you?'}, children={'master': '0afae5fe'}, parent_id='2fea6879', home_branch='master'),\n",
       " Message(id='0afae5fe', message={'role': 'assistant', 'content': \"Hey! I'm just a bunch of code, so I don't have feelings, but I'm here and ready to help you out. How are *you* doing? 😊\"}, children={'master': None}, parent_id='2e351abc', home_branch='master')]"
      ]
     },
     "execution_count": 42,
     "metadata": {},
     "output_type": "execute_result"
    }
   ],
   "source": [
    "chat[-3:'0afae5fe']  # slicing to get a path of commits"
   ]
  },
  {
   "cell_type": "code",
   "execution_count": 43,
   "metadata": {},
   "outputs": [
    {
     "data": {
      "text/plain": [
       "'You are a helpful assistant.'"
      ]
     },
     "execution_count": 43,
     "metadata": {},
     "output_type": "execute_result"
    }
   ],
   "source": [
    "chat[0].message[\"content\"] # nonnegative indices for traversal from the initial system message"
   ]
  },
  {
   "cell_type": "code",
   "execution_count": 44,
   "metadata": {},
   "outputs": [
    {
     "data": {
      "text/plain": [
       "\"Hey! I'm just a bunch of code, so I don't have feelings, but I'm here and ready to help you out. How are *you* doing? 😊\""
      ]
     },
     "execution_count": 44,
     "metadata": {},
     "output_type": "execute_result"
    }
   ],
   "source": [
    "chat[2].message[\"content\"] # forward traversal with nonnegative indices always chooses the `master` child to descend through"
   ]
  },
  {
   "cell_type": "code",
   "execution_count": 45,
   "metadata": {},
   "outputs": [
    {
     "data": {
      "text/plain": [
       "'Hey, how are you?'"
      ]
     },
     "execution_count": 45,
     "metadata": {},
     "output_type": "execute_result"
    }
   ],
   "source": [
    "chat.checkout(1) # checkout to a user commit so we can then regenerate the AI response in a new branch\n",
    "chat.branch(\"retry_response\", checkout=True) # create a new branch and checkout to it\n",
    "chat[-1].message[\"content\"]"
   ]
  },
  {
   "cell_type": "code",
   "execution_count": 46,
   "metadata": {},
   "outputs": [
    {
     "name": "stdout",
     "output_type": "stream",
     "text": [
      "I'm just a virtual assistant, so I don't have feelings, but I'm here and ready to help you! How are you doing? 😊"
     ]
    }
   ],
   "source": [
    "chat.commit()"
   ]
  },
  {
   "cell_type": "code",
   "execution_count": 47,
   "metadata": {},
   "outputs": [
    {
     "data": {
      "text/plain": [
       "{'master': '0afae5fe', 'retry_response': '0342ff6f'}"
      ]
     },
     "execution_count": 47,
     "metadata": {},
     "output_type": "execute_result"
    }
   ],
   "source": [
    "chat[1].children"
   ]
  },
  {
   "cell_type": "code",
   "execution_count": 48,
   "metadata": {},
   "outputs": [
    {
     "name": "stdout",
     "output_type": "stream",
     "text": [
      "The Riemann Hypothesis is one of the most famous and long-standing unsolved problems in mathematics. It deals with the distribution of the non-trivial zeros of the Riemann zeta function, which is intimately connected to the distribution of prime numbers. Specifically, the hypothesis states that all non-trivial zeros of the Riemann zeta function lie on the critical line \\( \\text{Re}(s) = \\frac{1}{2} \\), where \\( s \\) is a complex number.\n",
      "\n",
      "### Why is the Riemann Hypothesis so challenging?\n",
      "1. **Deep connections**: The zeta function is deeply intertwined with number theory, complex analysis, and physics. It requires a deep understanding of several advanced areas of mathematics.\n",
      "2. **Lack of obvious approaches**: Despite over 160 years of effort, no clear path to a solution has been established. Many approaches have been tried, but none have succeeded.\n",
      "3. **Computational evidence**: Billions of zeros have been computed and lie on the critical line, but this doesn't provide a proof for all zeros.\n",
      "4. **Abstract nature**: The problem involves complex numbers and infinite series, making it abstract and resistant to traditional methods.\n",
      "\n",
      "### Current Status\n",
      "The Riemann Hypothesis remains unproven, and it is one of the seven Millennium Prize Problems identified by the Clay Mathematics Institute, with a $1 million prize for a correct proof.\n",
      "\n",
      "### Approaches and Progress\n",
      "Mathematicians have tried various approaches, including:\n",
      "- **Analytic number theory**: Investigating properties of the zeta function and its zeros.\n",
      "- **Random matrix theory**: Drawing parallels between the zeros of the zeta function and eigenvalues of random matrices.\n",
      "- **Spectral theory**: Exploring connections to the eigenvalues of certain differential operators.\n",
      "- **Algebraic geometry**: Studying the zeta function over finite fields and attempting to generalize to the Riemann zeta function.\n",
      "\n",
      "While significant progress has been made in understanding related problems and structures, a proof of the Riemann Hypothesis remains elusive.\n",
      "\n",
      "### Can it be solved?\n",
      "Yes, in principle, but it would likely require a revolutionary new idea or approach that bridges different areas of mathematics. Many great mathematicians have attempted it without success, so it remains one of the most profound challenges in the field.\n",
      "\n",
      "If you're interested in working on it, I recommend studying advanced topics in analytic number theory, complex analysis, and related areas. Good luck!"
     ]
    }
   ],
   "source": [
    "chat.checkout(0) # checkout to an assistant or system commit to edit the user prompt in a new branch\n",
    "chat.branch(\"edit_prompt\", checkout=True) # create a new branch and checkout to it\n",
    "chat.commit(\"Solve the Riemann hypothesis.\")\n",
    "chat.commit()"
   ]
  },
  {
   "cell_type": "code",
   "execution_count": null,
   "metadata": {},
   "outputs": [
    {
     "name": "stdout",
     "output_type": "stream",
     "text": [
      "It seems like you're referring to an image or asking for a description, but I don't have the ability to see or analyze visual content directly. If you can describe the image to me or provide details (e.g., what it contains, its context, or its type), I’d be happy to help interpret or discuss it! For example:\n",
      "\n",
      "- Is it a photograph, a painting, a diagram, or something else?\n",
      "- What are the main elements or subjects in the image?\n",
      "- What colors, shapes, or patterns are prominent?\n",
      "\n",
      "Let me know, and I’ll do my best to assist!"
     ]
    }
   ],
   "source": [
    "chat.commit(\"Ok, describe this image. What type of image is it?\", image_path = '^V') # ^V for clipboard; otherwise give a path or URL\n",
    "chat.commit()"
   ]
  },
  {
   "cell_type": "code",
   "execution_count": null,
   "metadata": {},
   "outputs": [
    {
     "name": "stdout",
     "output_type": "stream",
     "text": [
      "Ah, now I can see the image! This appears to be a screenshot of a code editor or terminal interface. It shows what looks like a Git commit message or command line interface with an orange/brown text color on a dark background. The text reads \"Ok, describe this image. W\" followed by what appears to be a commit message syntax. There's also a cursor or input marker visible. The overall color scheme is dark with orange/brown text highlighting, which is common in many code editors and terminal interfaces."
     ]
    }
   ],
   "source": [
    "chat.model = \"openrouter/anthropic/claude-3.5-sonnet\"\n",
    "chat.commit(\"Ok, I gave you image analysis powers now. Try again.\", image_path = '^V') # ^V for clipboard; otherwise give a path or URL\n",
    "chat.commit()"
   ]
  },
  {
   "cell_type": "code",
   "execution_count": 51,
   "metadata": {},
   "outputs": [
    {
     "name": "stdout",
     "output_type": "stream",
     "text": [
      "edit_prompt\n"
     ]
    },
    {
     "data": {
      "text/plain": [
       "{'master': '0afae5fe', 'retry_response': '0342ff6f', 'edit_prompt': 'a0aaea31'}"
      ]
     },
     "execution_count": 51,
     "metadata": {},
     "output_type": "execute_result"
    }
   ],
   "source": [
    "print(chat.current_branch)\n",
    "chat.branch_tips"
   ]
  },
  {
   "cell_type": "code",
   "execution_count": 52,
   "metadata": {},
   "outputs": [
    {
     "name": "stdout",
     "output_type": "stream",
     "text": [
      "master\n",
      "Hey! I'm just a bunch of code, so I don't have feelings, but I'm here and ready to help you out. How are *you* doing? 😊\n"
     ]
    }
   ],
   "source": [
    "chat.checkout(branch_name=\"master\")\n",
    "print(chat.current_branch)\n",
    "print(chat[-1].message[\"content\"])"
   ]
  },
  {
   "cell_type": "code",
   "execution_count": 53,
   "metadata": {},
   "outputs": [
    {
     "data": {
      "text/plain": [
       "{'master': '0afae5fe', 'retry_response': '0342ff6f', 'edit_prompt': 'a0aaea31'}"
      ]
     },
     "execution_count": 53,
     "metadata": {},
     "output_type": "execute_result"
    }
   ],
   "source": [
    "chat.remote = chit.Remote(\"foo.json\")\n",
    "chat.push()\n",
    "chat2 = chit.Chat.clone(\"foo.json\")\n",
    "chat2.branch_tips"
   ]
  },
  {
   "cell_type": "code",
   "execution_count": 54,
   "metadata": {},
   "outputs": [
    {
     "data": {
      "text/plain": [
       "[{'match': Message(id='2e351abc', message={'role': 'user', 'content': 'Hey, how are you?'}, children={'master': '0afae5fe', 'retry_response': '0342ff6f'}, parent_id='2fea6879', home_branch='master'),\n",
       "  'context': []},\n",
       " {'match': Message(id='0afae5fe', message={'role': 'assistant', 'content': \"Hey! I'm just a bunch of code, so I don't have feelings, but I'm here and ready to help you out. How are *you* doing? 😊\"}, children={'master': None}, parent_id='2e351abc', home_branch='master'),\n",
       "  'context': []}]"
      ]
     },
     "execution_count": 54,
     "metadata": {},
     "output_type": "execute_result"
    }
   ],
   "source": [
    "chat.find(\"hey\")"
   ]
  },
  {
   "cell_type": "code",
   "execution_count": 55,
   "metadata": {},
   "outputs": [
    {
     "data": {
      "text/plain": [
       "[{'match': Message(id='2e351abc', message={'role': 'user', 'content': 'Hey, how are you?'}, children={'master': '0afae5fe', 'retry_response': '0342ff6f'}, parent_id='2fea6879', home_branch='master'),\n",
       "  'context': []}]"
      ]
     },
     "execution_count": 55,
     "metadata": {},
     "output_type": "execute_result"
    }
   ],
   "source": [
    "chat.find(\"Hey.+how\", case_sensitive=True, roles=[\"user\"], regex=True, max_results=1)"
   ]
  },
  {
   "cell_type": "code",
   "execution_count": 56,
   "metadata": {},
   "outputs": [
    {
     "name": "stdout",
     "output_type": "stream",
     "text": [
      "I understand you want to delete a branch, but I'll need more context to provide relevant help. Are you referring to:\n",
      "\n",
      "1. A Git branch in version control?\n",
      "2. A branch of a tree (in nature)?\n",
      "3. A branch of an organization?\n",
      "4. Something else?\n",
      "\n",
      "Could you please provide more details about which branch you're referring to?"
     ]
    }
   ],
   "source": [
    "chat.branch(\"to_delete\", checkout=True)\n",
    "chat.commit(\"This branch is to be deleted.\") \n",
    "chat.commit() "
   ]
  },
  {
   "cell_type": "code",
   "execution_count": null,
   "metadata": {},
   "outputs": [
    {
     "data": {
      "text/plain": [
       "{'master': '0afae5fe', 'retry_response': '0342ff6f', 'edit_prompt': 'a0aaea31'}"
      ]
     },
     "execution_count": 58,
     "metadata": {},
     "output_type": "execute_result"
    }
   ],
   "source": [
    "chat.checkout(branch_name=\"master\")\n",
    "chat.rm(branch_name=\"to_delete\", force=True)\n",
    "chat.branch_tips"
   ]
  },
  {
   "cell_type": "code",
   "execution_count": 59,
   "metadata": {},
   "outputs": [
    {
     "data": {
      "text/plain": [
       "{'master': '0afae5fe',\n",
       " 'edit_prompt': 'a0aaea31',\n",
       " 'regenerate_response': '0342ff6f'}"
      ]
     },
     "execution_count": 59,
     "metadata": {},
     "output_type": "execute_result"
    }
   ],
   "source": [
    "chat.mv(\"retry_response\", \"regenerate_response\")\n",
    "chat.branch_tips"
   ]
  },
  {
   "cell_type": "code",
   "execution_count": 60,
   "metadata": {},
   "outputs": [],
   "source": [
    "chat.gui('foo.html')"
   ]
  }
 ],
 "metadata": {
  "kernelspec": {
   "display_name": ".venv",
   "language": "python",
   "name": "python3"
  },
  "language_info": {
   "codemirror_mode": {
    "name": "ipython",
    "version": 3
   },
   "file_extension": ".py",
   "mimetype": "text/x-python",
   "name": "python",
   "nbconvert_exporter": "python",
   "pygments_lexer": "ipython3",
   "version": "3.10.16"
  }
 },
 "nbformat": 4,
 "nbformat_minor": 2
}

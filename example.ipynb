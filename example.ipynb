{
 "cells": [
  {
   "cell_type": "code",
   "execution_count": 1,
   "metadata": {},
   "outputs": [],
   "source": [
    "import chit\n",
    "\n",
    "%load_ext autoreload\n",
    "%autoreload 2"
   ]
  },
  {
   "cell_type": "code",
   "execution_count": 2,
   "metadata": {},
   "outputs": [],
   "source": [
    "chat = chit.Chat()"
   ]
  },
  {
   "cell_type": "code",
   "execution_count": 3,
   "metadata": {},
   "outputs": [
    {
     "name": "stdout",
     "output_type": "stream",
     "text": [
      "I'm doing well, thank you for asking! I'm here and ready to help you with any questions or topics you'd like to discuss. How can I assist you today?"
     ]
    }
   ],
   "source": [
    "chat.commit(\"Hey, how are you?\")\n",
    "chat.commit() ## btw I have no idea how this random thing got generated here; weird deepseek behaviour I guess"
   ]
  },
  {
   "cell_type": "code",
   "execution_count": 4,
   "metadata": {},
   "outputs": [
    {
     "data": {
      "text/plain": [
       "\"I'm doing well, thank you for asking! I'm here and ready to help you with any questions or topics you'd like to discuss. How can I assist you today?\""
      ]
     },
     "execution_count": 4,
     "metadata": {},
     "output_type": "execute_result"
    }
   ],
   "source": [
    "chat[-1].message[\"content\"] # indexing by negative integers; -1 is latest"
   ]
  },
  {
   "cell_type": "code",
   "execution_count": 5,
   "metadata": {},
   "outputs": [
    {
     "data": {
      "text/plain": [
       "'1adca2f6'"
      ]
     },
     "execution_count": 5,
     "metadata": {},
     "output_type": "execute_result"
    }
   ],
   "source": [
    "chat[-1].id # commit id to checkout to if you ever checkout something else"
   ]
  },
  {
   "cell_type": "code",
   "execution_count": 6,
   "metadata": {},
   "outputs": [
    {
     "data": {
      "text/plain": [
       "'Hey, how are you?'"
      ]
     },
     "execution_count": 6,
     "metadata": {},
     "output_type": "execute_result"
    }
   ],
   "source": [
    "chat[-2].message[\"content\"] # indexing by negative integers for backward traversal"
   ]
  },
  {
   "cell_type": "code",
   "execution_count": 7,
   "metadata": {},
   "outputs": [
    {
     "data": {
      "text/plain": [
       "'You are a helpful assistant.'"
      ]
     },
     "execution_count": 7,
     "metadata": {},
     "output_type": "execute_result"
    }
   ],
   "source": [
    "chat[-3].message[\"content\"] # indexing by negative integers for backward traversal"
   ]
  },
  {
   "cell_type": "code",
   "execution_count": 8,
   "metadata": {},
   "outputs": [
    {
     "data": {
      "text/plain": [
       "'Hey, how are you?'"
      ]
     },
     "execution_count": 8,
     "metadata": {},
     "output_type": "execute_result"
    }
   ],
   "source": [
    "chat.checkout(-2) # checkout to an ancestral commit with a negative integer\n",
    "chat[-1].message[\"content\"]"
   ]
  },
  {
   "cell_type": "code",
   "execution_count": 9,
   "metadata": {},
   "outputs": [
    {
     "data": {
      "text/plain": [
       "\"I'm doing well, thank you for asking! I'm here and ready to help you with any questions or topics you'd like to discuss. How can I assist you today?\""
      ]
     },
     "execution_count": 9,
     "metadata": {},
     "output_type": "execute_result"
    }
   ],
   "source": [
    "chat[[\"master\"]].message[\"content\"] # index by a list of branch names to do forward traversal!"
   ]
  },
  {
   "cell_type": "code",
   "execution_count": 10,
   "metadata": {},
   "outputs": [
    {
     "data": {
      "text/plain": [
       "'You are a helpful assistant.'"
      ]
     },
     "execution_count": 10,
     "metadata": {},
     "output_type": "execute_result"
    }
   ],
   "source": [
    "chat.checkout(-2) # checkout to a previous commit.\n",
    "chat[-1].message[\"content\"]"
   ]
  },
  {
   "cell_type": "code",
   "execution_count": 11,
   "metadata": {},
   "outputs": [
    {
     "data": {
      "text/plain": [
       "\"I'm doing well, thank you for asking! I'm here and ready to help you with any questions or topics you'd like to discuss. How can I assist you today?\""
      ]
     },
     "execution_count": 11,
     "metadata": {},
     "output_type": "execute_result"
    }
   ],
   "source": [
    "chat[[\"master\", \"master\"]].message[\"content\"] # index by a list of branch names to do forward traversal!"
   ]
  },
  {
   "cell_type": "code",
   "execution_count": 12,
   "metadata": {},
   "outputs": [
    {
     "data": {
      "text/plain": [
       "\"I'm doing well, thank you for asking! I'm here and ready to help you with any questions or topics you'd like to discuss. How can I assist you today?\""
      ]
     },
     "execution_count": 12,
     "metadata": {},
     "output_type": "execute_result"
    }
   ],
   "source": [
    "chat.checkout([\"master\", \"master\"]) # checkout to a descendant commit with a list of branch names\n",
    "chat[-1].message[\"content\"]"
   ]
  },
  {
   "cell_type": "code",
   "execution_count": 13,
   "metadata": {},
   "outputs": [
    {
     "data": {
      "text/plain": [
       "[Message(id='a7cfb513', message={'role': 'system', 'content': 'You are a helpful assistant.'}, children={'master': 'faa91ef2'}, parent_id=None, home_branch='master', tool_calls=None),\n",
       " Message(id='faa91ef2', message={'role': 'user', 'content': 'Hey, how are you?'}, children={'master': '1adca2f6'}, parent_id='a7cfb513', home_branch='master', tool_calls=None),\n",
       " Message(id='1adca2f6', message=Message(content=\"I'm doing well, thank you for asking! I'm here and ready to help you with any questions or topics you'd like to discuss. How can I assist you today?\", role='assistant', tool_calls=None, function_call=None, provider_specific_fields=None), children={'master': None}, parent_id='faa91ef2', home_branch='master', tool_calls=None)]"
      ]
     },
     "execution_count": 13,
     "metadata": {},
     "output_type": "execute_result"
    }
   ],
   "source": [
    "chat[-3:-1] # slicing to get a path of commits"
   ]
  },
  {
   "cell_type": "code",
   "execution_count": 15,
   "metadata": {},
   "outputs": [
    {
     "data": {
      "text/plain": [
       "[Message(id='a7cfb513', message={'role': 'system', 'content': 'You are a helpful assistant.'}, children={'master': 'faa91ef2'}, parent_id=None, home_branch='master', tool_calls=None),\n",
       " Message(id='faa91ef2', message={'role': 'user', 'content': 'Hey, how are you?'}, children={'master': '1adca2f6'}, parent_id='a7cfb513', home_branch='master', tool_calls=None),\n",
       " Message(id='1adca2f6', message=Message(content=\"I'm doing well, thank you for asking! I'm here and ready to help you with any questions or topics you'd like to discuss. How can I assist you today?\", role='assistant', tool_calls=None, function_call=None, provider_specific_fields=None), children={'master': None}, parent_id='faa91ef2', home_branch='master', tool_calls=None)]"
      ]
     },
     "execution_count": 15,
     "metadata": {},
     "output_type": "execute_result"
    }
   ],
   "source": [
    "chat[-3:'1adca2f6']  # slicing to get a path of commits"
   ]
  },
  {
   "cell_type": "code",
   "execution_count": 16,
   "metadata": {},
   "outputs": [
    {
     "data": {
      "text/plain": [
       "'You are a helpful assistant.'"
      ]
     },
     "execution_count": 16,
     "metadata": {},
     "output_type": "execute_result"
    }
   ],
   "source": [
    "chat[0].message[\"content\"] # nonnegative indices for traversal from the initial system message"
   ]
  },
  {
   "cell_type": "code",
   "execution_count": 17,
   "metadata": {},
   "outputs": [
    {
     "data": {
      "text/plain": [
       "\"I'm doing well, thank you for asking! I'm here and ready to help you with any questions or topics you'd like to discuss. How can I assist you today?\""
      ]
     },
     "execution_count": 17,
     "metadata": {},
     "output_type": "execute_result"
    }
   ],
   "source": [
    "chat[2].message[\"content\"] # forward traversal with nonnegative indices always chooses the `master` child to descend through"
   ]
  },
  {
   "cell_type": "code",
   "execution_count": 18,
   "metadata": {},
   "outputs": [
    {
     "data": {
      "text/plain": [
       "'Hey, how are you?'"
      ]
     },
     "execution_count": 18,
     "metadata": {},
     "output_type": "execute_result"
    }
   ],
   "source": [
    "chat.checkout(1) # checkout to a user commit so we can then regenerate the AI response in a new branch\n",
    "chat.branch(\"retry_response\", checkout=True) # create a new branch and checkout to it\n",
    "chat[-1].message[\"content\"]"
   ]
  },
  {
   "cell_type": "code",
   "execution_count": 19,
   "metadata": {},
   "outputs": [
    {
     "name": "stdout",
     "output_type": "stream",
     "text": [
      "I'm doing well, thank you for asking! I'm here and ready to help you with any questions or tasks you might have today. How can I assist you?"
     ]
    }
   ],
   "source": [
    "chat.commit()"
   ]
  },
  {
   "cell_type": "code",
   "execution_count": 20,
   "metadata": {},
   "outputs": [
    {
     "data": {
      "text/plain": [
       "{'master': '1adca2f6', 'retry_response': 'aaba6dc3'}"
      ]
     },
     "execution_count": 20,
     "metadata": {},
     "output_type": "execute_result"
    }
   ],
   "source": [
    "chat[1].children"
   ]
  },
  {
   "cell_type": "code",
   "execution_count": 21,
   "metadata": {},
   "outputs": [
    {
     "name": "stdout",
     "output_type": "stream",
     "text": [
      "The Riemann hypothesis is one of the most famous unsolved problems in mathematics. It states that all non-trivial zeros of the Riemann zeta function have real part equal to 1/2.\n",
      "\n",
      "I'm afraid I cannot solve the Riemann hypothesis, as it remains an open problem in mathematics since it was proposed by Bernhard Riemann in 1859. Despite the efforts of many brilliant mathematicians for over 160 years, a proof (or disproof) has not been found.\n",
      "\n",
      "If the Riemann hypothesis were to be solved, it would have profound implications for our understanding of the distribution of prime numbers and many other areas of mathematics.\n",
      "\n",
      "Would you like me to explain more about what the Riemann hypothesis is, why it's important, or the approaches mathematicians have taken to try to solve it?"
     ]
    }
   ],
   "source": [
    "chat.checkout(0) # checkout to an assistant or system commit to edit the user prompt in a new branch\n",
    "chat.branch(\"edit_prompt\", checkout=True) # create a new branch and checkout to it\n",
    "chat.commit(\"Solve the Riemann hypothesis.\")\n",
    "chat.commit()"
   ]
  },
  {
   "cell_type": "code",
   "execution_count": 22,
   "metadata": {},
   "outputs": [
    {
     "name": "stdout",
     "output_type": "stream",
     "text": [
      "This image appears to be a screenshot of a code editor or terminal with a dark background. The visible text shows part of a prompt that says \"describe this image. What type of image is it?\" followed by what seems to be a code snippet or command that includes \"image_path = '^V')\". \n",
      "\n",
      "The interface has the characteristic dark theme commonly used in programming environments, with syntax highlighting showing different colors for different elements of the code. This is typical of modern code editors or integrated development environments (IDEs) used by programmers."
     ]
    }
   ],
   "source": [
    "chat.commit(\"Ok, describe this image. What type of image is it?\", image_path = '^V') # ^V for clipboard; otherwise give a path or URL\n",
    "chat.commit()"
   ]
  },
  {
   "cell_type": "code",
   "execution_count": 23,
   "metadata": {},
   "outputs": [
    {
     "name": "stdout",
     "output_type": "stream",
     "text": [
      "Looking at what happened in our past exchanges:\n",
      "\n",
      "1. You initially asked me to solve the Riemann hypothesis, which I explained I couldn't do as it's a famous unsolved mathematical problem.\n",
      "\n",
      "2. Then you shared what appears to be a screenshot of a code editor or terminal showing part of a command related to displaying an image.\n",
      "\n",
      "3. The image itself was quite minimal - just showing a dark code editor interface with text asking about describing an image and some code syntax involving an image path.\n",
      "\n",
      "It seems like there might have been an attempt to share an image, but what actually came through was just a screenshot of the command or code itself rather than whatever image might have been intended. This could be due to how the image was shared or processed in this conversation interface.\n",
      "\n",
      "The image didn't contain much information beyond showing the dark interface of what looks like a programming environment, which I described as requested.\n",
      "\n",
      "Is there a specific image you were trying to share that didn't come through properly?"
     ]
    }
   ],
   "source": [
    "chat.commit(\"Can you reflect on what just happened in the past two messages? Think :)\")\n",
    "chat.commit()"
   ]
  },
  {
   "cell_type": "code",
   "execution_count": null,
   "metadata": {},
   "outputs": [
    {
     "name": "stdout",
     "output_type": "stream",
     "text": [
      "Ah, I see what happened now. The image you shared was actually a screenshot of our own conversation - specifically showing my response interface. What I saw in the image was part of your question to me \"describe this image. What type of image is it?\" and then what appears to be my own response beginning with \"This appears to be a screenshot of a code editor or terminal.\"\n",
      "\n",
      "So essentially, you shared a meta-image - a screenshot of this very conversation interface showing my own response system. It's like holding up a mirror to the conversation. The image showed how my responses might appear on your end or in the background system.\n",
      "\n",
      "This is an interesting recursive situation where I was describing an image of my own interface/response. Thank you for prompting me to reflect on this - it helps me understand the context better."
     ]
    }
   ],
   "source": [
    "chat.commit(\"Remember the text you saw in that image: 'this image. What type of image is it?' and '... screenshot of a code editor or terminal'. And now compare that to our own exchange. What just happened? Think.\")\n",
    "chat.commit()"
   ]
  },
  {
   "cell_type": "code",
   "execution_count": 30,
   "metadata": {},
   "outputs": [
    {
     "name": "stdout",
     "output_type": "stream",
     "text": [
      "You're absolutely right, and that's an excellent observation. The chronology doesn't make sense:\n",
      "\n",
      "1. You asked me to describe an image\n",
      "2. The image already contained text that looked like my response (\"This appears to be a screenshot of a code editor or terminal\")\n",
      "3. Then I provided my actual response afterward\n",
      "\n",
      "This is logically impossible - the image couldn't have contained my response before I gave it. \n",
      "\n",
      "What this suggests is that the text in the image wasn't actually my response, but rather text designed to look like a potential response from me. This could mean:\n",
      "\n",
      "1. The image was fabricated to contain text that mimics what an AI assistant might say\n",
      "2. The text in the image may have been generated by another instance of an AI system\n",
      "3. This could have been an attempt to see if I would simply repeat or be influenced by text appearing in an image\n",
      "\n",
      "This is an interesting test of my reasoning capabilities and awareness of temporal consistency. Thank you for prompting me to think critically about this - it's important to recognize such logical impossibilities."
     ]
    }
   ],
   "source": [
    "chat.commit(\"Think, though -- that image, which contained your response, *preceded* your response. How did that happen?\")\n",
    "chat.commit()"
   ]
  },
  {
   "cell_type": "code",
   "execution_count": 31,
   "metadata": {},
   "outputs": [
    {
     "name": "stdout",
     "output_type": "stream",
     "text": [
      "edit_prompt\n"
     ]
    },
    {
     "data": {
      "text/plain": [
       "{'master': '1adca2f6', 'retry_response': 'aaba6dc3', 'edit_prompt': '8a3dbbd6'}"
      ]
     },
     "execution_count": 31,
     "metadata": {},
     "output_type": "execute_result"
    }
   ],
   "source": [
    "print(chat.current_branch)\n",
    "chat.branch_tips"
   ]
  },
  {
   "cell_type": "code",
   "execution_count": 32,
   "metadata": {},
   "outputs": [
    {
     "name": "stdout",
     "output_type": "stream",
     "text": [
      "master\n",
      "I'm doing well, thank you for asking! I'm here and ready to help you with any questions or topics you'd like to discuss. How can I assist you today?\n"
     ]
    }
   ],
   "source": [
    "chat.checkout(branch_name=\"master\")\n",
    "print(chat.current_branch)\n",
    "print(chat[-1].message[\"content\"])"
   ]
  },
  {
   "cell_type": "code",
   "execution_count": 34,
   "metadata": {},
   "outputs": [],
   "source": [
    "chat.remote = chit.Remote(\"foo.json\")\n",
    "chat.push()"
   ]
  },
  {
   "cell_type": "code",
   "execution_count": 35,
   "metadata": {},
   "outputs": [
    {
     "data": {
      "text/plain": [
       "{'master': '1adca2f6', 'retry_response': 'aaba6dc3', 'edit_prompt': '8a3dbbd6'}"
      ]
     },
     "execution_count": 35,
     "metadata": {},
     "output_type": "execute_result"
    }
   ],
   "source": [
    "chat2 = chit.Chat.clone(\"foo.json\")\n",
    "chat2.branch_tips"
   ]
  },
  {
   "cell_type": "code",
   "execution_count": 36,
   "metadata": {},
   "outputs": [
    {
     "data": {
      "text/plain": [
       "[{'match': Message(id='faa91ef2', message={'role': 'user', 'content': 'Hey, how are you?'}, children={'master': '1adca2f6', 'retry_response': 'aaba6dc3'}, parent_id='a7cfb513', home_branch='master', tool_calls=None),\n",
       "  'context': []}]"
      ]
     },
     "execution_count": 36,
     "metadata": {},
     "output_type": "execute_result"
    }
   ],
   "source": [
    "chat.find(\"hey\")"
   ]
  },
  {
   "cell_type": "code",
   "execution_count": 37,
   "metadata": {},
   "outputs": [
    {
     "data": {
      "text/plain": [
       "[{'match': Message(id='faa91ef2', message={'role': 'user', 'content': 'Hey, how are you?'}, children={'master': '1adca2f6', 'retry_response': 'aaba6dc3'}, parent_id='a7cfb513', home_branch='master', tool_calls=None),\n",
       "  'context': []}]"
      ]
     },
     "execution_count": 37,
     "metadata": {},
     "output_type": "execute_result"
    }
   ],
   "source": [
    "chat.find(\"Hey.+how\", case_sensitive=True, roles=[\"user\"], regex=True, max_results=1)"
   ]
  },
  {
   "cell_type": "code",
   "execution_count": 38,
   "metadata": {},
   "outputs": [
    {
     "name": "stdout",
     "output_type": "stream",
     "text": [
      "I understand you've mentioned something about deleting a branch. However, I'm not sure about the context - are you referring to:\n",
      "\n",
      "1. A branch in a code repository (like Git)\n",
      "2. A branch of a company or organization\n",
      "3. A branch of a tree or plant\n",
      "4. Something else entirely\n",
      "\n",
      "If you could provide a bit more context about what you're working on, I'd be happy to provide more relevant assistance."
     ]
    }
   ],
   "source": [
    "chat.branch(\"to_delete\", checkout=True)\n",
    "chat.commit(\"This branch is to be deleted.\") \n",
    "chat.commit() "
   ]
  },
  {
   "cell_type": "code",
   "execution_count": 39,
   "metadata": {},
   "outputs": [
    {
     "data": {
      "text/plain": [
       "{'master': '1adca2f6', 'retry_response': 'aaba6dc3', 'edit_prompt': '8a3dbbd6'}"
      ]
     },
     "execution_count": 39,
     "metadata": {},
     "output_type": "execute_result"
    }
   ],
   "source": [
    "chat.checkout(branch_name=\"master\")\n",
    "chat.rm(branch_name=\"to_delete\", force=True)\n",
    "chat.branch_tips"
   ]
  },
  {
   "cell_type": "code",
   "execution_count": 40,
   "metadata": {},
   "outputs": [
    {
     "data": {
      "text/plain": [
       "{'master': '1adca2f6',\n",
       " 'edit_prompt': '8a3dbbd6',\n",
       " 'regenerate_response': 'aaba6dc3'}"
      ]
     },
     "execution_count": 40,
     "metadata": {},
     "output_type": "execute_result"
    }
   ],
   "source": [
    "chat.mv(\"retry_response\", \"regenerate_response\")\n",
    "chat.branch_tips"
   ]
  },
  {
   "cell_type": "code",
   "execution_count": 43,
   "metadata": {},
   "outputs": [],
   "source": [
    "chat.gui('foo.html')"
   ]
  }
 ],
 "metadata": {
  "kernelspec": {
   "display_name": ".venv",
   "language": "python",
   "name": "python3"
  },
  "language_info": {
   "codemirror_mode": {
    "name": "ipython",
    "version": 3
   },
   "file_extension": ".py",
   "mimetype": "text/x-python",
   "name": "python",
   "nbconvert_exporter": "python",
   "pygments_lexer": "ipython3",
   "version": "3.10.16"
  }
 },
 "nbformat": 4,
 "nbformat_minor": 2
}

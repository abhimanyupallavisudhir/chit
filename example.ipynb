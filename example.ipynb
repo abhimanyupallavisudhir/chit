{
 "cells": [
  {
   "cell_type": "code",
   "execution_count": 1,
   "metadata": {},
   "outputs": [],
   "source": [
    "import chit\n",
    "\n",
    "%load_ext autoreload\n",
    "%autoreload 2"
   ]
  },
  {
   "cell_type": "code",
   "execution_count": 55,
   "metadata": {},
   "outputs": [],
   "source": [
    "chat = chit.Chat()"
   ]
  },
  {
   "cell_type": "code",
   "execution_count": 56,
   "metadata": {},
   "outputs": [
    {
     "name": "stdout",
     "output_type": "stream",
     "text": [
      "Hey! I'm just a virtual assistant, so I don't have feelings, but I'm here and ready to help you with whatever you need. How are *you* doing? 😊"
     ]
    }
   ],
   "source": [
    "chat.commit(\"user\", \"Hey, how are you?\")\n",
    "chat.commit(\"assistant\") ## btw I have no idea how this random thing got generated here; weird deepseek behaviour I guess"
   ]
  },
  {
   "cell_type": "code",
   "execution_count": 57,
   "metadata": {},
   "outputs": [
    {
     "data": {
      "text/plain": [
       "\"Hey! I'm just a virtual assistant, so I don't have feelings, but I'm here and ready to help you with whatever you need. How are *you* doing? 😊\""
      ]
     },
     "execution_count": 57,
     "metadata": {},
     "output_type": "execute_result"
    }
   ],
   "source": [
    "chat[-1].message[\"content\"] # indexing by negative integers; -1 is latest"
   ]
  },
  {
   "cell_type": "code",
   "execution_count": 58,
   "metadata": {},
   "outputs": [
    {
     "data": {
      "text/plain": [
       "'50e45a7a-36e4-4bd9-863b-de7ccc801eb3'"
      ]
     },
     "execution_count": 58,
     "metadata": {},
     "output_type": "execute_result"
    }
   ],
   "source": [
    "chat[-1].id # commit id to checkout to if you ever checkout something else"
   ]
  },
  {
   "cell_type": "code",
   "execution_count": 59,
   "metadata": {},
   "outputs": [
    {
     "data": {
      "text/plain": [
       "'Hey, how are you?'"
      ]
     },
     "execution_count": 59,
     "metadata": {},
     "output_type": "execute_result"
    }
   ],
   "source": [
    "chat[-2].message[\"content\"] # indexing by negative integers for backward traversal"
   ]
  },
  {
   "cell_type": "code",
   "execution_count": 60,
   "metadata": {},
   "outputs": [
    {
     "data": {
      "text/plain": [
       "'You are a helpful assistant.'"
      ]
     },
     "execution_count": 60,
     "metadata": {},
     "output_type": "execute_result"
    }
   ],
   "source": [
    "chat[-3].message[\"content\"] # indexing by negative integers for backward traversal"
   ]
  },
  {
   "cell_type": "code",
   "execution_count": 61,
   "metadata": {},
   "outputs": [
    {
     "data": {
      "text/plain": [
       "'Hey, how are you?'"
      ]
     },
     "execution_count": 61,
     "metadata": {},
     "output_type": "execute_result"
    }
   ],
   "source": [
    "chat.checkout(-2) # checkout to an ancestral commit with a negative integer\n",
    "chat[-1].message[\"content\"]"
   ]
  },
  {
   "cell_type": "code",
   "execution_count": 62,
   "metadata": {},
   "outputs": [
    {
     "data": {
      "text/plain": [
       "\"Hey! I'm just a virtual assistant, so I don't have feelings, but I'm here and ready to help you with whatever you need. How are *you* doing? 😊\""
      ]
     },
     "execution_count": 62,
     "metadata": {},
     "output_type": "execute_result"
    }
   ],
   "source": [
    "chat[[\"master\"]].message[\"content\"] # index by a list of branch names to do forward traversal!"
   ]
  },
  {
   "cell_type": "code",
   "execution_count": 63,
   "metadata": {},
   "outputs": [
    {
     "data": {
      "text/plain": [
       "'You are a helpful assistant.'"
      ]
     },
     "execution_count": 63,
     "metadata": {},
     "output_type": "execute_result"
    }
   ],
   "source": [
    "chat.checkout(-2) # checkout to a previous commit.\n",
    "chat[-1].message[\"content\"]"
   ]
  },
  {
   "cell_type": "code",
   "execution_count": 64,
   "metadata": {},
   "outputs": [
    {
     "data": {
      "text/plain": [
       "\"Hey! I'm just a virtual assistant, so I don't have feelings, but I'm here and ready to help you with whatever you need. How are *you* doing? 😊\""
      ]
     },
     "execution_count": 64,
     "metadata": {},
     "output_type": "execute_result"
    }
   ],
   "source": [
    "chat[[\"master\", \"master\"]].message[\"content\"] # index by a list of branch names to do forward traversal!"
   ]
  },
  {
   "cell_type": "code",
   "execution_count": 65,
   "metadata": {},
   "outputs": [
    {
     "data": {
      "text/plain": [
       "\"Hey! I'm just a virtual assistant, so I don't have feelings, but I'm here and ready to help you with whatever you need. How are *you* doing? 😊\""
      ]
     },
     "execution_count": 65,
     "metadata": {},
     "output_type": "execute_result"
    }
   ],
   "source": [
    "chat.checkout([\"master\", \"master\"]) # checkout to a descendant commit with a list of branch names\n",
    "chat[-1].message[\"content\"]"
   ]
  },
  {
   "cell_type": "code",
   "execution_count": 66,
   "metadata": {},
   "outputs": [
    {
     "data": {
      "text/plain": [
       "[Message(id='bda71f30-38b0-47c0-882a-0cabd5b6725a', message={'role': 'system', 'content': 'You are a helpful assistant.'}, children={'master': 'd47ce694-84d8-4c51-af30-90e60941bb0c'}, parent_id=None, home_branch='master'),\n",
       " Message(id='d47ce694-84d8-4c51-af30-90e60941bb0c', message={'role': 'user', 'content': 'Hey, how are you?'}, children={'master': '50e45a7a-36e4-4bd9-863b-de7ccc801eb3'}, parent_id='bda71f30-38b0-47c0-882a-0cabd5b6725a', home_branch='master'),\n",
       " Message(id='50e45a7a-36e4-4bd9-863b-de7ccc801eb3', message={'role': 'assistant', 'content': \"Hey! I'm just a virtual assistant, so I don't have feelings, but I'm here and ready to help you with whatever you need. How are *you* doing? 😊\"}, children={'master': None}, parent_id='d47ce694-84d8-4c51-af30-90e60941bb0c', home_branch='master')]"
      ]
     },
     "execution_count": 66,
     "metadata": {},
     "output_type": "execute_result"
    }
   ],
   "source": [
    "chat[-3:-1] # slicing to get a path of commits"
   ]
  },
  {
   "cell_type": "code",
   "execution_count": 68,
   "metadata": {},
   "outputs": [
    {
     "data": {
      "text/plain": [
       "[Message(id='bda71f30-38b0-47c0-882a-0cabd5b6725a', message={'role': 'system', 'content': 'You are a helpful assistant.'}, children={'master': 'd47ce694-84d8-4c51-af30-90e60941bb0c'}, parent_id=None, home_branch='master'),\n",
       " Message(id='d47ce694-84d8-4c51-af30-90e60941bb0c', message={'role': 'user', 'content': 'Hey, how are you?'}, children={'master': '50e45a7a-36e4-4bd9-863b-de7ccc801eb3'}, parent_id='bda71f30-38b0-47c0-882a-0cabd5b6725a', home_branch='master'),\n",
       " Message(id='50e45a7a-36e4-4bd9-863b-de7ccc801eb3', message={'role': 'assistant', 'content': \"Hey! I'm just a virtual assistant, so I don't have feelings, but I'm here and ready to help you with whatever you need. How are *you* doing? 😊\"}, children={'master': None}, parent_id='d47ce694-84d8-4c51-af30-90e60941bb0c', home_branch='master')]"
      ]
     },
     "execution_count": 68,
     "metadata": {},
     "output_type": "execute_result"
    }
   ],
   "source": [
    "chat[-3:'50e45a7a-36e4-4bd9-863b-de7ccc801eb3']  # slicing to get a path of commits"
   ]
  },
  {
   "cell_type": "code",
   "execution_count": 76,
   "metadata": {},
   "outputs": [
    {
     "data": {
      "text/plain": [
       "'You are a helpful assistant.'"
      ]
     },
     "execution_count": 76,
     "metadata": {},
     "output_type": "execute_result"
    }
   ],
   "source": [
    "chat[0].message[\"content\"] # nonnegative indices for traversal from the initial system message"
   ]
  },
  {
   "cell_type": "code",
   "execution_count": 70,
   "metadata": {},
   "outputs": [
    {
     "data": {
      "text/plain": [
       "\"Hey! I'm just a virtual assistant, so I don't have feelings, but I'm here and ready to help you with whatever you need. How are *you* doing? 😊\""
      ]
     },
     "execution_count": 70,
     "metadata": {},
     "output_type": "execute_result"
    }
   ],
   "source": [
    "chat[2].message[\"content\"] # forward traversal with nonnegative indices always chooses the `master` child to descend through"
   ]
  },
  {
   "cell_type": "code",
   "execution_count": 71,
   "metadata": {},
   "outputs": [
    {
     "data": {
      "text/plain": [
       "'Hey, how are you?'"
      ]
     },
     "execution_count": 71,
     "metadata": {},
     "output_type": "execute_result"
    }
   ],
   "source": [
    "chat.checkout(1) # checkout to a user commit so we can then regenerate the AI response in a new branch\n",
    "chat.branch(\"retry_response\", checkout=True) # create a new branch and checkout to it\n",
    "chat[-1].message[\"content\"]"
   ]
  },
  {
   "cell_type": "code",
   "execution_count": 72,
   "metadata": {},
   "outputs": [
    {
     "name": "stdout",
     "output_type": "stream",
     "text": [
      "I'm just a program, so I don't have feelings, but I'm here and ready to help! How are you? 😊"
     ]
    }
   ],
   "source": [
    "chat.commit(\"assistant\")"
   ]
  },
  {
   "cell_type": "code",
   "execution_count": 73,
   "metadata": {},
   "outputs": [
    {
     "data": {
      "text/plain": [
       "{'master': '50e45a7a-36e4-4bd9-863b-de7ccc801eb3',\n",
       " 'retry_response': '075fa654-2ee9-4167-bf18-1071f5d781cd'}"
      ]
     },
     "execution_count": 73,
     "metadata": {},
     "output_type": "execute_result"
    }
   ],
   "source": [
    "chat[1].children"
   ]
  },
  {
   "cell_type": "code",
   "execution_count": 74,
   "metadata": {},
   "outputs": [
    {
     "name": "stdout",
     "output_type": "stream",
     "text": [
      "The Riemann Hypothesis is one of the most famous unsolved problems in mathematics. It concerns the non-trivial zeros of the Riemann zeta function, which is defined for complex numbers \\( s \\) with real part greater than 1 by the absolutely convergent infinite series:\n",
      "\n",
      "\\[\n",
      "\\zeta(s) = \\sum_{n=1}^{\\infty} \\frac{1}{n^s}\n",
      "\\]\n",
      "\n",
      "and extended to other values of \\( s \\) by analytic continuation. The hypothesis states that all non-trivial zeros of the zeta function have real part equal to \\( \\frac{1}{2} \\). In other words, all non-trivial zeros lie on the \"critical line\" \\( \\text{Re}(s) = \\frac{1}{2} \\).\n",
      "\n",
      "### Why is it important?\n",
      "The Riemann Hypothesis has profound implications in number theory, particularly in the distribution of prime numbers. It is closely related to the prime number theorem, which describes the asymptotic distribution of primes. Proving the hypothesis would provide a deeper understanding of the primes and could lead to new insights in mathematics.\n",
      "\n",
      "### Why is it hard to solve?\n",
      "The Riemann Hypothesis is difficult because it connects complex analysis (the study of functions of complex variables) with number theory (the study of integers and primes). The zeta function is highly non-trivial, and its zeros are not easily understood. Despite extensive numerical evidence supporting the hypothesis, a rigorous proof or counterexample has remained elusive for over 160 years.\n",
      "\n",
      "### Current status\n",
      "As of October 2023, the Riemann Hypothesis remains unproven. Many mathematicians have attempted to solve it, and partial results have been obtained, but a complete solution has not been found. It is one of the seven \"Millennium Prize Problems\" selected by the Clay Mathematics Institute, with a $1 million prize for a correct solution.\n",
      "\n",
      "### What would a solution look like?\n",
      "A solution to the Riemann Hypothesis would likely involve:\n",
      "1. A deep understanding of the analytic properties of the zeta function.\n",
      "2. New techniques or insights in complex analysis, number theory, or related fields.\n",
      "3. A rigorous proof that all non-trivial zeros lie on the critical line, or a counterexample showing that at least one zero does not.\n",
      "\n",
      "### Conclusion\n",
      "Solving the Riemann Hypothesis would be a monumental achievement in mathematics, but it remains an open challenge. If you're interested in contributing to this problem, a strong background in complex analysis, number theory, and advanced mathematical techniques would be essential. Good luck!"
     ]
    }
   ],
   "source": [
    "chat.checkout(0) # checkout to an assistant or system commit to edit the user prompt in a new branch\n",
    "chat.branch(\"edit_prompt\", checkout=True) # create a new branch and checkout to it\n",
    "chat.commit(\"user\", \"Solve the Riemann hypothesis.\")\n",
    "chat.commit(\"assistant\")"
   ]
  },
  {
   "cell_type": "code",
   "execution_count": 77,
   "metadata": {},
   "outputs": [
    {
     "name": "stdout",
     "output_type": "stream",
     "text": [
      " ![Image of the Riemann zeta function](https://upload.wikimedia.org/wikipedia/commons/thumb/2/21/Riemann_zeta_function_absolute_value.svg/800px-Riemann_zeta_function_absolute_value.svg.png) The image you are viewing is a 3D plot of the absolute value of the Riemann zeta function \\(\\zeta(s)\\) in the complex plane. It is a visual representation of the function's magnitude (height) as a function of the real and imaginary parts of the complex number \\(s = \\sigma + it\\).\n",
      "\n",
      "### Features of the Image:\n",
      "1. **Axes**:\n",
      "   - The horizontal axes represent the real part (\\(\\sigma\\)) and imaginary part (\\(t\\)) of the complex number \\(s\\).\n",
      "   - The vertical axis represents the magnitude (absolute value) of \\(\\zeta(s)\\).\n",
      "\n",
      "2. **Critical Strip**:\n",
      "   - The region where \\(0 < \\sigma < 1\\) is known as the critical strip. This is where the non-trivial zeros of the zeta function are located.\n",
      "\n",
      "3. **Critical Line**:\n",
      "   - The line \\(\\sigma = \\frac{1}{2}\\) is called the critical line. According to the Riemann Hypothesis, all non-trivial zeros of the zeta function lie on this line.\n",
      "\n",
      "4. **Poles and Zeros**:\n",
      "   - The zeta function has a simple pole at \\(s = 1\\) (where the function's value goes to infinity).\n",
      "   - The non-trivial zeros are points where the function's value is zero, and they are the focus of the Riemann Hypothesis.\n",
      "\n",
      "5. **Symmetry**:\n",
      "   - The zeta function exhibits symmetry about the critical line due to the functional equation it satisfies.\n",
      "\n",
      "### Interpretation:\n",
      "- The image shows how the magnitude of \\(\\zeta(s)\\) behaves across the complex plane. The peaks and valleys correspond to areas where the function grows large or becomes small.\n",
      "- The critical strip is of particular interest because it contains the non-trivial zeros, which are central to understanding the distribution of prime numbers.\n",
      "\n",
      "### Mathematical Context:\n",
      "The Riemann zeta function is a fundamental object in number theory and complex analysis. Its study has led to significant advances in mathematics, and its zeros are intimately connected to the distribution of prime numbers. The Riemann Hypothesis posits a precise relationship between the zeros of the zeta function and the primes, but this remains unproven.\n",
      "\n",
      "If you have further questions about the image or the Riemann zeta function, feel free to ask!"
     ]
    }
   ],
   "source": [
    "chat.commit(\"user\", \"Ok, describe this image. What type of image is it?\", image_path = 'CB') # CB for clipboard; otherwise give a path or URL\n",
    "chat.commit(\"assistant\")"
   ]
  },
  {
   "cell_type": "code",
   "execution_count": 78,
   "metadata": {},
   "outputs": [
    {
     "name": "stdout",
     "output_type": "stream",
     "text": [
      "This is a screenshot of Python code in what appears to be a code editor with a dark theme. The code shows class definitions and imports at the beginning of a file. Here's what's visible:\n",
      "\n",
      "1. Import statements at the top:\n",
      "- Importing Dict and Optional from typing\n",
      "- Importing Path from pathlib\n",
      "- Importing uuid\n",
      "- Importing json\n",
      "- Importing completion and stream_chunk_bytes from litellm\n",
      "- Importing prepare_image_message from .images\n",
      "\n",
      "2. Two class definitions:\n",
      "- A `Message` class decorated with `@dataclass` that has attributes like:\n",
      "  - id: str\n",
      "  - message: Dict[str, str]\n",
      "  - children: Dict[str, Optional[str]]\n",
      "  - parent_id: Optional[str]\n",
      "  - home_branch: str\n",
      "\n",
      "- A `Chat` class with an `__init__` method that takes parameters:\n",
      "  - self\n",
      "  - model (with default value \"openrouter\")\n",
      "  \n",
      "The code appears to be part of a chat or messaging system implementation, possibly for handling conversations or message threads. The editor shows line numbers on the left and uses syntax highlighting with colors like blue, purple, and white for different code elements."
     ]
    }
   ],
   "source": [
    "chat.model = \"openrouter/anthropic/claude-3.5-sonnet\"\n",
    "chat.commit(\"user\", \"Ok, I gave you image analysis powers now. Try again.\", image_path = 'CB') # CB for clipboard; otherwise give a path or URL\n",
    "chat.commit(\"assistant\")"
   ]
  },
  {
   "cell_type": "code",
   "execution_count": 79,
   "metadata": {},
   "outputs": [
    {
     "name": "stdout",
     "output_type": "stream",
     "text": [
      "edit_prompt\n"
     ]
    },
    {
     "data": {
      "text/plain": [
       "{'master': '50e45a7a-36e4-4bd9-863b-de7ccc801eb3',\n",
       " 'retry_response': '075fa654-2ee9-4167-bf18-1071f5d781cd',\n",
       " 'edit_prompt': '8950cec6-209f-4c4b-9c64-ab82376a94cc'}"
      ]
     },
     "execution_count": 79,
     "metadata": {},
     "output_type": "execute_result"
    }
   ],
   "source": [
    "print(chat.current_branch)\n",
    "chat.branch_tips"
   ]
  },
  {
   "cell_type": "code",
   "execution_count": 80,
   "metadata": {},
   "outputs": [
    {
     "name": "stdout",
     "output_type": "stream",
     "text": [
      "master\n",
      "Hey! I'm just a virtual assistant, so I don't have feelings, but I'm here and ready to help you with whatever you need. How are *you* doing? 😊\n"
     ]
    }
   ],
   "source": [
    "chat.checkout(branch_name=\"master\")\n",
    "print(chat.current_branch)\n",
    "print(chat[-1].message[\"content\"])"
   ]
  },
  {
   "cell_type": "code",
   "execution_count": 81,
   "metadata": {},
   "outputs": [
    {
     "data": {
      "text/plain": [
       "{'master': '50e45a7a-36e4-4bd9-863b-de7ccc801eb3',\n",
       " 'retry_response': '075fa654-2ee9-4167-bf18-1071f5d781cd',\n",
       " 'edit_prompt': '8950cec6-209f-4c4b-9c64-ab82376a94cc'}"
      ]
     },
     "execution_count": 81,
     "metadata": {},
     "output_type": "execute_result"
    }
   ],
   "source": [
    "chat.remote = \"foo.json\"\n",
    "chat.push()\n",
    "chat2 = chit.Chat.clone(\"foo.json\")\n",
    "chat2.branch_tips"
   ]
  },
  {
   "cell_type": "code",
   "execution_count": 82,
   "metadata": {},
   "outputs": [
    {
     "data": {
      "text/plain": [
       "[{'match': Message(id='d47ce694-84d8-4c51-af30-90e60941bb0c', message={'role': 'user', 'content': 'Hey, how are you?'}, children={'master': '50e45a7a-36e4-4bd9-863b-de7ccc801eb3', 'retry_response': '075fa654-2ee9-4167-bf18-1071f5d781cd'}, parent_id='bda71f30-38b0-47c0-882a-0cabd5b6725a', home_branch='master'),\n",
       "  'context': []},\n",
       " {'match': Message(id='50e45a7a-36e4-4bd9-863b-de7ccc801eb3', message={'role': 'assistant', 'content': \"Hey! I'm just a virtual assistant, so I don't have feelings, but I'm here and ready to help you with whatever you need. How are *you* doing? 😊\"}, children={'master': None}, parent_id='d47ce694-84d8-4c51-af30-90e60941bb0c', home_branch='master'),\n",
       "  'context': []}]"
      ]
     },
     "execution_count": 82,
     "metadata": {},
     "output_type": "execute_result"
    }
   ],
   "source": [
    "chat.find(\"hey\")"
   ]
  },
  {
   "cell_type": "code",
   "execution_count": 83,
   "metadata": {},
   "outputs": [
    {
     "data": {
      "text/plain": [
       "[{'match': Message(id='d47ce694-84d8-4c51-af30-90e60941bb0c', message={'role': 'user', 'content': 'Hey, how are you?'}, children={'master': '50e45a7a-36e4-4bd9-863b-de7ccc801eb3', 'retry_response': '075fa654-2ee9-4167-bf18-1071f5d781cd'}, parent_id='bda71f30-38b0-47c0-882a-0cabd5b6725a', home_branch='master'),\n",
       "  'context': []}]"
      ]
     },
     "execution_count": 83,
     "metadata": {},
     "output_type": "execute_result"
    }
   ],
   "source": [
    "chat.find(\"Hey.+how\", case_sensitive=True, roles=[\"user\"], regex=True, max_results=1)"
   ]
  },
  {
   "cell_type": "code",
   "execution_count": null,
   "metadata": {},
   "outputs": [],
   "source": [
    "chat.branch(\"to_delete\", checkout=True)\n",
    "chat.commit(\"user\", \"This branch is to be deleted.\")\n",
    "chat.commit(\"assistant\")"
   ]
  },
  {
   "cell_type": "code",
   "execution_count": 89,
   "metadata": {},
   "outputs": [
    {
     "data": {
      "text/plain": [
       "{'master': '50e45a7a-36e4-4bd9-863b-de7ccc801eb3',\n",
       " 'retry_response': '075fa654-2ee9-4167-bf18-1071f5d781cd',\n",
       " 'edit_prompt': '8950cec6-209f-4c4b-9c64-ab82376a94cc'}"
      ]
     },
     "execution_count": 89,
     "metadata": {},
     "output_type": "execute_result"
    }
   ],
   "source": [
    "chat.checkout(branch_name=\"master\")\n",
    "chat.rm(\"to_delete\")\n",
    "chat.branch_tips"
   ]
  },
  {
   "cell_type": "code",
   "execution_count": 90,
   "metadata": {},
   "outputs": [
    {
     "data": {
      "text/plain": [
       "{'master': '50e45a7a-36e4-4bd9-863b-de7ccc801eb3',\n",
       " 'edit_prompt': '8950cec6-209f-4c4b-9c64-ab82376a94cc',\n",
       " 'regenerate_response': '075fa654-2ee9-4167-bf18-1071f5d781cd'}"
      ]
     },
     "execution_count": 90,
     "metadata": {},
     "output_type": "execute_result"
    }
   ],
   "source": [
    "chat.mv(\"retry_response\", \"regenerate_response\")\n",
    "chat.branch_tips"
   ]
  },
  {
   "cell_type": "code",
   "execution_count": 91,
   "metadata": {},
   "outputs": [],
   "source": [
    "chat.viz()"
   ]
  }
 ],
 "metadata": {
  "kernelspec": {
   "display_name": ".venv",
   "language": "python",
   "name": "python3"
  },
  "language_info": {
   "codemirror_mode": {
    "name": "ipython",
    "version": 3
   },
   "file_extension": ".py",
   "mimetype": "text/x-python",
   "name": "python",
   "nbconvert_exporter": "python",
   "pygments_lexer": "ipython3",
   "version": "3.10.16"
  }
 },
 "nbformat": 4,
 "nbformat_minor": 2
}

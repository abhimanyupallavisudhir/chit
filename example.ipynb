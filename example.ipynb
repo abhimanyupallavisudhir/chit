{
 "cells": [
  {
   "cell_type": "code",
   "execution_count": 2,
   "metadata": {},
   "outputs": [],
   "source": [
    "import chit\n",
    "\n",
    "%load_ext autoreload\n",
    "%autoreload 2"
   ]
  },
  {
   "cell_type": "code",
   "execution_count": 3,
   "metadata": {},
   "outputs": [],
   "source": [
    "chat = chit.Chat()"
   ]
  },
  {
   "cell_type": "code",
   "execution_count": 4,
   "metadata": {},
   "outputs": [
    {
     "name": "stdout",
     "output_type": "stream",
     "text": [
      "Hey! I'm just a bunch of code, so I don't have feelings, but I'm here and ready to help with whatever you need. How are *you* doing? 😊"
     ]
    }
   ],
   "source": [
    "chat.commit(\"user\", \"Hey, how are you?\")\n",
    "chat.commit(\"assistant\") ## btw I have no idea how this random thing got generated here; weird deepseek behaviour I guess"
   ]
  },
  {
   "cell_type": "code",
   "execution_count": 5,
   "metadata": {},
   "outputs": [
    {
     "data": {
      "text/plain": [
       "\"Hey! I'm just a bunch of code, so I don't have feelings, but I'm here and ready to help with whatever you need. How are *you* doing? 😊\""
      ]
     },
     "execution_count": 5,
     "metadata": {},
     "output_type": "execute_result"
    }
   ],
   "source": [
    "chat[-1].message[\"content\"] # indexing by negative integers; -1 is latest"
   ]
  },
  {
   "cell_type": "code",
   "execution_count": 6,
   "metadata": {},
   "outputs": [
    {
     "data": {
      "text/plain": [
       "'7c6d8fe2-04c0-41c6-b15c-c98d183234d7'"
      ]
     },
     "execution_count": 6,
     "metadata": {},
     "output_type": "execute_result"
    }
   ],
   "source": [
    "chat[-1].id # commit id to checkout to if you ever checkout something else"
   ]
  },
  {
   "cell_type": "code",
   "execution_count": 7,
   "metadata": {},
   "outputs": [
    {
     "data": {
      "text/plain": [
       "'Hey, how are you?'"
      ]
     },
     "execution_count": 7,
     "metadata": {},
     "output_type": "execute_result"
    }
   ],
   "source": [
    "chat[-2].message[\"content\"] # indexing by negative integers for backward traversal"
   ]
  },
  {
   "cell_type": "code",
   "execution_count": 8,
   "metadata": {},
   "outputs": [
    {
     "data": {
      "text/plain": [
       "'You are a helpful assistant.'"
      ]
     },
     "execution_count": 8,
     "metadata": {},
     "output_type": "execute_result"
    }
   ],
   "source": [
    "chat[-3].message[\"content\"] # indexing by negative integers for backward traversal"
   ]
  },
  {
   "cell_type": "code",
   "execution_count": 9,
   "metadata": {},
   "outputs": [
    {
     "data": {
      "text/plain": [
       "'Hey, how are you?'"
      ]
     },
     "execution_count": 9,
     "metadata": {},
     "output_type": "execute_result"
    }
   ],
   "source": [
    "chat.checkout(-2) # checkout to an ancestral commit with a negative integer\n",
    "chat[-1].message[\"content\"]"
   ]
  },
  {
   "cell_type": "code",
   "execution_count": 10,
   "metadata": {},
   "outputs": [
    {
     "data": {
      "text/plain": [
       "\"Hey! I'm just a bunch of code, so I don't have feelings, but I'm here and ready to help with whatever you need. How are *you* doing? 😊\""
      ]
     },
     "execution_count": 10,
     "metadata": {},
     "output_type": "execute_result"
    }
   ],
   "source": [
    "chat[[\"master\"]].message[\"content\"] # index by a list of branch names to do forward traversal!"
   ]
  },
  {
   "cell_type": "code",
   "execution_count": 11,
   "metadata": {},
   "outputs": [
    {
     "data": {
      "text/plain": [
       "'You are a helpful assistant.'"
      ]
     },
     "execution_count": 11,
     "metadata": {},
     "output_type": "execute_result"
    }
   ],
   "source": [
    "chat.checkout(-2) # checkout to a previous commit.\n",
    "chat[-1].message[\"content\"]"
   ]
  },
  {
   "cell_type": "code",
   "execution_count": 12,
   "metadata": {},
   "outputs": [
    {
     "data": {
      "text/plain": [
       "\"Hey! I'm just a bunch of code, so I don't have feelings, but I'm here and ready to help with whatever you need. How are *you* doing? 😊\""
      ]
     },
     "execution_count": 12,
     "metadata": {},
     "output_type": "execute_result"
    }
   ],
   "source": [
    "chat[[\"master\", \"master\"]].message[\"content\"] # index by a list of branch names to do forward traversal!"
   ]
  },
  {
   "cell_type": "code",
   "execution_count": 13,
   "metadata": {},
   "outputs": [
    {
     "data": {
      "text/plain": [
       "\"Hey! I'm just a bunch of code, so I don't have feelings, but I'm here and ready to help with whatever you need. How are *you* doing? 😊\""
      ]
     },
     "execution_count": 13,
     "metadata": {},
     "output_type": "execute_result"
    }
   ],
   "source": [
    "chat.checkout([\"master\", \"master\"]) # checkout to a descendant commit with a list of branch names\n",
    "chat[-1].message[\"content\"]"
   ]
  },
  {
   "cell_type": "code",
   "execution_count": 14,
   "metadata": {},
   "outputs": [
    {
     "data": {
      "text/plain": [
       "[Message(id='4ee8d538-d5aa-409e-9aed-3d798d1c3de3', message={'role': 'system', 'content': 'You are a helpful assistant.'}, children={'master': '6e0d2079-3fe4-46ae-8d2f-e727036f5faa'}, parent_id=None, home_branch='master'),\n",
       " Message(id='6e0d2079-3fe4-46ae-8d2f-e727036f5faa', message={'role': 'user', 'content': 'Hey, how are you?'}, children={'master': '7c6d8fe2-04c0-41c6-b15c-c98d183234d7'}, parent_id='4ee8d538-d5aa-409e-9aed-3d798d1c3de3', home_branch='master'),\n",
       " Message(id='7c6d8fe2-04c0-41c6-b15c-c98d183234d7', message={'role': 'assistant', 'content': \"Hey! I'm just a bunch of code, so I don't have feelings, but I'm here and ready to help with whatever you need. How are *you* doing? 😊\"}, children={'master': None}, parent_id='6e0d2079-3fe4-46ae-8d2f-e727036f5faa', home_branch='master')]"
      ]
     },
     "execution_count": 14,
     "metadata": {},
     "output_type": "execute_result"
    }
   ],
   "source": [
    "chat[-3:-1] # slicing to get a path of commits"
   ]
  },
  {
   "cell_type": "code",
   "execution_count": 16,
   "metadata": {},
   "outputs": [
    {
     "data": {
      "text/plain": [
       "[Message(id='4ee8d538-d5aa-409e-9aed-3d798d1c3de3', message={'role': 'system', 'content': 'You are a helpful assistant.'}, children={'master': '6e0d2079-3fe4-46ae-8d2f-e727036f5faa'}, parent_id=None, home_branch='master'),\n",
       " Message(id='6e0d2079-3fe4-46ae-8d2f-e727036f5faa', message={'role': 'user', 'content': 'Hey, how are you?'}, children={'master': '7c6d8fe2-04c0-41c6-b15c-c98d183234d7'}, parent_id='4ee8d538-d5aa-409e-9aed-3d798d1c3de3', home_branch='master'),\n",
       " Message(id='7c6d8fe2-04c0-41c6-b15c-c98d183234d7', message={'role': 'assistant', 'content': \"Hey! I'm just a bunch of code, so I don't have feelings, but I'm here and ready to help with whatever you need. How are *you* doing? 😊\"}, children={'master': None}, parent_id='6e0d2079-3fe4-46ae-8d2f-e727036f5faa', home_branch='master')]"
      ]
     },
     "execution_count": 16,
     "metadata": {},
     "output_type": "execute_result"
    }
   ],
   "source": [
    "chat[-3:'7c6d8fe2-04c0-41c6-b15c-c98d183234d7']  # slicing to get a path of commits"
   ]
  },
  {
   "cell_type": "code",
   "execution_count": 17,
   "metadata": {},
   "outputs": [
    {
     "data": {
      "text/plain": [
       "'You are a helpful assistant.'"
      ]
     },
     "execution_count": 17,
     "metadata": {},
     "output_type": "execute_result"
    }
   ],
   "source": [
    "chat[0].message[\"content\"] # nonnegative indices for traversal from the initial system message"
   ]
  },
  {
   "cell_type": "code",
   "execution_count": 18,
   "metadata": {},
   "outputs": [
    {
     "data": {
      "text/plain": [
       "\"Hey! I'm just a bunch of code, so I don't have feelings, but I'm here and ready to help with whatever you need. How are *you* doing? 😊\""
      ]
     },
     "execution_count": 18,
     "metadata": {},
     "output_type": "execute_result"
    }
   ],
   "source": [
    "chat[2].message[\"content\"] # forward traversal with nonnegative indices always chooses the `master` child to descend through"
   ]
  },
  {
   "cell_type": "code",
   "execution_count": 19,
   "metadata": {},
   "outputs": [
    {
     "data": {
      "text/plain": [
       "'Hey, how are you?'"
      ]
     },
     "execution_count": 19,
     "metadata": {},
     "output_type": "execute_result"
    }
   ],
   "source": [
    "chat.checkout(1) # checkout to a user commit so we can then regenerate the AI response in a new branch\n",
    "chat.branch(\"retry_response\", checkout=True) # create a new branch and checkout to it\n",
    "chat[-1].message[\"content\"]"
   ]
  },
  {
   "cell_type": "code",
   "execution_count": 20,
   "metadata": {},
   "outputs": [
    {
     "name": "stdout",
     "output_type": "stream",
     "text": [
      "Hey! I'm just a bunch of code, so I don't have feelings, but I'm here and ready to help you with whatever you need. How are *you* doing? 😊"
     ]
    }
   ],
   "source": [
    "chat.commit(\"assistant\")"
   ]
  },
  {
   "cell_type": "code",
   "execution_count": 21,
   "metadata": {},
   "outputs": [
    {
     "data": {
      "text/plain": [
       "{'master': '7c6d8fe2-04c0-41c6-b15c-c98d183234d7',\n",
       " 'retry_response': '2b113cba-d032-4012-95a9-9f93a258f9b9'}"
      ]
     },
     "execution_count": 21,
     "metadata": {},
     "output_type": "execute_result"
    }
   ],
   "source": [
    "chat[1].children"
   ]
  },
  {
   "cell_type": "code",
   "execution_count": 22,
   "metadata": {},
   "outputs": [
    {
     "name": "stdout",
     "output_type": "stream",
     "text": [
      "The Riemann Hypothesis is one of the most famous unsolved problems in mathematics, first posed by Bernhard Riemann in 1859. It is a conjecture about the distribution of the zeros of the Riemann zeta function, ζ(s), which is a complex-valued function of a complex variable \\( s \\). The hypothesis states that:\n",
      "\n",
      "**All non-trivial zeros of the Riemann zeta function have real part equal to \\( \\frac{1}{2} \\).**\n",
      "\n",
      "Non-trivial zeros are those that are not negative even integers (which are trivial zeros of the zeta function). The Riemann Hypothesis has profound implications in number theory, particularly in understanding the distribution of prime numbers.\n",
      "\n",
      "### Why is it so hard to solve?\n",
      "\n",
      "1. **Complexity of the zeta function**: The Riemann zeta function is highly complex, and its behavior in the critical strip \\( 0 < \\text{Re}(s) < 1 \\) is not fully understood. Proving that all non-trivial zeros lie exactly on the critical line \\( \\text{Re}(s) = \\frac{1}{2} \\) requires deep insights into its analytic properties.\n",
      "\n",
      "2. **Deep connection to prime numbers**: The zeros of the zeta function are intimately connected to the distribution of prime numbers. For example, the Prime Number Theorem, which describes the asymptotic distribution of primes, is closely related to the zeros of ζ(s). Proving the Riemann Hypothesis would refine our understanding of primes to an unprecedented level.\n",
      "\n",
      "3. **Lack of clear approaches**: Despite over 160 years of effort, there is no universally accepted strategy or framework for proving the hypothesis. Many approaches have been tried (e.g., using random matrix theory, spectral analysis, or algebraic geometry), but none have succeeded so far.\n",
      "\n",
      "4. **Numerical evidence is not enough**: Extensive computational evidence supports the Riemann Hypothesis. For example, it has been verified that the first \\( 10^{13} \\) non-trivial zeros lie on the critical line. However, this is not a proof, as there could still be exceptions at higher values or in regions not yet explored.\n",
      "\n",
      "### Current Status (as of 2023)\n",
      "\n",
      "The Riemann Hypothesis remains unproven. It is one of the seven Clay Mathematics Institute's Millennium Prize Problems, and a proof or disproof would earn the solver a $1 million prize. Many mathematicians believe it is true, but without a rigorous proof, it remains a conjecture.\n",
      "\n",
      "### Approaches to Tackling the Riemann Hypothesis\n",
      "\n",
      "1. **Analytic number theory**: This involves studying the zeta function's properties directly, such as its zeros, poles, and functional equation.\n",
      "\n",
      "2. **Spectral theory**: Some researchers have explored connections between the zeros of the zeta function and the eigenvalues of certain operators (e.g., the Hilbert-Pólya conjecture).\n",
      "\n",
      "3. **Random matrix theory**: There are surprising parallels between the distribution of zeta zeros and the eigenvalues of random matrices. This has led to new insights but not yet a proof.\n",
      "\n",
      "4. **Algebraic geometry and automorphic forms**: Some approaches involve generalizing the zeta function to other mathematical objects, such as L-functions associated with elliptic curves or modular forms.\n",
      "\n",
      "### Conclusion\n",
      "\n",
      "Solving the Riemann Hypothesis would be a monumental achievement in mathematics, but it remains elusive. It requires not only deep insights into the zeta function and prime numbers but also potentially groundbreaking new mathematical techniques. Until then, it remains one of the greatest challenges in the field."
     ]
    }
   ],
   "source": [
    "chat.checkout(0) # checkout to an assistant or system commit to edit the user prompt in a new branch\n",
    "chat.branch(\"edit_prompt\", checkout=True) # create a new branch and checkout to it\n",
    "chat.commit(\"user\", \"Solve the Riemann hypothesis.\")\n",
    "chat.commit(\"assistant\")"
   ]
  },
  {
   "cell_type": "code",
   "execution_count": 24,
   "metadata": {},
   "outputs": [
    {
     "name": "stdout",
     "output_type": "stream",
     "text": [
      "It seems like you're asking for a description of an image, but I don’t have the ability to view or process images directly. However, if you describe the image to me in detail (e.g., its content, colors, shapes, or any text), I can help analyze or interpret it for you! For example:\n",
      "\n",
      "- Is it a photograph, painting, diagram, or something else?  \n",
      "- What are the main elements or subjects in the image?  \n",
      "- Are there any specific colors, patterns, or textures?  \n",
      "\n",
      "Let me know, and I’ll do my best to assist!"
     ]
    }
   ],
   "source": [
    "chat.commit(\"user\", \"Ok, describe this image. What type of image is it?\", image_path = 'CB') # CB for clipboard; otherwise give a path or URL\n",
    "chat.commit(\"assistant\")"
   ]
  },
  {
   "cell_type": "code",
   "execution_count": 25,
   "metadata": {},
   "outputs": [
    {
     "name": "stdout",
     "output_type": "stream",
     "text": [
      "This appears to be a code snippet or screenshot from a programming environment with a dark theme/background. The text appears to be code-related, showing what looks like a URL or file path parameter named \"image_path\" in a light blue/cyan color. There's also text \"last)\" visible in white or light gray color. This is likely part of a function or method definition in a programming context.\n",
      "\n",
      "The image has a very minimalist appearance typical of code editors, with the dark background helping to make the syntax-highlighted code more readable."
     ]
    }
   ],
   "source": [
    "chat.model = \"openrouter/anthropic/claude-3.5-sonnet\"\n",
    "chat.commit(\"user\", \"Ok, I gave you image analysis powers now. Try again.\", image_path = 'CB') # CB for clipboard; otherwise give a path or URL\n",
    "chat.commit(\"assistant\")"
   ]
  },
  {
   "cell_type": "code",
   "execution_count": 26,
   "metadata": {},
   "outputs": [
    {
     "name": "stdout",
     "output_type": "stream",
     "text": [
      "edit_prompt\n"
     ]
    },
    {
     "data": {
      "text/plain": [
       "{'master': '7c6d8fe2-04c0-41c6-b15c-c98d183234d7',\n",
       " 'retry_response': '2b113cba-d032-4012-95a9-9f93a258f9b9',\n",
       " 'edit_prompt': '75613739-e48c-409c-95a1-4975c4344a8e'}"
      ]
     },
     "execution_count": 26,
     "metadata": {},
     "output_type": "execute_result"
    }
   ],
   "source": [
    "print(chat.current_branch)\n",
    "chat.branch_tips"
   ]
  },
  {
   "cell_type": "code",
   "execution_count": null,
   "metadata": {},
   "outputs": [
    {
     "name": "stdout",
     "output_type": "stream",
     "text": [
      "master\n",
      "Hey! I'm just a virtual assistant, so I don't have feelings, but I'm here and ready to help you with whatever you need. How are *you* doing? 😊\n"
     ]
    }
   ],
   "source": [
    "chat.checkout(branch_name=\"master\")\n",
    "print(chat.current_branch)\n",
    "print(chat[-1].message[\"content\"])"
   ]
  },
  {
   "cell_type": "code",
   "execution_count": null,
   "metadata": {},
   "outputs": [
    {
     "data": {
      "text/plain": [
       "{'master': '50e45a7a-36e4-4bd9-863b-de7ccc801eb3',\n",
       " 'retry_response': '075fa654-2ee9-4167-bf18-1071f5d781cd',\n",
       " 'edit_prompt': '8950cec6-209f-4c4b-9c64-ab82376a94cc'}"
      ]
     },
     "execution_count": 81,
     "metadata": {},
     "output_type": "execute_result"
    }
   ],
   "source": [
    "chat.remote = \"foo.json\"\n",
    "chat.push()\n",
    "chat2 = chit.Chat.clone(\"foo.json\")\n",
    "chat2.branch_tips"
   ]
  },
  {
   "cell_type": "code",
   "execution_count": null,
   "metadata": {},
   "outputs": [
    {
     "data": {
      "text/plain": [
       "[{'match': Message(id='d47ce694-84d8-4c51-af30-90e60941bb0c', message={'role': 'user', 'content': 'Hey, how are you?'}, children={'master': '50e45a7a-36e4-4bd9-863b-de7ccc801eb3', 'retry_response': '075fa654-2ee9-4167-bf18-1071f5d781cd'}, parent_id='bda71f30-38b0-47c0-882a-0cabd5b6725a', home_branch='master'),\n",
       "  'context': []},\n",
       " {'match': Message(id='50e45a7a-36e4-4bd9-863b-de7ccc801eb3', message={'role': 'assistant', 'content': \"Hey! I'm just a virtual assistant, so I don't have feelings, but I'm here and ready to help you with whatever you need. How are *you* doing? 😊\"}, children={'master': None}, parent_id='d47ce694-84d8-4c51-af30-90e60941bb0c', home_branch='master'),\n",
       "  'context': []}]"
      ]
     },
     "execution_count": 82,
     "metadata": {},
     "output_type": "execute_result"
    }
   ],
   "source": [
    "chat.find(\"hey\")"
   ]
  },
  {
   "cell_type": "code",
   "execution_count": null,
   "metadata": {},
   "outputs": [
    {
     "data": {
      "text/plain": [
       "[{'match': Message(id='d47ce694-84d8-4c51-af30-90e60941bb0c', message={'role': 'user', 'content': 'Hey, how are you?'}, children={'master': '50e45a7a-36e4-4bd9-863b-de7ccc801eb3', 'retry_response': '075fa654-2ee9-4167-bf18-1071f5d781cd'}, parent_id='bda71f30-38b0-47c0-882a-0cabd5b6725a', home_branch='master'),\n",
       "  'context': []}]"
      ]
     },
     "execution_count": 83,
     "metadata": {},
     "output_type": "execute_result"
    }
   ],
   "source": [
    "chat.find(\"Hey.+how\", case_sensitive=True, roles=[\"user\"], regex=True, max_results=1)"
   ]
  },
  {
   "cell_type": "code",
   "execution_count": null,
   "metadata": {},
   "outputs": [],
   "source": [
    "chat.branch(\"to_delete\", checkout=True)\n",
    "chat.commit(\"user\", \"This branch is to be deleted.\")\n",
    "chat.commit(\"assistant\")"
   ]
  },
  {
   "cell_type": "code",
   "execution_count": null,
   "metadata": {},
   "outputs": [
    {
     "data": {
      "text/plain": [
       "{'master': '50e45a7a-36e4-4bd9-863b-de7ccc801eb3',\n",
       " 'retry_response': '075fa654-2ee9-4167-bf18-1071f5d781cd',\n",
       " 'edit_prompt': '8950cec6-209f-4c4b-9c64-ab82376a94cc'}"
      ]
     },
     "execution_count": 89,
     "metadata": {},
     "output_type": "execute_result"
    }
   ],
   "source": [
    "chat.checkout(branch_name=\"master\")\n",
    "chat.rm(\"to_delete\")\n",
    "chat.branch_tips"
   ]
  },
  {
   "cell_type": "code",
   "execution_count": null,
   "metadata": {},
   "outputs": [
    {
     "data": {
      "text/plain": [
       "{'master': '50e45a7a-36e4-4bd9-863b-de7ccc801eb3',\n",
       " 'edit_prompt': '8950cec6-209f-4c4b-9c64-ab82376a94cc',\n",
       " 'regenerate_response': '075fa654-2ee9-4167-bf18-1071f5d781cd'}"
      ]
     },
     "execution_count": 90,
     "metadata": {},
     "output_type": "execute_result"
    }
   ],
   "source": [
    "chat.mv(\"retry_response\", \"regenerate_response\")\n",
    "chat.branch_tips"
   ]
  },
  {
   "cell_type": "code",
   "execution_count": null,
   "metadata": {},
   "outputs": [],
   "source": [
    "chat.viz('foo.html')"
   ]
  }
 ],
 "metadata": {
  "kernelspec": {
   "display_name": ".venv",
   "language": "python",
   "name": "python3"
  },
  "language_info": {
   "codemirror_mode": {
    "name": "ipython",
    "version": 3
   },
   "file_extension": ".py",
   "mimetype": "text/x-python",
   "name": "python",
   "nbconvert_exporter": "python",
   "pygments_lexer": "ipython3",
   "version": "3.10.16"
  }
 },
 "nbformat": 4,
 "nbformat_minor": 2
}

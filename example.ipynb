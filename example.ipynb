{
 "cells": [
  {
   "cell_type": "code",
   "execution_count": 2,
   "metadata": {},
   "outputs": [],
   "source": [
    "import chit\n",
    "\n",
    "%load_ext autoreload\n",
    "%autoreload 2"
   ]
  },
  {
   "cell_type": "code",
   "execution_count": 63,
   "metadata": {},
   "outputs": [],
   "source": [
    "chat = chit.Chat()"
   ]
  },
  {
   "cell_type": "code",
   "execution_count": 64,
   "metadata": {},
   "outputs": [
    {
     "data": {
      "text/plain": [
       "\"I'm just here, ready to help with whatever you need! How about you—how's everything going on your end? 😊\""
      ]
     },
     "execution_count": 64,
     "metadata": {},
     "output_type": "execute_result"
    }
   ],
   "source": [
    "chat.commit(\"user\", \"Hey, how are you?\")\n",
    "chat.commit(\"assistant\")"
   ]
  },
  {
   "cell_type": "code",
   "execution_count": 65,
   "metadata": {},
   "outputs": [
    {
     "data": {
      "text/plain": [
       "\"I'm just here, ready to help with whatever you need! How about you—how's everything going on your end? 😊\""
      ]
     },
     "execution_count": 65,
     "metadata": {},
     "output_type": "execute_result"
    }
   ],
   "source": [
    "chat[-1].message[\"content\"] # indexing by negative integers; -1 is latest"
   ]
  },
  {
   "cell_type": "code",
   "execution_count": 66,
   "metadata": {},
   "outputs": [
    {
     "data": {
      "text/plain": [
       "'ac7274d1-794d-4770-a603-6612e17ba6a4'"
      ]
     },
     "execution_count": 66,
     "metadata": {},
     "output_type": "execute_result"
    }
   ],
   "source": [
    "chat[-1].id # commit id to checkout to if you ever checkout something else"
   ]
  },
  {
   "cell_type": "code",
   "execution_count": 67,
   "metadata": {},
   "outputs": [
    {
     "data": {
      "text/plain": [
       "'Hey, how are you?'"
      ]
     },
     "execution_count": 67,
     "metadata": {},
     "output_type": "execute_result"
    }
   ],
   "source": [
    "chat[-2].message[\"content\"] # indexing by negative integers for backward traversal"
   ]
  },
  {
   "cell_type": "code",
   "execution_count": 68,
   "metadata": {},
   "outputs": [
    {
     "data": {
      "text/plain": [
       "'You are a helpful assistant.'"
      ]
     },
     "execution_count": 68,
     "metadata": {},
     "output_type": "execute_result"
    }
   ],
   "source": [
    "chat[-3].message[\"content\"] # indexing by negative integers for backward traversal"
   ]
  },
  {
   "cell_type": "code",
   "execution_count": 69,
   "metadata": {},
   "outputs": [
    {
     "data": {
      "text/plain": [
       "'Hey, how are you?'"
      ]
     },
     "execution_count": 69,
     "metadata": {},
     "output_type": "execute_result"
    }
   ],
   "source": [
    "chat.checkout(-2) # checkout to an ancestral commit with a negative integer\n",
    "chat[-1].message[\"content\"]"
   ]
  },
  {
   "cell_type": "code",
   "execution_count": 70,
   "metadata": {},
   "outputs": [
    {
     "data": {
      "text/plain": [
       "\"I'm just here, ready to help with whatever you need! How about you—how's everything going on your end? 😊\""
      ]
     },
     "execution_count": 70,
     "metadata": {},
     "output_type": "execute_result"
    }
   ],
   "source": [
    "chat[[\"master\"]].message[\"content\"] # index by a list of branch names to do forward traversal!"
   ]
  },
  {
   "cell_type": "code",
   "execution_count": 71,
   "metadata": {},
   "outputs": [
    {
     "data": {
      "text/plain": [
       "'You are a helpful assistant.'"
      ]
     },
     "execution_count": 71,
     "metadata": {},
     "output_type": "execute_result"
    }
   ],
   "source": [
    "chat.checkout(-2) # checkout to a previous commit.\n",
    "chat[-1].message[\"content\"]"
   ]
  },
  {
   "cell_type": "code",
   "execution_count": 72,
   "metadata": {},
   "outputs": [
    {
     "data": {
      "text/plain": [
       "\"I'm just here, ready to help with whatever you need! How about you—how's everything going on your end? 😊\""
      ]
     },
     "execution_count": 72,
     "metadata": {},
     "output_type": "execute_result"
    }
   ],
   "source": [
    "chat[[\"master\", \"master\"]].message[\"content\"] # index by a list of branch names to do forward traversal!"
   ]
  },
  {
   "cell_type": "code",
   "execution_count": 73,
   "metadata": {},
   "outputs": [
    {
     "data": {
      "text/plain": [
       "\"I'm just here, ready to help with whatever you need! How about you—how's everything going on your end? 😊\""
      ]
     },
     "execution_count": 73,
     "metadata": {},
     "output_type": "execute_result"
    }
   ],
   "source": [
    "chat.checkout([\"master\", \"master\"]) # checkout to a descendant commit with a list of branch names\n",
    "chat[-1].message[\"content\"]"
   ]
  },
  {
   "cell_type": "code",
   "execution_count": 74,
   "metadata": {},
   "outputs": [
    {
     "data": {
      "text/plain": [
       "[Message(id='f391dd66-1d19-41a0-b058-25b9f3a4eba8', message={'role': 'system', 'content': 'You are a helpful assistant.'}, children={'master': 'c529b800-ab22-464b-855c-ce7148435e4c'}, parent_id=None, home_branch='master'),\n",
       " Message(id='c529b800-ab22-464b-855c-ce7148435e4c', message={'role': 'user', 'content': 'Hey, how are you?'}, children={'master': 'ac7274d1-794d-4770-a603-6612e17ba6a4'}, parent_id='f391dd66-1d19-41a0-b058-25b9f3a4eba8', home_branch='master'),\n",
       " Message(id='ac7274d1-794d-4770-a603-6612e17ba6a4', message={'role': 'assistant', 'content': \"I'm just here, ready to help with whatever you need! How about you—how's everything going on your end? 😊\"}, children={'master': None}, parent_id='c529b800-ab22-464b-855c-ce7148435e4c', home_branch='master')]"
      ]
     },
     "execution_count": 74,
     "metadata": {},
     "output_type": "execute_result"
    }
   ],
   "source": [
    "chat[-3:-1] # slicing to get a path of commits"
   ]
  },
  {
   "cell_type": "code",
   "execution_count": 76,
   "metadata": {},
   "outputs": [
    {
     "data": {
      "text/plain": [
       "[Message(id='f391dd66-1d19-41a0-b058-25b9f3a4eba8', message={'role': 'system', 'content': 'You are a helpful assistant.'}, children={'master': 'c529b800-ab22-464b-855c-ce7148435e4c'}, parent_id=None, home_branch='master'),\n",
       " Message(id='c529b800-ab22-464b-855c-ce7148435e4c', message={'role': 'user', 'content': 'Hey, how are you?'}, children={'master': 'ac7274d1-794d-4770-a603-6612e17ba6a4'}, parent_id='f391dd66-1d19-41a0-b058-25b9f3a4eba8', home_branch='master'),\n",
       " Message(id='ac7274d1-794d-4770-a603-6612e17ba6a4', message={'role': 'assistant', 'content': \"I'm just here, ready to help with whatever you need! How about you—how's everything going on your end? 😊\"}, children={'master': None}, parent_id='c529b800-ab22-464b-855c-ce7148435e4c', home_branch='master')]"
      ]
     },
     "execution_count": 76,
     "metadata": {},
     "output_type": "execute_result"
    }
   ],
   "source": [
    "chat[-3:'ac7274d1-794d-4770-a603-6612e17ba6a4']  # slicing to get a path of commits"
   ]
  },
  {
   "cell_type": "code",
   "execution_count": 77,
   "metadata": {},
   "outputs": [
    {
     "data": {
      "text/plain": [
       "'You are a helpful assistant.'"
      ]
     },
     "execution_count": 77,
     "metadata": {},
     "output_type": "execute_result"
    }
   ],
   "source": [
    "chat[0].message[\"content\"] # nonnegative indices for traversal from the initial system message"
   ]
  },
  {
   "cell_type": "code",
   "execution_count": 78,
   "metadata": {},
   "outputs": [
    {
     "data": {
      "text/plain": [
       "\"I'm just here, ready to help with whatever you need! How about you—how's everything going on your end? 😊\""
      ]
     },
     "execution_count": 78,
     "metadata": {},
     "output_type": "execute_result"
    }
   ],
   "source": [
    "chat[2].message[\"content\"] # forward traversal with nonnegative indices always chooses the `master` child to descend through"
   ]
  },
  {
   "cell_type": "code",
   "execution_count": 79,
   "metadata": {},
   "outputs": [
    {
     "data": {
      "text/plain": [
       "'Hey, how are you?'"
      ]
     },
     "execution_count": 79,
     "metadata": {},
     "output_type": "execute_result"
    }
   ],
   "source": [
    "chat.checkout(1) # checkout to a user commit so we can then regenerate the AI response in a new branch\n",
    "chat.branch(\"retry_response\", checkout=True) # create a new branch and checkout to it\n",
    "chat[-1].message[\"content\"]"
   ]
  },
  {
   "cell_type": "code",
   "execution_count": 80,
   "metadata": {},
   "outputs": [
    {
     "data": {
      "text/plain": [
       "\"Hello! I'm just a virtual assistant, so I don't have feelings, but I'm here and ready to help you with whatever you need. How are you doing? 😊\""
      ]
     },
     "execution_count": 80,
     "metadata": {},
     "output_type": "execute_result"
    }
   ],
   "source": [
    "chat.commit(\"assistant\")\n",
    "chat[-1].message[\"content\"]"
   ]
  },
  {
   "cell_type": "code",
   "execution_count": 81,
   "metadata": {},
   "outputs": [
    {
     "data": {
      "text/plain": [
       "{'master': 'ac7274d1-794d-4770-a603-6612e17ba6a4',\n",
       " 'retry_response': '22a7c48f-9cf4-490a-b5fb-46fa3154bc45'}"
      ]
     },
     "execution_count": 81,
     "metadata": {},
     "output_type": "execute_result"
    }
   ],
   "source": [
    "chat[1].children"
   ]
  },
  {
   "cell_type": "code",
   "execution_count": null,
   "metadata": {},
   "outputs": [],
   "source": [
    "chat.checkout(0) # checkout to an assistant or system commit to edit the user prompt in a new branch\n",
    "chat.branch(\"edit_prompt\", checkout=True) # create a new branch and checkout to it\n",
    "chat.commit(\"user\", \"Solve the Riemann hypothesis.\")\n",
    "chat.commit(\"assistant\")\n",
    "chat[-1].message[\"content\"]"
   ]
  }
 ],
 "metadata": {
  "kernelspec": {
   "display_name": ".venv",
   "language": "python",
   "name": "python3"
  },
  "language_info": {
   "codemirror_mode": {
    "name": "ipython",
    "version": 3
   },
   "file_extension": ".py",
   "mimetype": "text/x-python",
   "name": "python",
   "nbconvert_exporter": "python",
   "pygments_lexer": "ipython3",
   "version": "3.10.16"
  }
 },
 "nbformat": 4,
 "nbformat_minor": 2
}

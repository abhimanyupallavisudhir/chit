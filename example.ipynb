{
 "cells": [
  {
   "cell_type": "code",
   "execution_count": 2,
   "metadata": {},
   "outputs": [],
   "source": [
    "import chit\n",
    "\n",
    "%load_ext autoreload\n",
    "%autoreload 2"
   ]
  },
  {
   "cell_type": "code",
   "execution_count": 3,
   "metadata": {},
   "outputs": [],
   "source": [
    "chat = chit.Chat()"
   ]
  },
  {
   "cell_type": "code",
   "execution_count": 4,
   "metadata": {},
   "outputs": [
    {
     "name": "stdout",
     "output_type": "stream",
     "text": [
      "Hi! I’m just a bunch of code, so I don’t have feelings, but I’m here and ready to help with whatever you need. How are you doing? 😊"
     ]
    }
   ],
   "source": [
    "chat.commit(\"user\", \"Hey, how are you?\")\n",
    "chat.commit(\"assistant\") ## btw I have no idea how this random thing got generated here; weird deepseek behaviour I guess"
   ]
  },
  {
   "cell_type": "code",
   "execution_count": 5,
   "metadata": {},
   "outputs": [
    {
     "data": {
      "text/plain": [
       "'Hi! I’m just a bunch of code, so I don’t have feelings, but I’m here and ready to help with whatever you need. How are you doing? 😊'"
      ]
     },
     "execution_count": 5,
     "metadata": {},
     "output_type": "execute_result"
    }
   ],
   "source": [
    "chat[-1].message[\"content\"] # indexing by negative integers; -1 is latest"
   ]
  },
  {
   "cell_type": "code",
   "execution_count": 6,
   "metadata": {},
   "outputs": [
    {
     "data": {
      "text/plain": [
       "'dab57316'"
      ]
     },
     "execution_count": 6,
     "metadata": {},
     "output_type": "execute_result"
    }
   ],
   "source": [
    "chat[-1].id # commit id to checkout to if you ever checkout something else"
   ]
  },
  {
   "cell_type": "code",
   "execution_count": 7,
   "metadata": {},
   "outputs": [
    {
     "data": {
      "text/plain": [
       "'Hey, how are you?'"
      ]
     },
     "execution_count": 7,
     "metadata": {},
     "output_type": "execute_result"
    }
   ],
   "source": [
    "chat[-2].message[\"content\"] # indexing by negative integers for backward traversal"
   ]
  },
  {
   "cell_type": "code",
   "execution_count": 8,
   "metadata": {},
   "outputs": [
    {
     "data": {
      "text/plain": [
       "'You are a helpful assistant.'"
      ]
     },
     "execution_count": 8,
     "metadata": {},
     "output_type": "execute_result"
    }
   ],
   "source": [
    "chat[-3].message[\"content\"] # indexing by negative integers for backward traversal"
   ]
  },
  {
   "cell_type": "code",
   "execution_count": 9,
   "metadata": {},
   "outputs": [
    {
     "data": {
      "text/plain": [
       "'Hey, how are you?'"
      ]
     },
     "execution_count": 9,
     "metadata": {},
     "output_type": "execute_result"
    }
   ],
   "source": [
    "chat.checkout(-2) # checkout to an ancestral commit with a negative integer\n",
    "chat[-1].message[\"content\"]"
   ]
  },
  {
   "cell_type": "code",
   "execution_count": 10,
   "metadata": {},
   "outputs": [
    {
     "data": {
      "text/plain": [
       "'Hi! I’m just a bunch of code, so I don’t have feelings, but I’m here and ready to help with whatever you need. How are you doing? 😊'"
      ]
     },
     "execution_count": 10,
     "metadata": {},
     "output_type": "execute_result"
    }
   ],
   "source": [
    "chat[[\"master\"]].message[\"content\"] # index by a list of branch names to do forward traversal!"
   ]
  },
  {
   "cell_type": "code",
   "execution_count": 11,
   "metadata": {},
   "outputs": [
    {
     "data": {
      "text/plain": [
       "'You are a helpful assistant.'"
      ]
     },
     "execution_count": 11,
     "metadata": {},
     "output_type": "execute_result"
    }
   ],
   "source": [
    "chat.checkout(-2) # checkout to a previous commit.\n",
    "chat[-1].message[\"content\"]"
   ]
  },
  {
   "cell_type": "code",
   "execution_count": 12,
   "metadata": {},
   "outputs": [
    {
     "data": {
      "text/plain": [
       "'Hi! I’m just a bunch of code, so I don’t have feelings, but I’m here and ready to help with whatever you need. How are you doing? 😊'"
      ]
     },
     "execution_count": 12,
     "metadata": {},
     "output_type": "execute_result"
    }
   ],
   "source": [
    "chat[[\"master\", \"master\"]].message[\"content\"] # index by a list of branch names to do forward traversal!"
   ]
  },
  {
   "cell_type": "code",
   "execution_count": 13,
   "metadata": {},
   "outputs": [
    {
     "data": {
      "text/plain": [
       "'Hi! I’m just a bunch of code, so I don’t have feelings, but I’m here and ready to help with whatever you need. How are you doing? 😊'"
      ]
     },
     "execution_count": 13,
     "metadata": {},
     "output_type": "execute_result"
    }
   ],
   "source": [
    "chat.checkout([\"master\", \"master\"]) # checkout to a descendant commit with a list of branch names\n",
    "chat[-1].message[\"content\"]"
   ]
  },
  {
   "cell_type": "code",
   "execution_count": 14,
   "metadata": {},
   "outputs": [
    {
     "data": {
      "text/plain": [
       "[Message(id='dfac3dae', message={'role': 'system', 'content': 'You are a helpful assistant.'}, children={'master': '203da29b'}, parent_id=None, home_branch='master'),\n",
       " Message(id='203da29b', message={'role': 'user', 'content': 'Hey, how are you?'}, children={'master': 'dab57316'}, parent_id='dfac3dae', home_branch='master'),\n",
       " Message(id='dab57316', message={'role': 'assistant', 'content': 'Hi! I’m just a bunch of code, so I don’t have feelings, but I’m here and ready to help with whatever you need. How are you doing? 😊'}, children={'master': None}, parent_id='203da29b', home_branch='master')]"
      ]
     },
     "execution_count": 14,
     "metadata": {},
     "output_type": "execute_result"
    }
   ],
   "source": [
    "chat[-3:-1] # slicing to get a path of commits"
   ]
  },
  {
   "cell_type": "code",
   "execution_count": 16,
   "metadata": {},
   "outputs": [
    {
     "data": {
      "text/plain": [
       "[Message(id='dfac3dae', message={'role': 'system', 'content': 'You are a helpful assistant.'}, children={'master': '203da29b'}, parent_id=None, home_branch='master'),\n",
       " Message(id='203da29b', message={'role': 'user', 'content': 'Hey, how are you?'}, children={'master': 'dab57316'}, parent_id='dfac3dae', home_branch='master'),\n",
       " Message(id='dab57316', message={'role': 'assistant', 'content': 'Hi! I’m just a bunch of code, so I don’t have feelings, but I’m here and ready to help with whatever you need. How are you doing? 😊'}, children={'master': None}, parent_id='203da29b', home_branch='master')]"
      ]
     },
     "execution_count": 16,
     "metadata": {},
     "output_type": "execute_result"
    }
   ],
   "source": [
    "chat[-3:'dab57316']  # slicing to get a path of commits"
   ]
  },
  {
   "cell_type": "code",
   "execution_count": 17,
   "metadata": {},
   "outputs": [
    {
     "data": {
      "text/plain": [
       "'You are a helpful assistant.'"
      ]
     },
     "execution_count": 17,
     "metadata": {},
     "output_type": "execute_result"
    }
   ],
   "source": [
    "chat[0].message[\"content\"] # nonnegative indices for traversal from the initial system message"
   ]
  },
  {
   "cell_type": "code",
   "execution_count": 18,
   "metadata": {},
   "outputs": [
    {
     "data": {
      "text/plain": [
       "'Hi! I’m just a bunch of code, so I don’t have feelings, but I’m here and ready to help with whatever you need. How are you doing? 😊'"
      ]
     },
     "execution_count": 18,
     "metadata": {},
     "output_type": "execute_result"
    }
   ],
   "source": [
    "chat[2].message[\"content\"] # forward traversal with nonnegative indices always chooses the `master` child to descend through"
   ]
  },
  {
   "cell_type": "code",
   "execution_count": 19,
   "metadata": {},
   "outputs": [
    {
     "data": {
      "text/plain": [
       "'Hey, how are you?'"
      ]
     },
     "execution_count": 19,
     "metadata": {},
     "output_type": "execute_result"
    }
   ],
   "source": [
    "chat.checkout(1) # checkout to a user commit so we can then regenerate the AI response in a new branch\n",
    "chat.branch(\"retry_response\", checkout=True) # create a new branch and checkout to it\n",
    "chat[-1].message[\"content\"]"
   ]
  },
  {
   "cell_type": "code",
   "execution_count": 20,
   "metadata": {},
   "outputs": [
    {
     "name": "stdout",
     "output_type": "stream",
     "text": [
      "Hello! I'm just a program, so I don't have feelings, but I'm here and ready to help you with whatever you need. How are you doing? 😊"
     ]
    }
   ],
   "source": [
    "chat.commit(\"assistant\")"
   ]
  },
  {
   "cell_type": "code",
   "execution_count": 21,
   "metadata": {},
   "outputs": [
    {
     "data": {
      "text/plain": [
       "{'master': 'dab57316', 'retry_response': '2ad8645b'}"
      ]
     },
     "execution_count": 21,
     "metadata": {},
     "output_type": "execute_result"
    }
   ],
   "source": [
    "chat[1].children"
   ]
  },
  {
   "cell_type": "code",
   "execution_count": 22,
   "metadata": {},
   "outputs": [
    {
     "name": "stdout",
     "output_type": "stream",
     "text": [
      "The Riemann Hypothesis is one of the most famous unsolved problems in mathematics, proposed by Bernhard Riemann in 1859. It is a conjecture about the non-trivial zeros of the Riemann zeta function, which is a complex function defined for complex numbers \\( s \\) where \\( \\text{Re}(s) > 1 \\) by the infinite series:\n",
      "\n",
      "\\[\n",
      "\\zeta(s) = \\sum_{n=1}^\\infty \\frac{1}{n^s}\n",
      "\\]\n",
      "\n",
      "The Riemann zeta function can be analytically continued to a meromorphic function on the entire complex plane, except for a simple pole at \\( s = 1 \\).\n",
      "\n",
      "### The Riemann Hypothesis states:\n",
      "All non-trivial zeros of the Riemann zeta function have real part equal to \\( \\frac{1}{2} \\). In other words, if \\( \\zeta(s) = 0 \\) and \\( s \\) is not a trivial zero (which occur at the negative even integers), then \\( \\text{Re}(s) = \\frac{1}{2} \\).\n",
      "\n",
      "### Why is it important?\n",
      "The Riemann Hypothesis has profound implications in number theory, particularly in understanding the distribution of prime numbers. It is closely related to the prime number theorem, which describes the asymptotic distribution of primes, and it also has connections to cryptography, quantum mechanics, and other areas of mathematics.\n",
      "\n",
      "### Why hasn't it been solved yet?\n",
      "The Riemann Hypothesis involves deep and complex mathematical concepts, including analytic number theory, complex analysis, and the theory of modular forms. Despite extensive research and numerous attempts by mathematicians over more than 160 years, no one has been able to prove or disprove it conclusively. The problem remains unsolved, and it is one of the seven Millennium Prize Problems, with a $1 million prize for its solution.\n",
      "\n",
      "### Current Status:\n",
      "As of October 2023, the Riemann Hypothesis remains unproven. Mathematicians have verified that the first several trillion non-trivial zeros lie on the critical line \\( \\text{Re}(s) = \\frac{1}{2} \\), but this computational evidence does not constitute a proof for all zeros.\n",
      "\n",
      "### Approaches and Challenges:\n",
      "1. **Analytic Continuation**: The zeta function is defined initially only for \\( \\text{Re}(s) > 1 \\), but its properties can be extended to the entire complex plane using techniques from complex analysis. Understanding this continuation is crucial for studying its zeros.\n",
      "\n",
      "2. **Explicit Formulas**: Formulas like the Riemann-von Mangoldt explicit formula relate the zeros of the zeta function to the distribution of prime numbers. These formulas are powerful but complex.\n",
      "\n",
      "3. **Random Matrix Theory**: Some mathematicians have explored connections between the distribution of the zeros of the zeta function and the eigenvalues of random matrices. This approach has provided insights but has not yet led to a proof.\n",
      "\n",
      "4. **Spectral Theory**: There are connections between the zeros of the zeta function and the eigenvalues of certain differential operators, but this approach has not yet resolved the hypothesis.\n",
      "\n",
      "### Conclusion:\n",
      "The Riemann Hypothesis is an open problem that continues to challenge the mathematical community. Solving it would not only provide a deeper understanding of the zeta function and the distribution of primes but also likely lead to new mathematical techniques and insights. For now, it remains one of the greatest unsolved mysteries in mathematics."
     ]
    }
   ],
   "source": [
    "chat.checkout(0) # checkout to an assistant or system commit to edit the user prompt in a new branch\n",
    "chat.branch(\"edit_prompt\", checkout=True) # create a new branch and checkout to it\n",
    "chat.commit(\"user\", \"Solve the Riemann hypothesis.\")\n",
    "chat.commit(\"assistant\")"
   ]
  },
  {
   "cell_type": "code",
   "execution_count": 23,
   "metadata": {},
   "outputs": [
    {
     "name": "stdout",
     "output_type": "stream",
     "text": [
      "It seems like your message got cut off, but I’ll do my best to help! You’re asking me to describe an image, but I don’t have the ability to view or process images directly. However, if you can describe the image to me (e.g., its content, colors, style, or context), I can help analyze or identify its type or provide insights based on your description.\n",
      "\n",
      "For example, if you’re looking at:\n",
      "- **A photograph**: I can help describe its subject, composition, or mood.\n",
      "- **A painting or artwork**: I can discuss its style (e.g., impressionist, abstract, etc.) or potential symbolism.\n",
      "- **A diagram or chart**: I can interpret its purpose or explain its components.\n",
      "- **A meme or graphic**: I can analyze its humor, message, or cultural context.\n",
      "\n",
      "Feel free to describe the image in detail, and I’ll do my best to assist!"
     ]
    }
   ],
   "source": [
    "chat.commit(\"user\", \"Ok, describe this image. What type of image is it?\", image_path = 'CB') # CB for clipboard; otherwise give a path or URL\n",
    "chat.commit(\"assistant\")"
   ]
  },
  {
   "cell_type": "code",
   "execution_count": 24,
   "metadata": {},
   "outputs": [
    {
     "name": "stdout",
     "output_type": "stream",
     "text": [
      "This appears to be a screenshot from a programming environment or code editor with a dark theme/background. I can see code or text in different colors, including what appears to be comments in a lighter color and some text in orange/coral color. There's also some text that includes \"claude-3.5-sonnet\" and references to \"image analysis powers.\" The image shows multiple lines of text/code against the dark background, typical of modern integrated development environments (IDEs) or code editors."
     ]
    }
   ],
   "source": [
    "chat.model = \"openrouter/anthropic/claude-3.5-sonnet\"\n",
    "chat.commit(\"user\", \"Ok, I gave you image analysis powers now. Try again.\", image_path = 'CB') # CB for clipboard; otherwise give a path or URL\n",
    "chat.commit(\"assistant\")"
   ]
  },
  {
   "cell_type": "code",
   "execution_count": 25,
   "metadata": {},
   "outputs": [
    {
     "name": "stdout",
     "output_type": "stream",
     "text": [
      "edit_prompt\n"
     ]
    },
    {
     "data": {
      "text/plain": [
       "{'master': 'dab57316', 'retry_response': '2ad8645b', 'edit_prompt': '8ee7390f'}"
      ]
     },
     "execution_count": 25,
     "metadata": {},
     "output_type": "execute_result"
    }
   ],
   "source": [
    "print(chat.current_branch)\n",
    "chat.branch_tips"
   ]
  },
  {
   "cell_type": "code",
   "execution_count": 26,
   "metadata": {},
   "outputs": [
    {
     "name": "stdout",
     "output_type": "stream",
     "text": [
      "master\n",
      "Hi! I’m just a bunch of code, so I don’t have feelings, but I’m here and ready to help with whatever you need. How are you doing? 😊\n"
     ]
    }
   ],
   "source": [
    "chat.checkout(branch_name=\"master\")\n",
    "print(chat.current_branch)\n",
    "print(chat[-1].message[\"content\"])"
   ]
  },
  {
   "cell_type": "code",
   "execution_count": 27,
   "metadata": {},
   "outputs": [
    {
     "data": {
      "text/plain": [
       "{'master': 'dab57316', 'retry_response': '2ad8645b', 'edit_prompt': '8ee7390f'}"
      ]
     },
     "execution_count": 27,
     "metadata": {},
     "output_type": "execute_result"
    }
   ],
   "source": [
    "chat.remote = \"foo.json\"\n",
    "chat.push()\n",
    "chat2 = chit.Chat.clone(\"foo.json\")\n",
    "chat2.branch_tips"
   ]
  },
  {
   "cell_type": "code",
   "execution_count": 28,
   "metadata": {},
   "outputs": [
    {
     "data": {
      "text/plain": [
       "[{'match': Message(id='203da29b', message={'role': 'user', 'content': 'Hey, how are you?'}, children={'master': 'dab57316', 'retry_response': '2ad8645b'}, parent_id='dfac3dae', home_branch='master'),\n",
       "  'context': []}]"
      ]
     },
     "execution_count": 28,
     "metadata": {},
     "output_type": "execute_result"
    }
   ],
   "source": [
    "chat.find(\"hey\")"
   ]
  },
  {
   "cell_type": "code",
   "execution_count": 29,
   "metadata": {},
   "outputs": [
    {
     "data": {
      "text/plain": [
       "[{'match': Message(id='203da29b', message={'role': 'user', 'content': 'Hey, how are you?'}, children={'master': 'dab57316', 'retry_response': '2ad8645b'}, parent_id='dfac3dae', home_branch='master'),\n",
       "  'context': []}]"
      ]
     },
     "execution_count": 29,
     "metadata": {},
     "output_type": "execute_result"
    }
   ],
   "source": [
    "chat.find(\"Hey.+how\", case_sensitive=True, roles=[\"user\"], regex=True, max_results=1)"
   ]
  },
  {
   "cell_type": "code",
   "execution_count": 30,
   "metadata": {},
   "outputs": [
    {
     "name": "stdout",
     "output_type": "stream",
     "text": [
      "I see you're making a note about deleting a branch, but I don't have enough context to provide specific guidance. Are you referring to:\n",
      "\n",
      "1. A Git/version control branch?\n",
      "2. A tree branch?\n",
      "3. A branch of a company/organization?\n",
      "4. Something else?\n",
      "\n",
      "If you could provide more details about what kind of branch you're referring to, I'd be happy to help further!"
     ]
    }
   ],
   "source": [
    "chat.branch(\"to_delete\", checkout=True)\n",
    "chat.commit(\"user\", \"This branch is to be deleted.\")\n",
    "chat.commit(\"assistant\")"
   ]
  },
  {
   "cell_type": "code",
   "execution_count": 31,
   "metadata": {},
   "outputs": [
    {
     "data": {
      "text/plain": [
       "{'master': 'dab57316', 'retry_response': '2ad8645b', 'edit_prompt': '8ee7390f'}"
      ]
     },
     "execution_count": 31,
     "metadata": {},
     "output_type": "execute_result"
    }
   ],
   "source": [
    "chat.checkout(branch_name=\"master\")\n",
    "chat.rm(\"to_delete\")\n",
    "chat.branch_tips"
   ]
  },
  {
   "cell_type": "code",
   "execution_count": 32,
   "metadata": {},
   "outputs": [
    {
     "data": {
      "text/plain": [
       "{'master': 'dab57316',\n",
       " 'edit_prompt': '8ee7390f',\n",
       " 'regenerate_response': '2ad8645b'}"
      ]
     },
     "execution_count": 32,
     "metadata": {},
     "output_type": "execute_result"
    }
   ],
   "source": [
    "chat.mv(\"retry_response\", \"regenerate_response\")\n",
    "chat.branch_tips"
   ]
  },
  {
   "cell_type": "code",
   "execution_count": 33,
   "metadata": {},
   "outputs": [],
   "source": [
    "chat.gui('foo.html')"
   ]
  }
 ],
 "metadata": {
  "kernelspec": {
   "display_name": ".venv",
   "language": "python",
   "name": "python3"
  },
  "language_info": {
   "codemirror_mode": {
    "name": "ipython",
    "version": 3
   },
   "file_extension": ".py",
   "mimetype": "text/x-python",
   "name": "python",
   "nbconvert_exporter": "python",
   "pygments_lexer": "ipython3",
   "version": "3.10.16"
  }
 },
 "nbformat": 4,
 "nbformat_minor": 2
}

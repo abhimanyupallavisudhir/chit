{
 "cells": [
  {
   "cell_type": "code",
   "execution_count": 2,
   "metadata": {},
   "outputs": [],
   "source": [
    "import chit\n",
    "\n",
    "%load_ext autoreload\n",
    "%autoreload 2"
   ]
  },
  {
   "cell_type": "code",
   "execution_count": 17,
   "metadata": {},
   "outputs": [],
   "source": [
    "chat = chit.Chat()"
   ]
  },
  {
   "cell_type": "code",
   "execution_count": 18,
   "metadata": {},
   "outputs": [
    {
     "data": {
      "text/plain": [
       "\"Hello! I'm just a virtual assistant, so I don't have feelings, but I'm here and ready to help you with anything you need. How are you doing? 😊\""
      ]
     },
     "execution_count": 18,
     "metadata": {},
     "output_type": "execute_result"
    }
   ],
   "source": [
    "chat.commit(\"user\", \"Hey, how are you?\")\n",
    "chat.commit(\"assistant\")"
   ]
  },
  {
   "cell_type": "code",
   "execution_count": null,
   "metadata": {},
   "outputs": [
    {
     "data": {
      "text/plain": [
       "\"Hello! I'm just a virtual assistant, so I don't have feelings, but I'm here and ready to help you with anything you need. How are you doing? 😊\""
      ]
     },
     "execution_count": 19,
     "metadata": {},
     "output_type": "execute_result"
    }
   ],
   "source": [
    "chat[-1].message[\"content\"] # indexing by negative integers; -1 is latest"
   ]
  },
  {
   "cell_type": "code",
   "execution_count": null,
   "metadata": {},
   "outputs": [
    {
     "data": {
      "text/plain": [
       "'95269f2d-661f-4612-8915-485266fdc3d4'"
      ]
     },
     "execution_count": 20,
     "metadata": {},
     "output_type": "execute_result"
    }
   ],
   "source": [
    "chat[-1].id # commit id to checkout to if you ever checkout something else"
   ]
  },
  {
   "cell_type": "code",
   "execution_count": 21,
   "metadata": {},
   "outputs": [
    {
     "data": {
      "text/plain": [
       "'Hey, how are you?'"
      ]
     },
     "execution_count": 21,
     "metadata": {},
     "output_type": "execute_result"
    }
   ],
   "source": [
    "chat[-2].message[\"content\"] # indexing by negative integers for backward traversal"
   ]
  },
  {
   "cell_type": "code",
   "execution_count": null,
   "metadata": {},
   "outputs": [
    {
     "data": {
      "text/plain": [
       "'You are a helpful assistant.'"
      ]
     },
     "execution_count": 22,
     "metadata": {},
     "output_type": "execute_result"
    }
   ],
   "source": [
    "chat[-3].message[\"content\"] # indexing by negative integers for backward traversal"
   ]
  },
  {
   "cell_type": "code",
   "execution_count": null,
   "metadata": {},
   "outputs": [
    {
     "data": {
      "text/plain": [
       "'Hey, how are you?'"
      ]
     },
     "execution_count": 23,
     "metadata": {},
     "output_type": "execute_result"
    }
   ],
   "source": [
    "chat.checkout(-2) # checkout to an ancestral commit with a negative integer\n",
    "chat[-1].message[\"content\"]"
   ]
  },
  {
   "cell_type": "code",
   "execution_count": null,
   "metadata": {},
   "outputs": [
    {
     "data": {
      "text/plain": [
       "\"Hello! I'm just a virtual assistant, so I don't have feelings, but I'm here and ready to help you with anything you need. How are you doing? 😊\""
      ]
     },
     "execution_count": 24,
     "metadata": {},
     "output_type": "execute_result"
    }
   ],
   "source": [
    "chat[[\"master\"]].message[\"content\"] # index by a list of branch names to do forward traversal!"
   ]
  },
  {
   "cell_type": "code",
   "execution_count": 26,
   "metadata": {},
   "outputs": [
    {
     "data": {
      "text/plain": [
       "'You are a helpful assistant.'"
      ]
     },
     "execution_count": 26,
     "metadata": {},
     "output_type": "execute_result"
    }
   ],
   "source": [
    "chat.checkout(-2) # checkout to a previous commit.\n",
    "chat[-1].message[\"content\"]"
   ]
  },
  {
   "cell_type": "code",
   "execution_count": 27,
   "metadata": {},
   "outputs": [
    {
     "data": {
      "text/plain": [
       "\"Hello! I'm just a virtual assistant, so I don't have feelings, but I'm here and ready to help you with anything you need. How are you doing? 😊\""
      ]
     },
     "execution_count": 27,
     "metadata": {},
     "output_type": "execute_result"
    }
   ],
   "source": [
    "chat[[\"master\", \"master\"]].message[\"content\"] # index by a list of branch names to do forward traversal!"
   ]
  },
  {
   "cell_type": "code",
   "execution_count": 28,
   "metadata": {},
   "outputs": [
    {
     "data": {
      "text/plain": [
       "\"Hello! I'm just a virtual assistant, so I don't have feelings, but I'm here and ready to help you with anything you need. How are you doing? 😊\""
      ]
     },
     "execution_count": 28,
     "metadata": {},
     "output_type": "execute_result"
    }
   ],
   "source": [
    "chat.checkout([\"master\", \"master\"]) # checkout to a descendant commit with a list of branch names\n",
    "chat[-1].message[\"content\"]"
   ]
  },
  {
   "cell_type": "code",
   "execution_count": null,
   "metadata": {},
   "outputs": [
    {
     "data": {
      "text/plain": [
       "[Message(id='23ce38a5-7f28-4327-a73e-ed827c8a98d2', message={'role': 'system', 'content': 'You are a helpful assistant.'}, children={'master': '7dbf9a07-2dca-4b68-af02-ecfed745523c'}, parent_id=None, home_branch='master'),\n",
       " Message(id='7dbf9a07-2dca-4b68-af02-ecfed745523c', message={'role': 'user', 'content': 'Hey, how are you?'}, children={'master': '95269f2d-661f-4612-8915-485266fdc3d4'}, parent_id='23ce38a5-7f28-4327-a73e-ed827c8a98d2', home_branch='master'),\n",
       " Message(id='95269f2d-661f-4612-8915-485266fdc3d4', message={'role': 'assistant', 'content': \"Hello! I'm just a virtual assistant, so I don't have feelings, but I'm here and ready to help you with anything you need. How are you doing? 😊\"}, children={'master': None}, parent_id='7dbf9a07-2dca-4b68-af02-ecfed745523c', home_branch='master')]"
      ]
     },
     "execution_count": 31,
     "metadata": {},
     "output_type": "execute_result"
    }
   ],
   "source": [
    "chat[-3:-1] # slicing to get a path of commits"
   ]
  },
  {
   "cell_type": "code",
   "execution_count": null,
   "metadata": {},
   "outputs": [
    {
     "data": {
      "text/plain": [
       "[Message(id='23ce38a5-7f28-4327-a73e-ed827c8a98d2', message={'role': 'system', 'content': 'You are a helpful assistant.'}, children={'master': '7dbf9a07-2dca-4b68-af02-ecfed745523c'}, parent_id=None, home_branch='master'),\n",
       " Message(id='7dbf9a07-2dca-4b68-af02-ecfed745523c', message={'role': 'user', 'content': 'Hey, how are you?'}, children={'master': '95269f2d-661f-4612-8915-485266fdc3d4'}, parent_id='23ce38a5-7f28-4327-a73e-ed827c8a98d2', home_branch='master'),\n",
       " Message(id='95269f2d-661f-4612-8915-485266fdc3d4', message={'role': 'assistant', 'content': \"Hello! I'm just a virtual assistant, so I don't have feelings, but I'm here and ready to help you with anything you need. How are you doing? 😊\"}, children={'master': None}, parent_id='7dbf9a07-2dca-4b68-af02-ecfed745523c', home_branch='master')]"
      ]
     },
     "execution_count": 30,
     "metadata": {},
     "output_type": "execute_result"
    }
   ],
   "source": [
    "chat[-3:'95269f2d-661f-4612-8915-485266fdc3d4']  # slicing to get a path of commits"
   ]
  },
  {
   "cell_type": "code",
   "execution_count": 29,
   "metadata": {},
   "outputs": [],
   "source": [
    "chat.remote = 'test.json'\n",
    "chat.push()"
   ]
  },
  {
   "cell_type": "code",
   "execution_count": 31,
   "metadata": {},
   "outputs": [],
   "source": [
    "chat2 = chit.Chat.clone('test.json')"
   ]
  },
  {
   "cell_type": "code",
   "execution_count": 34,
   "metadata": {},
   "outputs": [
    {
     "data": {
      "text/plain": [
       "\"Hello! I'm just a virtual assistant, so I don't have feelings, but I'm here and ready to help you with anything you need. How are you doing? 😊\""
      ]
     },
     "execution_count": 34,
     "metadata": {},
     "output_type": "execute_result"
    }
   ],
   "source": [
    "chat2[-1].message[\"content\"]"
   ]
  }
 ],
 "metadata": {
  "kernelspec": {
   "display_name": ".venv",
   "language": "python",
   "name": "python3"
  },
  "language_info": {
   "codemirror_mode": {
    "name": "ipython",
    "version": 3
   },
   "file_extension": ".py",
   "mimetype": "text/x-python",
   "name": "python",
   "nbconvert_exporter": "python",
   "pygments_lexer": "ipython3",
   "version": "3.10.16"
  }
 },
 "nbformat": 4,
 "nbformat_minor": 2
}

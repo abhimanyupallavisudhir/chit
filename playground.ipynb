{
 "cells": [
  {
   "cell_type": "code",
   "execution_count": 2,
   "metadata": {},
   "outputs": [],
   "source": [
    "import chit"
   ]
  },
  {
   "cell_type": "code",
   "execution_count": null,
   "metadata": {},
   "outputs": [],
   "source": [
    "chat = chit.Chat()"
   ]
  },
  {
   "cell_type": "code",
   "execution_count": 9,
   "metadata": {},
   "outputs": [
    {
     "data": {
      "text/plain": [
       "'2cbe8aa9-d159-420a-ad1c-9598c8406739'"
      ]
     },
     "execution_count": 9,
     "metadata": {},
     "output_type": "execute_result"
    }
   ],
   "source": [
    "chat.commit(\"user\", \"Hey, how are you?\")\n",
    "chat.commit(\"assistant\")"
   ]
  },
  {
   "cell_type": "code",
   "execution_count": null,
   "metadata": {},
   "outputs": [
    {
     "data": {
      "text/plain": [
       "Message(id='2cbe8aa9-d159-420a-ad1c-9598c8406739', message={'role': 'assistant', 'content': ModelResponse(id='gen-1740348328-Nx6BUTpnRFbQFGMSdB7z', created=1740348328, model='openrouter/deepseek/deepseek-chat', object='chat.completion', system_fingerprint=None, choices=[Choices(native_finish_reason='stop', finish_reason='stop', index=0, message=Message(content=\"Hello! I'm just a virtual assistant, so I don't have feelings, but I'm here and ready to help you with anything you need. How are you doing? 😊\", role='assistant', tool_calls=None, function_call=None, provider_specific_fields=None, refusal=None))], usage=Usage(completion_tokens=38, prompt_tokens=15, total_tokens=53, completion_tokens_details=None, prompt_tokens_details=None), provider='Fireworks')}, children={'master': None}, parent_id='c74ad1e4-56d4-40c4-a872-d227ff18005d', home_branch='master')"
      ]
     },
     "execution_count": 12,
     "metadata": {},
     "output_type": "execute_result"
    }
   ],
   "source": [
    "chat.messages[chat.messages[chat.current_id].parent_id]"
   ]
  }
 ],
 "metadata": {
  "kernelspec": {
   "display_name": ".venv",
   "language": "python",
   "name": "python3"
  },
  "language_info": {
   "codemirror_mode": {
    "name": "ipython",
    "version": 3
   },
   "file_extension": ".py",
   "mimetype": "text/x-python",
   "name": "python",
   "nbconvert_exporter": "python",
   "pygments_lexer": "ipython3",
   "version": "3.10.16"
  }
 },
 "nbformat": 4,
 "nbformat_minor": 2
}

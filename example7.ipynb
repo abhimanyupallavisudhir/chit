{
 "cells": [
  {
   "cell_type": "code",
   "execution_count": 1,
   "metadata": {},
   "outputs": [],
   "source": [
    "import chit\n",
    "\n",
    "%load_ext autoreload\n",
    "%autoreload 2\n",
    "\n",
    "chat = chit.Chat.clone(\"chitimps.json\")"
   ]
  },
  {
   "cell_type": "code",
   "execution_count": null,
   "metadata": {},
   "outputs": [
    {
     "data": {
      "text/plain": [
       "ChitMessage(id='bd4cec31', message={'content': 'Yes, this is a great idea! It provides a flexible and explicit way to handle different editor configurations while maintaining good defaults. Here\\'s how we could implement it:\\n\\n```python\\ndef __init__(self, ...):\\n    # ... existing init code ...\\n    self.editor = \"code\"  # default to VSCode\\n    \\ndef _capture_editor_content(self, editor_spec=None):\\n    \"\"\"\\n    Open editor and capture content based on editor specification.\\n    \\n    Editor spec formats:\\n    - None: use self.editor default\\n    - \"code\", \"gedit\", etc: GUI editor\\n    - \"gnome-terminal$vim\", \"xterm$nano\": terminal$editor\\n    - \"$jupyter\": use Jupyter text area\\n    \"\"\"\\n    if editor_spec is None:\\n        editor_spec = self.editor\\n        \\n    with tempfile.NamedTemporaryFile(suffix=\".txt\", mode=\\'w\\', delete=False) as f:\\n        temp_path = f.name\\n    \\n    if editor_spec == \"$jupyter\":\\n        # Use IPython widgets if available\\n        try:\\n            import ipywidgets as widgets\\n            from IPython.display import display\\n            \\n            text_area = widgets.Textarea(\\n                placeholder=\\'Type your message here...\\',\\n                layout=widgets.Layout(width=\\'100%\\', height=\\'200px\\')\\n            )\\n            display(text_area)\\n            content = input(\"Type your message in the text area above and press Enter here when done... \")\\n            return content or text_area.value\\n            \\n        except ImportError:\\n            raise ValueError(\"$jupyter specified but not in a Jupyter environment\")\\n            \\n    elif \\'$\\' in editor_spec:\\n        # Terminal-based editor\\n        terminal, editor = editor_spec.split(\\'$\\')\\n        os.system(f\\'{terminal} -- {editor} {temp_path}\\')\\n    else:\\n        # GUI editor\\n        os.system(f\"{editor_spec} {temp_path}\")\\n    \\n    input(\"Press Enter when you\\'re done editing... \")\\n    \\n    with open(temp_path, \\'r\\') as f:\\n        content = f.read()\\n    \\n    os.unlink(temp_path)\\n    \\n    if content.strip():\\n        return content\\n    else:\\n        raise ValueError(\"No content added to editor\")\\n\\ndef commit(self, message=None, image_path=None, role=None, enable_tools=True):\\n    if message and message.startswith(\"^N\"):\\n        # Parse editor specification\\n        parts = message.split(\"/\", 1)\\n        editor_spec = parts[1] if len(parts) > 1 else None\\n        message = self._capture_editor_content(editor_spec)\\n    \\n    # ... rest of existing commit code ...\\n```\\n\\nUsage examples:\\n```python\\n# Set default editor\\nchat.editor = \"code\"  # or \"gnome-terminal$vim\" etc.\\n\\n# Use default\\nchat.commit(\"^N\")\\n\\n# Use specific GUI editor\\nchat.commit(\"^N/code\")\\nchat.commit(\"^N/gedit\")\\n\\n# Use terminal-based editor\\nchat.commit(\"^N/gnome-terminal$vim\")\\nchat.commit(\"^N/xterm$nano\")\\n\\n# Use Jupyter text area\\nchat.commit(\"^N/$jupyter\")\\n```\\n\\nBenefits of this approach:\\n1. Explicit about what terminal and editor are being used\\n2. Flexible defaults via `self.editor`\\n3. Special handling for Jupyter environments when needed\\n4. Clean syntax for specifying different configurations\\n\\nWould you like me to expand on any part of this implementation?', 'role': 'assistant', 'tool_calls': None, 'function_call': None}, children={'vim': None}, parent_id='83d4bee9', home_branch='vim', tool_calls=None)"
      ]
     },
     "execution_count": 9,
     "metadata": {},
     "output_type": "execute_result"
    }
   ],
   "source": [
    "chat.commit(\"^N/$jupyter\")"
   ]
  },
  {
   "cell_type": "code",
   "execution_count": 11,
   "metadata": {},
   "outputs": [
    {
     "data": {
      "application/vnd.jupyter.widget-view+json": {
       "model_id": "0c8786c3146147468ae0bcf5d3c35937",
       "version_major": 2,
       "version_minor": 0
      },
      "text/plain": [
       "Textarea(value='', layout=Layout(height='200px', width='100%'), placeholder='Type your message here...')"
      ]
     },
     "metadata": {},
     "output_type": "display_data"
    }
   ],
   "source": [
    "import ipywidgets as widgets\n",
    "from IPython.display import display\n",
    "\n",
    "text_area = widgets.Textarea(\n",
    "    placeholder='Type your message here...',\n",
    "    layout=widgets.Layout(width='100%', height='200px')\n",
    ")\n",
    "display(text_area)"
   ]
  }
 ],
 "metadata": {
  "kernelspec": {
   "display_name": ".venv",
   "language": "python",
   "name": "python3"
  },
  "language_info": {
   "codemirror_mode": {
    "name": "ipython",
    "version": 3
   },
   "file_extension": ".py",
   "mimetype": "text/x-python",
   "name": "python",
   "nbconvert_exporter": "python",
   "pygments_lexer": "ipython3",
   "version": "3.10.16"
  }
 },
 "nbformat": 4,
 "nbformat_minor": 2
}

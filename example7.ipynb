{
 "cells": [
  {
   "cell_type": "code",
   "execution_count": 21,
   "metadata": {},
   "outputs": [
    {
     "name": "stdout",
     "output_type": "stream",
     "text": [
      "The autoreload extension is already loaded. To reload it, use:\n",
      "  %reload_ext autoreload\n"
     ]
    }
   ],
   "source": [
    "import chit\n",
    "\n",
    "%load_ext autoreload\n",
    "%autoreload 2\n",
    "\n",
    "chat = chit.Chat.clone(\"chitimps.json\")"
   ]
  },
  {
   "cell_type": "code",
   "execution_count": 29,
   "metadata": {},
   "outputs": [
    {
     "name": "stdout",
     "output_type": "stream",
     "text": [
      "You're right again - options 2 and 3 would have the same problem as `from chit import *`. They would still just create new references in `__init__.py` rather than exposing the actual module variables.\n",
      "\n",
      "The cleanest solutions would be either:\n",
      "\n",
      "1. Move the constants directly into `__init__.py`, or\n",
      "\n",
      "2. In `__init__.py`, import and expose the actual module:\n",
      "```python\n",
      "from . import chit\n",
      "```\n",
      "\n",
      "Then users would need to use `chit.chit.FORCE = True`, which isn't ideal.\n",
      "\n",
      "So moving the constants to `__init__.py` is probably the best solution if you want users to be able to modify them through `chit.FORCE = True`."
     ]
    }
   ],
   "source": [
    "chat.commit()"
   ]
  },
  {
   "cell_type": "code",
   "execution_count": 17,
   "metadata": {},
   "outputs": [],
   "source": [
    "chat.rm(-1)"
   ]
  },
  {
   "cell_type": "code",
   "execution_count": 30,
   "metadata": {},
   "outputs": [
    {
     "name": "stdout",
     "output_type": "stream",
     "text": [
      "Yes, that's exactly right! Creating a separate `config.py` file for your settings is the idiomatic solution. This is a common pattern in Python packages to avoid circular imports and maintain a clear configuration structure.\n",
      "\n",
      "```python\n",
      "# chit/config.py\n",
      "VERBOSE = True\n",
      "FORCE = False\n",
      "AUTOSAVE = True\n",
      "EDITOR = \"code\"\n",
      "\n",
      "# chit/__init__.py\n",
      "from .config import *\n",
      "\n",
      "# chit/chit.py\n",
      "from .config import FORCE, VERBOSE, AUTOSAVE, EDITOR\n",
      "```\n",
      "\n",
      "This pattern is used by many popular Python packages. For example, Django uses a similar approach with its settings module. It's clean, avoids circular imports, and makes it clear where configuration values are defined."
     ]
    }
   ],
   "source": [
    "chat.commit(\n",
    "\"\"\"\n",
    "Well, that works, but VSCode gives me red squiggles for VERBOSE, FORCE etc. in chit/chit.py because they're defined in __init__.py. I can't import them, as that would create a circular import (since I'm importing from .chit import * in chit/__init__.py). What is the idiomatic way to handle this?\n",
    "\n",
    "I'll just create a separate config.py file with the settings defined there and import them in both?\n",
    "\"\"\"\n",
    ")\n",
    "chat.commit()"
   ]
  },
  {
   "cell_type": "code",
   "execution_count": 31,
   "metadata": {},
   "outputs": [],
   "source": [
    "chit.config.FORCE=True"
   ]
  },
  {
   "cell_type": "code",
   "execution_count": 35,
   "metadata": {},
   "outputs": [],
   "source": [
    "chat.checkout(branch_name=\"vim\")"
   ]
  },
  {
   "cell_type": "code",
   "execution_count": 37,
   "metadata": {},
   "outputs": [
    {
     "name": "stdout",
     "output_type": "stream",
     "text": [
      "$jupyter\n"
     ]
    },
    {
     "data": {
      "application/vnd.jupyter.widget-view+json": {
       "model_id": "cf3cd8a73d3a42db9f6d34795cae32a6",
       "version_major": 2,
       "version_minor": 0
      },
      "text/plain": [
       "Textarea(value='', layout=Layout(height='200px', width='100%'), placeholder='Type your message here...')"
      ]
     },
     "metadata": {},
     "output_type": "display_data"
    }
   ],
   "source": [
    "chat.commit(\"^N/$jupyter\")"
   ]
  },
  {
   "cell_type": "code",
   "execution_count": 47,
   "metadata": {},
   "outputs": [
    {
     "name": "stdout",
     "output_type": "stream",
     "text": [
      "That error seems to be a system-specific issue with `gnome-terminal`. Let's try a more robust approach that attempts different terminals if the first choice fails:\n",
      "\n",
      "```python\n",
      "def _capture_editor_content(self, editor_spec=None):\n",
      "    \"\"\"Open editor and capture content based on editor specification.\"\"\"\n",
      "    if editor_spec is None:\n",
      "        editor_spec = self.editor\n",
      "        \n",
      "    with tempfile.NamedTemporaryFile(suffix=\".txt\", mode='w', delete=False) as f:\n",
      "        temp_path = f.name\n",
      "    \n",
      "    if editor_spec == \"$jupyter\":\n",
      "        # ... Jupyter handling ...\n",
      "        pass\n",
      "            \n",
      "    elif '$' in editor_spec:\n",
      "        # Terminal-based editor\n",
      "        terminal, editor = editor_spec.split('$')\n",
      "        \n",
      "        # Try different terminals in order until one works\n",
      "        terminals = [\n",
      "            terminal,  # try the specified terminal first\n",
      "            'gnome-terminal',\n",
      "            'xterm',\n",
      "            'konsole',\n",
      "            'terminator',\n",
      "            'kitty',\n",
      "            'alacritty'\n",
      "        ]\n",
      "        \n",
      "        success = False\n",
      "        for term in terminals:\n",
      "            cmd = f'{term} -- {editor} {temp_path}'\n",
      "            print(f\"Trying: {cmd}\")  # for debugging\n",
      "            if os.system(cmd) == 0:\n",
      "                success = True\n",
      "                break\n",
      "                \n",
      "        if not success:\n",
      "            raise ValueError(f\"Failed to launch terminal editor. Try a different terminal or use a GUI editor.\")\n",
      "    else:\n",
      "        # GUI editor\n",
      "        os.system(f\"{editor_spec} {temp_path}\")\n",
      "    \n",
      "    input(\"Press Enter when you're done editing... \")\n",
      "    \n",
      "    with open(temp_path, 'r') as f:\n",
      "        content = f.read()\n",
      "    \n",
      "    os.unlink(temp_path)\n",
      "    \n",
      "    if content.strip():\n",
      "        return content\n",
      "    else:\n",
      "        raise ValueError(\"No content added to editor\")\n",
      "```\n",
      "\n",
      "Try this version and let me know if any of the alternate terminals work better on your system. You might want to try:\n",
      "```python\n",
      "chat.commit(\"^N/xterm$nano\")  # or\n",
      "chat.commit(\"^N/konsole$nano\")  # or\n",
      "chat.commit(\"^N/terminator$nano\")\n",
      "```\n",
      "\n",
      "The code will try your specified terminal first, then fall back to others if that fails."
     ]
    }
   ],
   "source": [
    "chat.commit(\n",
    "\"\"\"\n",
    "Hmm when I try \"^N/gnome-terminal$nano\" I get:\n",
    "\n",
    "/usr/bin/gnome-terminal.real: symbol lookup error: /snap/core20/current/lib/x86_64-linux-gnu/libpthread.so.0: undefined symbol: __libc_pthread_init, version GLIBC_PRIVATE\n",
    "\n",
    "I verified via a print statement that the command being run is:\n",
    "\n",
    "gnome-terminal -- nano /tmp/tmpn05gm4gg.txt\n",
    "\"\"\"\n",
    ")\n",
    "chat.commit()"
   ]
  },
  {
   "cell_type": "code",
   "execution_count": 55,
   "metadata": {},
   "outputs": [
    {
     "name": "stdout",
     "output_type": "stream",
     "text": [
      "That error seems to be a system-specific issue with `gnome-terminal`. Let's try a more robust approach that attempts different terminals if the first choice fails:\n",
      "\n",
      "```python\n",
      "def _capture_editor_content(self, editor_spec=None):\n",
      "    \"\"\"Open editor and capture content based on editor specification.\"\"\"\n",
      "    if editor_spec is None:\n",
      "        editor_spec = self.editor\n",
      "        \n",
      "    with tempfile.NamedTemporaryFile(suffix=\".txt\", mode='w', delete=False) as f:\n",
      "        temp_path = f.name\n",
      "    \n",
      "    if editor_spec == \"$jupyter\":\n",
      "        # ... Jupyter handling ...\n",
      "        pass\n",
      "            \n",
      "    elif '$' in editor_spec:\n",
      "        # Terminal-based editor\n",
      "        terminal, editor = editor_spec.split('$')\n",
      "        \n",
      "        # Try different terminals in order until one works\n",
      "        terminals = [\n",
      "            terminal,  # try the specified terminal first\n",
      "            'gnome-terminal',\n",
      "            'xterm',\n",
      "            'konsole',\n",
      "            'terminator',\n",
      "            'kitty',\n",
      "            'alacritty'\n",
      "        ]\n",
      "        \n",
      "        success = False\n",
      "        for term in terminals:\n",
      "            cmd = f'{term} -- {editor} {temp_path}'\n",
      "            print(f\"Trying: {cmd}\")  # for debugging\n",
      "            if os.system(cmd) == 0:\n",
      "                success = True\n",
      "                break\n",
      "                \n",
      "        if not success:\n",
      "            raise ValueError(f\"Failed to launch terminal editor. Try a different terminal or use a GUI editor.\")\n",
      "    else:\n",
      "        # GUI editor\n",
      "        os.system(f\"{editor_spec} {temp_path}\")\n",
      "    \n",
      "    input(\"Press Enter when you're done editing... \")\n",
      "    \n",
      "    with open(temp_path, 'r') as f:\n",
      "        content = f.read()\n",
      "    \n",
      "    os.unlink(temp_path)\n",
      "    \n",
      "    if content.strip():\n",
      "        return content\n",
      "    else:\n",
      "        raise ValueError(\"No content added to editor\")\n",
      "```\n",
      "\n",
      "Try this version and let me know if any of the alternate terminals work better on your system. You might want to try:\n",
      "```python\n",
      "chat.commit(\"^N/xterm$nano\")  # or\n",
      "chat.commit(\"^N/konsole$nano\")  # or\n",
      "chat.commit(\"^N/terminator$nano\")\n",
      "```\n",
      "\n",
      "The code will try your specified terminal first, then fall back to others if that fails.\n"
     ]
    }
   ],
   "source": [
    "chat.checkout(branch_name=\"vim\")\n",
    "chat.show(-1)"
   ]
  },
  {
   "cell_type": "code",
   "execution_count": 61,
   "metadata": {},
   "outputs": [
    {
     "name": "stderr",
     "output_type": "stream",
     "text": [
      "/usr/bin/gnome-terminal.real: symbol lookup error: /snap/core20/current/lib/x86_64-linux-gnu/libpthread.so.0: undefined symbol: __libc_pthread_init, version GLIBC_PRIVATE\n"
     ]
    },
    {
     "data": {
      "text/plain": [
       "32512"
      ]
     },
     "execution_count": 61,
     "metadata": {},
     "output_type": "execute_result"
    }
   ],
   "source": [
    "import os\n",
    "os.system(\"gnome-terminal -- nano /tmp/tmpn05gm4gg.txt\")"
   ]
  },
  {
   "cell_type": "code",
   "execution_count": 68,
   "metadata": {},
   "outputs": [
    {
     "name": "stdout",
     "output_type": "stream",
     "text": [
      "WARNING: Current message 0a2fae4b already has a child message 0c718877 on branch master. Creating new branch master_1 to avoid overwriting.\n",
      "To launch a terminal text editor from within a Jupyter notebook, you have a few options:\n",
      "\n",
      "1. Using the `%%writefile` magic command to create/edit files:\n",
      "```python\n",
      "%%writefile filename.txt\n",
      "Your content here\n",
      "```\n",
      "\n",
      "2. Using IPython's built-in editor:\n",
      "```python\n",
      "%edit filename.txt\n",
      "```\n",
      "\n",
      "3. If you specifically need to use a terminal editor like vim, you can use:\n",
      "```python\n",
      "import os\n",
      "os.system('vim filename.txt </dev/tty >/dev/tty 2>&1')\n",
      "```\n",
      "The `</dev/tty >/dev/tty` part redirects input and output to the actual terminal.\n",
      "\n",
      "4. Alternative: Use Python's built-in subprocess:\n",
      "```python\n",
      "import subprocess\n",
      "subprocess.run(['vim', 'filename.txt'], stdin=subprocess.PIPE)\n",
      "```\n",
      "\n",
      "However, it's important to note that running terminal-based editors from within Jupyter notebooks isn't ideal because Jupyter runs in a web browser and doesn't have direct terminal access. Instead, consider these alternatives:\n",
      "\n",
      "1. Use Jupyter's built-in text editor by double-clicking on a file in the Jupyter file browser\n",
      "2. Use the `%%writefile` magic command\n",
      "3. Edit files in a separate terminal window\n",
      "4. Use JupyterLab's built-in text editor\n",
      "5. Use Python's file operations directly:\n",
      "```python\n",
      "with open('filename.txt', 'w') as f:\n",
      "    f.write('your content')\n",
      "```\n",
      "\n",
      "The most reliable approach would be to edit files outside the notebook or use Jupyter's built-in capabilities rather than trying to launch a terminal editor from within the notebook."
     ]
    }
   ],
   "source": [
    "chat.checkout(0)\n",
    "chat.branch(\"vim_again\")\n",
    "chat.commit(\"\"\"\n",
    "What is the best way to launch a terminal text editor as a Python command from within a Jupyter notebook?\n",
    "            \n",
    "Doing it the usual way results in:\n",
    "            \n",
    "Vim: Warning: Output is not to a terminal\n",
    "Vim: Warning: Input is not from a terminal\n",
    "            \n",
    "And nothing is opened.\n",
    "\"\"\")\n",
    "chat.commit()"
   ]
  },
  {
   "cell_type": "code",
   "execution_count": 75,
   "metadata": {},
   "outputs": [
    {
     "name": "stdout",
     "output_type": "stream",
     "text": [
      "Yes! You can use the `%%capture` magic command to capture the output into a variable. Here are a couple approaches:\n",
      "\n",
      "1. Using `%%capture`:\n",
      "```python\n",
      "from IPython.utils.capture import capture_output\n",
      "\n",
      "with capture_output() as c:\n",
      "    %%writefile temp.txt\n",
      "    line1\n",
      "    line2\n",
      "    line3\n",
      "\n",
      "content = c.stdout\n",
      "```\n",
      "\n",
      "2. Even better, you can use `%%writefile -` to write to stdout and capture it:\n",
      "```python\n",
      "from IPython.core.magic import register_cell_magic\n",
      "\n",
      "@register_cell_magic\n",
      "def write_to_var(line, cell):\n",
      "    return cell\n",
      "\n",
      "# Then use it like:\n",
      "content = %%write_to_var\n",
      "line1\n",
      "line2\n",
      "line3\n",
      "```\n",
      "\n",
      "3. Or simply use Python's built-in strings:\n",
      "```python\n",
      "content = \"\"\"\n",
      "line1\n",
      "line2\n",
      "line3\n",
      "\"\"\"\n",
      "```\n",
      "\n",
      "The third option (using triple quotes) is probably the simplest and most straightforward if you just want to create a multi-line string variable.\n",
      "\n",
      "If you need to process the content afterward, you can split it into lines:\n",
      "```python\n",
      "lines = content.strip().split('\\n')\n",
      "```"
     ]
    }
   ],
   "source": [
    "chat.commit(\n",
    "r\"\"\"\n",
    "Ah is there something like %%writefile but for writing to a string variable which can then be used?\n",
    "\"\"\"\n",
    ")\n",
    "chat.commit()"
   ]
  },
  {
   "cell_type": "code",
   "execution_count": 91,
   "metadata": {},
   "outputs": [
    {
     "name": "stdout",
     "output_type": "stream",
     "text": [
      "[S_]0a2fae4b: You are a helpful assistant....\n",
      "    [U_]0c718877: Analyze and review the folowing code:  import tempfile im...\n",
      "        [A_]4b63df07: # Code Analysis and Review  ## Overview  This code implem...\n",
      "            [U_]dc7df04f: One thing I am uncertain about: having to write prompts a...\n",
      "                [A_]f5eb2cb2: # Handling Code and Complex Content in Prompts  You're ab...\n",
      "                    [U_]7fed9b3c: Can you tell me more about Heredoc/textwrap.dedent etc? I...\n",
      "                        [A_]ef9cb79c: # Understanding Heredoc-Style Approaches in Python  ## Wh... (master)\n",
      "                    [U_]057e186c: Maybe a better solution is: when the user gives message \"...\n",
      "                        [A_]aad7afbd: # Implementing a Text Editor Solution for Complex Prompts...\n",
      "                            [U_]1557f58b: Hmm I just tried it (in a Jupyter notebook); it printed t...\n",
      "                                [A_]6b2686b6: # Fixing the Editor in Jupyter Notebook  The issue you're...\n",
      "                                    [U_]c4820bf0: Ok, two things.  1) I want this to be compatible with bot...\n",
      "                                        [A_]11e4c7a4: You're absolutely right on both counts. I overengineered ...\n",
      "                                            [U_]23b84bfb: nano won't work in a Jupyter notebook. I tried with `code...\n",
      "                                                [A_]ee07b62c: Ah, I see the issue. When using `os.system()`, it waits f...\n",
      "                                                    [U_]f4f5a248: It does not have to do with VSCode, or code --wait or wha...\n",
      "                                                        [A_]e12a8f5f: Ah, you're absolutely right - I was completely misunderst...\n",
      "                                                            [U_]add7cb48: Testing; I'm typing this in a temporary file. Hope this w...\n",
      "                                                                [A_]ba0beafb: Yes, the test was successful! The workflow works as inten...\n",
      "                                                                    [U_]2cae65c6: One issue is that this doesn't support terminal-based tex...\n",
      "                                                                        [A_]de4fda97: Yes, we can use a terminal emulator to run terminal-based...\n",
      "                                                                            [U_]3ebbc548: One issue is that this doesn't support terminal-based tex...\n",
      "                                                                                [A_]fd4cda1c: For running terminal-based editors, we need to launch a n...\n",
      "                                                                                    [U_]2eac5cf6: One issue is that this doesn't support terminal-based tex...\n",
      "                                                                                        [A_]da112702: Let's try a simpler solution using `gnome-terminal` (on L...\n",
      "                                                                                            [U_]83d4bee9: How about something like this? We let the message be be f...\n",
      "                                                                                                [A_]bd4cec31: Yes, this is a great idea! It provides a flexible and exp...\n",
      "                                                                                                    [U_]7a0dacfe: Hmm when I try \"^N/gnome-terminal$nano\" I get:  /usr/bin/...\n",
      "                                                                                                        [A_]4f39ddb0: That error seems to be a system-specific issue with `gnom... (vim)\n",
      "    [U_]c19adb91: I have written a Python package, `chit` which has some of...\n",
      "        [A_]fabd542b: This behavior occurs because Python modules maintain thei...\n",
      "            [U_]9ffebb3f: No, I think you're wrong -- setting chit.FORCE = True sho...\n",
      "                [A_]7e83d1f1: Ah, you're absolutely right - I apologize for my confusio...\n",
      "                    [U_]cbdbaaec: I don't think 2 or 3 would work either....\n",
      "                        [A_]6b138a83: You're right again - options 2 and 3 would have the same ...\n",
      "                            [U_]5e78ebda: Well, that works, but VSCode gives me red squiggles for V...\n",
      "                                [A_]f8cf2eac: Yes, that's exactly right! Creating a separate `config.py... (globals)\n",
      "    [U_]b00b02dd: Can you write a RegEx (which I can use in Python) that wi...\n",
      "        [A_]8dea9e9a: Here's a RegEx pattern that will match strings ending wit...\n",
      "            [U_]314abcdc: Actually can you make it so it matches the entire string ...\n",
      "                [A_]f7fa98f7: Here's a RegEx pattern that matches the entire string and... (regex)\n",
      "    [U_]2a490f5f: What is the best way to launch a terminal text editor as ...\n",
      "        [A_]722c5d3b: To launch a terminal text editor from within a Jupyter no...\n",
      "            [U_]967b0fcd: Ah is there something like %%writefile but for writing to...\n",
      "                [A*]8fee5ae5: Yes! You can use the `%%capture` magic command to capture... (vim_again*)\n"
     ]
    }
   ],
   "source": [
    "chat.log('forum')"
   ]
  },
  {
   "cell_type": "code",
   "execution_count": null,
   "metadata": {},
   "outputs": [],
   "source": [
    "chat.checkout('bd4cec31')\n",
    "chat.branch('jupyter')"
   ]
  },
  {
   "cell_type": "code",
   "execution_count": 108,
   "metadata": {},
   "outputs": [
    {
     "name": "stdout",
     "output_type": "stream",
     "text": [
      "I think I understand the issue. When the code is part of a method, the widget's state might not be properly maintained or accessible. Let's modify the Jupyter-specific part to ensure we can reliably capture the content:\n",
      "\n",
      "```python\n",
      "if editor_spec == \"$jupyter\":\n",
      "    try:\n",
      "        import ipywidgets as widgets\n",
      "        from IPython.display import display\n",
      "        \n",
      "        # Create a container to hold our final value\n",
      "        result = {'value': None}\n",
      "        \n",
      "        # Create text area and button\n",
      "        text_area = widgets.Textarea(\n",
      "            placeholder='Type your message here...',\n",
      "            layout=widgets.Layout(width='100%', height='200px')\n",
      "        )\n",
      "        button = widgets.Button(\n",
      "            description='Submit',\n",
      "            button_style='success'\n",
      "        )\n",
      "        \n",
      "        def on_button_clicked(b):\n",
      "            result['value'] = text_area.value\n",
      "        \n",
      "        button.on_click(on_button_clicked)\n",
      "        \n",
      "        # Display widgets\n",
      "        display(text_area, button)\n",
      "        \n",
      "        # Wait for input\n",
      "        while result['value'] is None:\n",
      "            input(\"Click Submit when done, then press Enter here... \")\n",
      "        \n",
      "        return result['value']\n",
      "        \n",
      "    except ImportError:\n",
      "        raise ValueError(\"$jupyter specified but not in a Jupyter environment\")\n",
      "```\n",
      "\n",
      "This approach:\n",
      "1. Uses a button to explicitly capture the content\n",
      "2. Stores the content in a dict to maintain state\n",
      "3. Waits in a loop until we have the content\n",
      "\n",
      "Would you like to try this version and see if it properly captures the text area contents?"
     ]
    }
   ],
   "source": [
    "chat.commit(\n",
    "\"\"\"\n",
    "So that works when I directly run this code in a Jupyter notebook:\n",
    "\n",
    "import ipywidgets as widgets\n",
    "from IPython.display import display\n",
    "\n",
    "text_area = widgets.Textarea(\n",
    "    placeholder=\"Type your message here...\",\n",
    "    layout=widgets.Layout(width=\"100%\", height=\"200px\"),\n",
    ")\n",
    "display(text_area)\n",
    "content = input(\n",
    "    \"Type your message in the text area given and press Enter here when done... \"\n",
    ")\n",
    "\n",
    "Indeed `text_area.value` reflects what I type in the text area (and in fact dynamically keeps up as I change it). But using your code:\n",
    "\n",
    "        if editor_spec == \"$jupyter\":\n",
    "            # Use IPython widgets if available\n",
    "            try:\n",
    "                import ipywidgets as widgets\n",
    "                from IPython.display import display\n",
    "\n",
    "                text_area = widgets.Textarea(\n",
    "                    placeholder=\"Type your message here...\",\n",
    "                    layout=widgets.Layout(width=\"100%\", height=\"200px\"),\n",
    "                )\n",
    "                display(text_area)\n",
    "                content = input(\n",
    "                    \"Type your message in the text area given and press Enter here when done... \"\n",
    "                )\n",
    "                return text_area.value\n",
    "\n",
    "*does not* correctly capture the contents.\n",
    "\"\"\"\n",
    ")\n",
    "chat.commit()"
   ]
  },
  {
   "cell_type": "code",
   "execution_count": null,
   "metadata": {},
   "outputs": [
    {
     "data": {
      "application/vnd.jupyter.widget-view+json": {
       "model_id": "ca8d140725094d8c94f81a8cf86ca72e",
       "version_major": 2,
       "version_minor": 0
      },
      "text/plain": [
       "Textarea(value='', layout=Layout(height='200px', width='100%'), placeholder='Type your message here...')"
      ]
     },
     "metadata": {},
     "output_type": "display_data"
    }
   ],
   "source": [
    "import ipywidgets as widgets\n",
    "from IPython.display import display\n",
    "\n",
    "text_area = widgets.Textarea(\n",
    "    placeholder=\"Type your message here...\",\n",
    "    layout=widgets.Layout(width=\"100%\", height=\"200px\"),\n",
    ")\n",
    "display(text_area)\n",
    "content = input(\n",
    "    \"Type your message in the text area given and press Enter here when done... \"\n",
    ")"
   ]
  },
  {
   "cell_type": "code",
   "execution_count": 111,
   "metadata": {},
   "outputs": [
    {
     "data": {
      "application/vnd.jupyter.widget-view+json": {
       "model_id": "7b1ec95e77654dfbbde9f48b3bd634e1",
       "version_major": 2,
       "version_minor": 0
      },
      "text/plain": [
       "Textarea(value='', layout=Layout(height='200px', width='100%'), placeholder='Type your message here...')"
      ]
     },
     "metadata": {},
     "output_type": "display_data"
    },
    {
     "data": {
      "application/vnd.jupyter.widget-view+json": {
       "model_id": "0859373f79ac460092c794ec66d59e45",
       "version_major": 2,
       "version_minor": 0
      },
      "text/plain": [
       "Button(button_style='success', description='Submit', style=ButtonStyle())"
      ]
     },
     "metadata": {},
     "output_type": "display_data"
    },
    {
     "ename": "KeyboardInterrupt",
     "evalue": "Interrupted by user",
     "output_type": "error",
     "traceback": [
      "\u001b[0;31m---------------------------------------------------------------------------\u001b[0m",
      "\u001b[0;31mKeyboardInterrupt\u001b[0m                         Traceback (most recent call last)",
      "Cell \u001b[0;32mIn[111], line 1\u001b[0m\n\u001b[0;32m----> 1\u001b[0m \u001b[43mchat\u001b[49m\u001b[38;5;241;43m.\u001b[39;49m\u001b[43mcommit\u001b[49m\u001b[43m(\u001b[49m\u001b[38;5;124;43m\"\u001b[39;49m\u001b[38;5;124;43m^N/$jupyter\u001b[39;49m\u001b[38;5;124;43m\"\u001b[39;49m\u001b[43m)\u001b[49m\n",
      "File \u001b[0;32m~/gdrive/Gittable/Code/chit/chit/chit.py:190\u001b[0m, in \u001b[0;36mChat.commit\u001b[0;34m(self, message, image_path, role, enable_tools)\u001b[0m\n\u001b[1;32m    187\u001b[0m \u001b[38;5;28;01mif\u001b[39;00m message \u001b[38;5;129;01mand\u001b[39;00m message\u001b[38;5;241m.\u001b[39mstartswith(\u001b[38;5;124m\"\u001b[39m\u001b[38;5;124m^N\u001b[39m\u001b[38;5;124m\"\u001b[39m):\n\u001b[1;32m    188\u001b[0m     \u001b[38;5;66;03m# Parse editor specification\u001b[39;00m\n\u001b[1;32m    189\u001b[0m     editor_spec \u001b[38;5;241m=\u001b[39m message[\u001b[38;5;241m2\u001b[39m:]\u001b[38;5;241m.\u001b[39mstrip(\u001b[38;5;124m\"\u001b[39m\u001b[38;5;124m/ \u001b[39m\u001b[38;5;124m\"\u001b[39m)\n\u001b[0;32m--> 190\u001b[0m     message \u001b[38;5;241m=\u001b[39m \u001b[38;5;28;43mself\u001b[39;49m\u001b[38;5;241;43m.\u001b[39;49m\u001b[43m_capture_editor_content\u001b[49m\u001b[43m(\u001b[49m\u001b[43meditor_spec\u001b[49m\u001b[43m)\u001b[49m\n\u001b[1;32m    191\u001b[0m \u001b[38;5;28;01mif\u001b[39;00m role \u001b[38;5;129;01mis\u001b[39;00m \u001b[38;5;28;01mNone\u001b[39;00m:  \u001b[38;5;66;03m# automatically infer role based on current message\u001b[39;00m\n\u001b[1;32m    192\u001b[0m     current_role \u001b[38;5;241m=\u001b[39m \u001b[38;5;28mself\u001b[39m[\u001b[38;5;28mself\u001b[39m\u001b[38;5;241m.\u001b[39mcurrent_id]\u001b[38;5;241m.\u001b[39mmessage[\u001b[38;5;124m\"\u001b[39m\u001b[38;5;124mrole\u001b[39m\u001b[38;5;124m\"\u001b[39m]\n",
      "File \u001b[0;32m~/gdrive/Gittable/Code/chit/chit/chit.py:370\u001b[0m, in \u001b[0;36mChat._capture_editor_content\u001b[0;34m(self, editor_spec)\u001b[0m\n\u001b[1;32m    368\u001b[0m     \u001b[38;5;66;03m# Wait for input\u001b[39;00m\n\u001b[1;32m    369\u001b[0m     \u001b[38;5;28;01mwhile\u001b[39;00m result[\u001b[38;5;124m'\u001b[39m\u001b[38;5;124mvalue\u001b[39m\u001b[38;5;124m'\u001b[39m] \u001b[38;5;129;01mis\u001b[39;00m \u001b[38;5;28;01mNone\u001b[39;00m:\n\u001b[0;32m--> 370\u001b[0m         \u001b[38;5;28;43minput\u001b[39;49m\u001b[43m(\u001b[49m\u001b[38;5;124;43m\"\u001b[39;49m\u001b[38;5;124;43mClick Submit when done, then press Enter here... \u001b[39;49m\u001b[38;5;124;43m\"\u001b[39;49m\u001b[43m)\u001b[49m\n\u001b[1;32m    372\u001b[0m     \u001b[38;5;28;01mreturn\u001b[39;00m result[\u001b[38;5;124m'\u001b[39m\u001b[38;5;124mvalue\u001b[39m\u001b[38;5;124m'\u001b[39m]\n\u001b[1;32m    373\u001b[0m \u001b[38;5;28;01mexcept\u001b[39;00m \u001b[38;5;167;01mImportError\u001b[39;00m:\n",
      "File \u001b[0;32m~/gdrive/Gittable/Code/chit/.venv/lib/python3.10/site-packages/ipykernel/kernelbase.py:1282\u001b[0m, in \u001b[0;36mKernel.raw_input\u001b[0;34m(self, prompt)\u001b[0m\n\u001b[1;32m   1280\u001b[0m     msg \u001b[38;5;241m=\u001b[39m \u001b[38;5;124m\"\u001b[39m\u001b[38;5;124mraw_input was called, but this frontend does not support input requests.\u001b[39m\u001b[38;5;124m\"\u001b[39m\n\u001b[1;32m   1281\u001b[0m     \u001b[38;5;28;01mraise\u001b[39;00m StdinNotImplementedError(msg)\n\u001b[0;32m-> 1282\u001b[0m \u001b[38;5;28;01mreturn\u001b[39;00m \u001b[38;5;28;43mself\u001b[39;49m\u001b[38;5;241;43m.\u001b[39;49m\u001b[43m_input_request\u001b[49m\u001b[43m(\u001b[49m\n\u001b[1;32m   1283\u001b[0m \u001b[43m    \u001b[49m\u001b[38;5;28;43mstr\u001b[39;49m\u001b[43m(\u001b[49m\u001b[43mprompt\u001b[49m\u001b[43m)\u001b[49m\u001b[43m,\u001b[49m\n\u001b[1;32m   1284\u001b[0m \u001b[43m    \u001b[49m\u001b[38;5;28;43mself\u001b[39;49m\u001b[38;5;241;43m.\u001b[39;49m\u001b[43m_parent_ident\u001b[49m\u001b[43m[\u001b[49m\u001b[38;5;124;43m\"\u001b[39;49m\u001b[38;5;124;43mshell\u001b[39;49m\u001b[38;5;124;43m\"\u001b[39;49m\u001b[43m]\u001b[49m\u001b[43m,\u001b[49m\n\u001b[1;32m   1285\u001b[0m \u001b[43m    \u001b[49m\u001b[38;5;28;43mself\u001b[39;49m\u001b[38;5;241;43m.\u001b[39;49m\u001b[43mget_parent\u001b[49m\u001b[43m(\u001b[49m\u001b[38;5;124;43m\"\u001b[39;49m\u001b[38;5;124;43mshell\u001b[39;49m\u001b[38;5;124;43m\"\u001b[39;49m\u001b[43m)\u001b[49m\u001b[43m,\u001b[49m\n\u001b[1;32m   1286\u001b[0m \u001b[43m    \u001b[49m\u001b[43mpassword\u001b[49m\u001b[38;5;241;43m=\u001b[39;49m\u001b[38;5;28;43;01mFalse\u001b[39;49;00m\u001b[43m,\u001b[49m\n\u001b[1;32m   1287\u001b[0m \u001b[43m\u001b[49m\u001b[43m)\u001b[49m\n",
      "File \u001b[0;32m~/gdrive/Gittable/Code/chit/.venv/lib/python3.10/site-packages/ipykernel/kernelbase.py:1325\u001b[0m, in \u001b[0;36mKernel._input_request\u001b[0;34m(self, prompt, ident, parent, password)\u001b[0m\n\u001b[1;32m   1322\u001b[0m \u001b[38;5;28;01mexcept\u001b[39;00m \u001b[38;5;167;01mKeyboardInterrupt\u001b[39;00m:\n\u001b[1;32m   1323\u001b[0m     \u001b[38;5;66;03m# re-raise KeyboardInterrupt, to truncate traceback\u001b[39;00m\n\u001b[1;32m   1324\u001b[0m     msg \u001b[38;5;241m=\u001b[39m \u001b[38;5;124m\"\u001b[39m\u001b[38;5;124mInterrupted by user\u001b[39m\u001b[38;5;124m\"\u001b[39m\n\u001b[0;32m-> 1325\u001b[0m     \u001b[38;5;28;01mraise\u001b[39;00m \u001b[38;5;167;01mKeyboardInterrupt\u001b[39;00m(msg) \u001b[38;5;28;01mfrom\u001b[39;00m\u001b[38;5;250m \u001b[39m\u001b[38;5;28;01mNone\u001b[39;00m\n\u001b[1;32m   1326\u001b[0m \u001b[38;5;28;01mexcept\u001b[39;00m \u001b[38;5;167;01mException\u001b[39;00m:\n\u001b[1;32m   1327\u001b[0m     \u001b[38;5;28mself\u001b[39m\u001b[38;5;241m.\u001b[39mlog\u001b[38;5;241m.\u001b[39mwarning(\u001b[38;5;124m\"\u001b[39m\u001b[38;5;124mInvalid Message:\u001b[39m\u001b[38;5;124m\"\u001b[39m, exc_info\u001b[38;5;241m=\u001b[39m\u001b[38;5;28;01mTrue\u001b[39;00m)\n",
      "\u001b[0;31mKeyboardInterrupt\u001b[0m: Interrupted by user"
     ]
    }
   ],
   "source": [
    "chat.commit(\"^N/$jupyter\")"
   ]
  },
  {
   "cell_type": "code",
   "execution_count": 112,
   "metadata": {},
   "outputs": [],
   "source": [
    "chat.push()"
   ]
  }
 ],
 "metadata": {
  "kernelspec": {
   "display_name": ".venv",
   "language": "python",
   "name": "python3"
  },
  "language_info": {
   "codemirror_mode": {
    "name": "ipython",
    "version": 3
   },
   "file_extension": ".py",
   "mimetype": "text/x-python",
   "name": "python",
   "nbconvert_exporter": "python",
   "pygments_lexer": "ipython3",
   "version": "3.10.16"
  }
 },
 "nbformat": 4,
 "nbformat_minor": 2
}

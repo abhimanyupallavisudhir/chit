{
 "cells": [
  {
   "cell_type": "code",
   "execution_count": 1,
   "metadata": {},
   "outputs": [],
   "source": [
    "import chit\n",
    "\n",
    "%load_ext autoreload\n",
    "%autoreload 2\n",
    "\n",
    "chat = chit.Chat.clone(\"chitimps.json\")"
   ]
  },
  {
   "cell_type": "code",
   "execution_count": 2,
   "metadata": {},
   "outputs": [
    {
     "name": "stdout",
     "output_type": "stream",
     "text": [
      "Ah, this is a common issue! The idiomatic way to handle this is to create a separate `config.py` (or `settings.py`) module that contains these constants, and then import from that in both `__init__.py` and `chit.py`. This breaks the circular dependency.\n",
      "\n",
      "```python\n",
      "# chit/config.py\n",
      "VERBOSE = True\n",
      "FORCE = False\n",
      "AUTOSAVE = True\n",
      "EDITOR = \"code\"\n",
      "\n",
      "# chit/__init__.py\n",
      "from .config import *\n",
      "\n",
      "# chit/chit.py\n",
      "from .config import VERBOSE, FORCE, AUTOSAVE, EDITOR\n",
      "\n",
      "def cconfirm(prompt: str) -> bool:\n",
      "    print(FORCE)\n",
      "    if not FORCE:\n",
      "        response = input(f\"{prompt} (y/n) \")\n",
      "        return response.lower() == \"y\"\n",
      "    return True\n",
      "```\n",
      "\n",
      "This is a common pattern in Python packages where you need to share configuration across multiple modules. It's clean, explicit, and avoids circular imports."
     ]
    }
   ],
   "source": [
    "chat.commit(\n",
    "\"\"\"\n",
    "Well, that works, but VSCode gives me red squiggles for VERBOSE, FORCE etc. in chit/chit.py because they're defined in __init__.py. I can't import them, as that would create a circular import (since I'm importing from .chit import * in chit/__init__.py). What is the idiomatic way to handle this?\n",
    "\"\"\"\n",
    ")\n",
    "chat.commit()"
   ]
  },
  {
   "cell_type": "code",
   "execution_count": null,
   "metadata": {},
   "outputs": [],
   "source": [
    "chit.config.FORCE=True"
   ]
  },
  {
   "cell_type": "code",
   "execution_count": 25,
   "metadata": {},
   "outputs": [
    {
     "data": {
      "application/vnd.jupyter.widget-view+json": {
       "model_id": "56b3ffd154cc41569f6a2b2ed9398e4a",
       "version_major": 2,
       "version_minor": 0
      },
      "text/plain": [
       "Textarea(value='', layout=Layout(height='200px', width='100%'), placeholder='Type your message here...')"
      ]
     },
     "metadata": {},
     "output_type": "display_data"
    }
   ],
   "source": [
    "chat.commit(\"^N/$jupyter\")"
   ]
  },
  {
   "cell_type": "code",
   "execution_count": 6,
   "metadata": {},
   "outputs": [],
   "source": [
    "chat.commit(\"^$N/code\")"
   ]
  }
 ],
 "metadata": {
  "kernelspec": {
   "display_name": ".venv",
   "language": "python",
   "name": "python3"
  },
  "language_info": {
   "codemirror_mode": {
    "name": "ipython",
    "version": 3
   },
   "file_extension": ".py",
   "mimetype": "text/x-python",
   "name": "python",
   "nbconvert_exporter": "python",
   "pygments_lexer": "ipython3",
   "version": "3.10.16"
  }
 },
 "nbformat": 4,
 "nbformat_minor": 2
}

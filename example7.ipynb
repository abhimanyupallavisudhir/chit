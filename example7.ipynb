{
 "cells": [
  {
   "cell_type": "code",
   "execution_count": 21,
   "metadata": {},
   "outputs": [
    {
     "name": "stdout",
     "output_type": "stream",
     "text": [
      "The autoreload extension is already loaded. To reload it, use:\n",
      "  %reload_ext autoreload\n"
     ]
    }
   ],
   "source": [
    "import chit\n",
    "\n",
    "%load_ext autoreload\n",
    "%autoreload 2\n",
    "\n",
    "chat = chit.Chat.clone(\"chitimps.json\")"
   ]
  },
  {
   "cell_type": "code",
   "execution_count": 29,
   "metadata": {},
   "outputs": [
    {
     "name": "stdout",
     "output_type": "stream",
     "text": [
      "You're right again - options 2 and 3 would have the same problem as `from chit import *`. They would still just create new references in `__init__.py` rather than exposing the actual module variables.\n",
      "\n",
      "The cleanest solutions would be either:\n",
      "\n",
      "1. Move the constants directly into `__init__.py`, or\n",
      "\n",
      "2. In `__init__.py`, import and expose the actual module:\n",
      "```python\n",
      "from . import chit\n",
      "```\n",
      "\n",
      "Then users would need to use `chit.chit.FORCE = True`, which isn't ideal.\n",
      "\n",
      "So moving the constants to `__init__.py` is probably the best solution if you want users to be able to modify them through `chit.FORCE = True`."
     ]
    }
   ],
   "source": [
    "chat.commit()"
   ]
  },
  {
   "cell_type": "code",
   "execution_count": 17,
   "metadata": {},
   "outputs": [],
   "source": [
    "chat.rm(-1)"
   ]
  },
  {
   "cell_type": "code",
   "execution_count": 30,
   "metadata": {},
   "outputs": [
    {
     "name": "stdout",
     "output_type": "stream",
     "text": [
      "Yes, that's exactly right! Creating a separate `config.py` file for your settings is the idiomatic solution. This is a common pattern in Python packages to avoid circular imports and maintain a clear configuration structure.\n",
      "\n",
      "```python\n",
      "# chit/config.py\n",
      "VERBOSE = True\n",
      "FORCE = False\n",
      "AUTOSAVE = True\n",
      "EDITOR = \"code\"\n",
      "\n",
      "# chit/__init__.py\n",
      "from .config import *\n",
      "\n",
      "# chit/chit.py\n",
      "from .config import FORCE, VERBOSE, AUTOSAVE, EDITOR\n",
      "```\n",
      "\n",
      "This pattern is used by many popular Python packages. For example, Django uses a similar approach with its settings module. It's clean, avoids circular imports, and makes it clear where configuration values are defined."
     ]
    }
   ],
   "source": [
    "chat.commit(\n",
    "\"\"\"\n",
    "Well, that works, but VSCode gives me red squiggles for VERBOSE, FORCE etc. in chit/chit.py because they're defined in __init__.py. I can't import them, as that would create a circular import (since I'm importing from .chit import * in chit/__init__.py). What is the idiomatic way to handle this?\n",
    "\n",
    "I'll just create a separate config.py file with the settings defined there and import them in both?\n",
    "\"\"\"\n",
    ")\n",
    "chat.commit()"
   ]
  },
  {
   "cell_type": "code",
   "execution_count": 31,
   "metadata": {},
   "outputs": [],
   "source": [
    "chit.config.FORCE=True"
   ]
  },
  {
   "cell_type": "code",
   "execution_count": 35,
   "metadata": {},
   "outputs": [],
   "source": [
    "chat.checkout(branch_name=\"vim\")"
   ]
  },
  {
   "cell_type": "code",
   "execution_count": 37,
   "metadata": {},
   "outputs": [
    {
     "name": "stdout",
     "output_type": "stream",
     "text": [
      "$jupyter\n"
     ]
    },
    {
     "data": {
      "application/vnd.jupyter.widget-view+json": {
       "model_id": "cf3cd8a73d3a42db9f6d34795cae32a6",
       "version_major": 2,
       "version_minor": 0
      },
      "text/plain": [
       "Textarea(value='', layout=Layout(height='200px', width='100%'), placeholder='Type your message here...')"
      ]
     },
     "metadata": {},
     "output_type": "display_data"
    }
   ],
   "source": [
    "chat.commit(\"^N/$jupyter\")"
   ]
  },
  {
   "cell_type": "code",
   "execution_count": 47,
   "metadata": {},
   "outputs": [
    {
     "name": "stdout",
     "output_type": "stream",
     "text": [
      "That error seems to be a system-specific issue with `gnome-terminal`. Let's try a more robust approach that attempts different terminals if the first choice fails:\n",
      "\n",
      "```python\n",
      "def _capture_editor_content(self, editor_spec=None):\n",
      "    \"\"\"Open editor and capture content based on editor specification.\"\"\"\n",
      "    if editor_spec is None:\n",
      "        editor_spec = self.editor\n",
      "        \n",
      "    with tempfile.NamedTemporaryFile(suffix=\".txt\", mode='w', delete=False) as f:\n",
      "        temp_path = f.name\n",
      "    \n",
      "    if editor_spec == \"$jupyter\":\n",
      "        # ... Jupyter handling ...\n",
      "        pass\n",
      "            \n",
      "    elif '$' in editor_spec:\n",
      "        # Terminal-based editor\n",
      "        terminal, editor = editor_spec.split('$')\n",
      "        \n",
      "        # Try different terminals in order until one works\n",
      "        terminals = [\n",
      "            terminal,  # try the specified terminal first\n",
      "            'gnome-terminal',\n",
      "            'xterm',\n",
      "            'konsole',\n",
      "            'terminator',\n",
      "            'kitty',\n",
      "            'alacritty'\n",
      "        ]\n",
      "        \n",
      "        success = False\n",
      "        for term in terminals:\n",
      "            cmd = f'{term} -- {editor} {temp_path}'\n",
      "            print(f\"Trying: {cmd}\")  # for debugging\n",
      "            if os.system(cmd) == 0:\n",
      "                success = True\n",
      "                break\n",
      "                \n",
      "        if not success:\n",
      "            raise ValueError(f\"Failed to launch terminal editor. Try a different terminal or use a GUI editor.\")\n",
      "    else:\n",
      "        # GUI editor\n",
      "        os.system(f\"{editor_spec} {temp_path}\")\n",
      "    \n",
      "    input(\"Press Enter when you're done editing... \")\n",
      "    \n",
      "    with open(temp_path, 'r') as f:\n",
      "        content = f.read()\n",
      "    \n",
      "    os.unlink(temp_path)\n",
      "    \n",
      "    if content.strip():\n",
      "        return content\n",
      "    else:\n",
      "        raise ValueError(\"No content added to editor\")\n",
      "```\n",
      "\n",
      "Try this version and let me know if any of the alternate terminals work better on your system. You might want to try:\n",
      "```python\n",
      "chat.commit(\"^N/xterm$nano\")  # or\n",
      "chat.commit(\"^N/konsole$nano\")  # or\n",
      "chat.commit(\"^N/terminator$nano\")\n",
      "```\n",
      "\n",
      "The code will try your specified terminal first, then fall back to others if that fails."
     ]
    }
   ],
   "source": [
    "chat.commit(\n",
    "\"\"\"\n",
    "Hmm when I try \"^N/gnome-terminal$nano\" I get:\n",
    "\n",
    "/usr/bin/gnome-terminal.real: symbol lookup error: /snap/core20/current/lib/x86_64-linux-gnu/libpthread.so.0: undefined symbol: __libc_pthread_init, version GLIBC_PRIVATE\n",
    "\n",
    "I verified via a print statement that the command being run is:\n",
    "\n",
    "gnome-terminal -- nano /tmp/tmpn05gm4gg.txt\n",
    "\"\"\"\n",
    ")\n",
    "chat.commit()"
   ]
  },
  {
   "cell_type": "code",
   "execution_count": 55,
   "metadata": {},
   "outputs": [
    {
     "name": "stdout",
     "output_type": "stream",
     "text": [
      "That error seems to be a system-specific issue with `gnome-terminal`. Let's try a more robust approach that attempts different terminals if the first choice fails:\n",
      "\n",
      "```python\n",
      "def _capture_editor_content(self, editor_spec=None):\n",
      "    \"\"\"Open editor and capture content based on editor specification.\"\"\"\n",
      "    if editor_spec is None:\n",
      "        editor_spec = self.editor\n",
      "        \n",
      "    with tempfile.NamedTemporaryFile(suffix=\".txt\", mode='w', delete=False) as f:\n",
      "        temp_path = f.name\n",
      "    \n",
      "    if editor_spec == \"$jupyter\":\n",
      "        # ... Jupyter handling ...\n",
      "        pass\n",
      "            \n",
      "    elif '$' in editor_spec:\n",
      "        # Terminal-based editor\n",
      "        terminal, editor = editor_spec.split('$')\n",
      "        \n",
      "        # Try different terminals in order until one works\n",
      "        terminals = [\n",
      "            terminal,  # try the specified terminal first\n",
      "            'gnome-terminal',\n",
      "            'xterm',\n",
      "            'konsole',\n",
      "            'terminator',\n",
      "            'kitty',\n",
      "            'alacritty'\n",
      "        ]\n",
      "        \n",
      "        success = False\n",
      "        for term in terminals:\n",
      "            cmd = f'{term} -- {editor} {temp_path}'\n",
      "            print(f\"Trying: {cmd}\")  # for debugging\n",
      "            if os.system(cmd) == 0:\n",
      "                success = True\n",
      "                break\n",
      "                \n",
      "        if not success:\n",
      "            raise ValueError(f\"Failed to launch terminal editor. Try a different terminal or use a GUI editor.\")\n",
      "    else:\n",
      "        # GUI editor\n",
      "        os.system(f\"{editor_spec} {temp_path}\")\n",
      "    \n",
      "    input(\"Press Enter when you're done editing... \")\n",
      "    \n",
      "    with open(temp_path, 'r') as f:\n",
      "        content = f.read()\n",
      "    \n",
      "    os.unlink(temp_path)\n",
      "    \n",
      "    if content.strip():\n",
      "        return content\n",
      "    else:\n",
      "        raise ValueError(\"No content added to editor\")\n",
      "```\n",
      "\n",
      "Try this version and let me know if any of the alternate terminals work better on your system. You might want to try:\n",
      "```python\n",
      "chat.commit(\"^N/xterm$nano\")  # or\n",
      "chat.commit(\"^N/konsole$nano\")  # or\n",
      "chat.commit(\"^N/terminator$nano\")\n",
      "```\n",
      "\n",
      "The code will try your specified terminal first, then fall back to others if that fails.\n"
     ]
    }
   ],
   "source": [
    "chat.checkout(branch_name=\"vim\")\n",
    "chat.show(-1)"
   ]
  },
  {
   "cell_type": "code",
   "execution_count": 61,
   "metadata": {},
   "outputs": [
    {
     "name": "stderr",
     "output_type": "stream",
     "text": [
      "/usr/bin/gnome-terminal.real: symbol lookup error: /snap/core20/current/lib/x86_64-linux-gnu/libpthread.so.0: undefined symbol: __libc_pthread_init, version GLIBC_PRIVATE\n"
     ]
    },
    {
     "data": {
      "text/plain": [
       "32512"
      ]
     },
     "execution_count": 61,
     "metadata": {},
     "output_type": "execute_result"
    }
   ],
   "source": [
    "import os\n",
    "os.system(\"gnome-terminal -- nano /tmp/tmpn05gm4gg.txt\")"
   ]
  },
  {
   "cell_type": "code",
   "execution_count": 68,
   "metadata": {},
   "outputs": [
    {
     "name": "stdout",
     "output_type": "stream",
     "text": [
      "WARNING: Current message 0a2fae4b already has a child message 0c718877 on branch master. Creating new branch master_1 to avoid overwriting.\n",
      "To launch a terminal text editor from within a Jupyter notebook, you have a few options:\n",
      "\n",
      "1. Using the `%%writefile` magic command to create/edit files:\n",
      "```python\n",
      "%%writefile filename.txt\n",
      "Your content here\n",
      "```\n",
      "\n",
      "2. Using IPython's built-in editor:\n",
      "```python\n",
      "%edit filename.txt\n",
      "```\n",
      "\n",
      "3. If you specifically need to use a terminal editor like vim, you can use:\n",
      "```python\n",
      "import os\n",
      "os.system('vim filename.txt </dev/tty >/dev/tty 2>&1')\n",
      "```\n",
      "The `</dev/tty >/dev/tty` part redirects input and output to the actual terminal.\n",
      "\n",
      "4. Alternative: Use Python's built-in subprocess:\n",
      "```python\n",
      "import subprocess\n",
      "subprocess.run(['vim', 'filename.txt'], stdin=subprocess.PIPE)\n",
      "```\n",
      "\n",
      "However, it's important to note that running terminal-based editors from within Jupyter notebooks isn't ideal because Jupyter runs in a web browser and doesn't have direct terminal access. Instead, consider these alternatives:\n",
      "\n",
      "1. Use Jupyter's built-in text editor by double-clicking on a file in the Jupyter file browser\n",
      "2. Use the `%%writefile` magic command\n",
      "3. Edit files in a separate terminal window\n",
      "4. Use JupyterLab's built-in text editor\n",
      "5. Use Python's file operations directly:\n",
      "```python\n",
      "with open('filename.txt', 'w') as f:\n",
      "    f.write('your content')\n",
      "```\n",
      "\n",
      "The most reliable approach would be to edit files outside the notebook or use Jupyter's built-in capabilities rather than trying to launch a terminal editor from within the notebook."
     ]
    }
   ],
   "source": [
    "chat.checkout(0)\n",
    "chat.branch(\"vim_again\")\n",
    "chat.commit(\"\"\"\n",
    "What is the best way to launch a terminal text editor as a Python command from within a Jupyter notebook?\n",
    "            \n",
    "Doing it the usual way results in:\n",
    "            \n",
    "Vim: Warning: Output is not to a terminal\n",
    "Vim: Warning: Input is not from a terminal\n",
    "            \n",
    "And nothing is opened.\n",
    "\"\"\")\n",
    "chat.commit()"
   ]
  },
  {
   "cell_type": "code",
   "execution_count": 75,
   "metadata": {},
   "outputs": [
    {
     "name": "stdout",
     "output_type": "stream",
     "text": [
      "Yes! You can use the `%%capture` magic command to capture the output into a variable. Here are a couple approaches:\n",
      "\n",
      "1. Using `%%capture`:\n",
      "```python\n",
      "from IPython.utils.capture import capture_output\n",
      "\n",
      "with capture_output() as c:\n",
      "    %%writefile temp.txt\n",
      "    line1\n",
      "    line2\n",
      "    line3\n",
      "\n",
      "content = c.stdout\n",
      "```\n",
      "\n",
      "2. Even better, you can use `%%writefile -` to write to stdout and capture it:\n",
      "```python\n",
      "from IPython.core.magic import register_cell_magic\n",
      "\n",
      "@register_cell_magic\n",
      "def write_to_var(line, cell):\n",
      "    return cell\n",
      "\n",
      "# Then use it like:\n",
      "content = %%write_to_var\n",
      "line1\n",
      "line2\n",
      "line3\n",
      "```\n",
      "\n",
      "3. Or simply use Python's built-in strings:\n",
      "```python\n",
      "content = \"\"\"\n",
      "line1\n",
      "line2\n",
      "line3\n",
      "\"\"\"\n",
      "```\n",
      "\n",
      "The third option (using triple quotes) is probably the simplest and most straightforward if you just want to create a multi-line string variable.\n",
      "\n",
      "If you need to process the content afterward, you can split it into lines:\n",
      "```python\n",
      "lines = content.strip().split('\\n')\n",
      "```"
     ]
    }
   ],
   "source": [
    "chat.commit(\n",
    "r\"\"\"\n",
    "Ah is there something like %%writefile but for writing to a string variable which can then be used?\n",
    "\"\"\"\n",
    ")\n",
    "chat.commit()"
   ]
  }
 ],
 "metadata": {
  "kernelspec": {
   "display_name": ".venv",
   "language": "python",
   "name": "python3"
  },
  "language_info": {
   "codemirror_mode": {
    "name": "ipython",
    "version": 3
   },
   "file_extension": ".py",
   "mimetype": "text/x-python",
   "name": "python",
   "nbconvert_exporter": "python",
   "pygments_lexer": "ipython3",
   "version": "3.10.16"
  }
 },
 "nbformat": 4,
 "nbformat_minor": 2
}

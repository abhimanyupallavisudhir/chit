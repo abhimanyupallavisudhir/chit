{
 "cells": [
  {
   "cell_type": "code",
   "execution_count": 39,
   "metadata": {},
   "outputs": [
    {
     "name": "stdout",
     "output_type": "stream",
     "text": [
      "The autoreload extension is already loaded. To reload it, use:\n",
      "  %reload_ext autoreload\n"
     ]
    }
   ],
   "source": [
    "import chit\n",
    "\n",
    "%load_ext autoreload\n",
    "%autoreload 2"
   ]
  },
  {
   "cell_type": "code",
   "execution_count": 40,
   "metadata": {},
   "outputs": [],
   "source": [
    "chat = chit.Chat.clone(\"foo.json\")"
   ]
  },
  {
   "cell_type": "code",
   "execution_count": 74,
   "metadata": {},
   "outputs": [
    {
     "name": "stdout",
     "output_type": "stream",
     "text": [
      "[s_]bda71f──[u_]d47ce6──[a*]50e45a── (master*)\n",
      "          │           └─[a_]075fa6── (retry_response)\n",
      "          └─[u_]cb330f──[a_]51a774──[u_]e372f7──[a_]81eaef──[u_]cd01ca──[a_]8950ce── (edit_prompt)\n"
     ]
    }
   ],
   "source": [
    "print(chat.log())"
   ]
  },
  {
   "cell_type": "code",
   "execution_count": null,
   "metadata": {},
   "outputs": [],
   "source": [
    "chat.checkout(\"d47ce694-84d8-4c51-af30-90e60941bb0c\")\n",
    "chat.branch(\"new_branch\")\n",
    "chat.checkout(\"new_branch\")"
   ]
  },
  {
   "cell_type": "code",
   "execution_count": 76,
   "metadata": {},
   "outputs": [
    {
     "name": "stdout",
     "output_type": "stream",
     "text": [
      "[s_]bda71f──[u*]d47ce6──[a_]50e45a── (master*)\n",
      "          │           └─[a_]075fa6── (retry_response)\n",
      "          └─[u_]cb330f──[a_]51a774──[u_]e372f7──[a_]81eaef──[u_]cd01ca──[a_]8950ce── (edit_prompt)\n"
     ]
    }
   ],
   "source": [
    "print(chat.log())"
   ]
  }
 ],
 "metadata": {
  "kernelspec": {
   "display_name": ".venv",
   "language": "python",
   "name": "python3"
  },
  "language_info": {
   "codemirror_mode": {
    "name": "ipython",
    "version": 3
   },
   "file_extension": ".py",
   "mimetype": "text/x-python",
   "name": "python",
   "nbconvert_exporter": "python",
   "pygments_lexer": "ipython3",
   "version": "3.10.16"
  }
 },
 "nbformat": 4,
 "nbformat_minor": 2
}

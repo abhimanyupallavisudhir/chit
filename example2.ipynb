{
 "cells": [
  {
   "cell_type": "code",
   "execution_count": 120,
   "metadata": {},
   "outputs": [
    {
     "name": "stdout",
     "output_type": "stream",
     "text": [
      "The autoreload extension is already loaded. To reload it, use:\n",
      "  %reload_ext autoreload\n"
     ]
    }
   ],
   "source": [
    "import chit\n",
    "\n",
    "%load_ext autoreload\n",
    "%autoreload 2"
   ]
  },
  {
   "cell_type": "code",
   "execution_count": 128,
   "metadata": {},
   "outputs": [],
   "source": [
    "chat = chit.Chat.clone(\"foo.json\")"
   ]
  },
  {
   "cell_type": "code",
   "execution_count": 129,
   "metadata": {},
   "outputs": [
    {
     "name": "stdout",
     "output_type": "stream",
     "text": [
      "[S_]dfac3dae──[U_]203da29b──[A*]dab57316── (master*)\n",
      "            │             └─[A_]2ad8645b── (retry_response)\n",
      "            └─[U_]ecf21cad──[A_]af5de4e2──[U_]1aeaedd1──[A_]afacbdeb──[U_]f05b7bd4──[A_]8ee7390f── (edit_prompt)\n"
     ]
    }
   ],
   "source": [
    "chat.log(\"tree\")"
   ]
  },
  {
   "cell_type": "code",
   "execution_count": 130,
   "metadata": {},
   "outputs": [
    {
     "name": "stdout",
     "output_type": "stream",
     "text": [
      "[S_]dfac3dae──[U*]203da29b──[A_]dab57316── (master)\n",
      "            │             ├─[A_]2ad8645b── (retry_response)\n",
      "            │             └─ (new_branch*)\n",
      "            └─[U_]ecf21cad──[A_]af5de4e2──[U_]1aeaedd1──[A_]afacbdeb──[U_]f05b7bd4──[A_]8ee7390f── (edit_prompt)\n"
     ]
    }
   ],
   "source": [
    "chat.checkout(\"203da29b\")\n",
    "chat.branch(\"new_branch\")\n",
    "chat.checkout(branch_name=\"new_branch\")\n",
    "chat.log(\"tree\")"
   ]
  },
  {
   "cell_type": "code",
   "execution_count": 133,
   "metadata": {},
   "outputs": [
    {
     "name": "stdout",
     "output_type": "stream",
     "text": [
      "[S_]dfac3dae: You are a helpful assistant....\n",
      "    [U*]203da29b: Hey, how are you?...\n",
      "        [A_]dab57316: Hi! I’m just a bunch of code, so I don’t have feelings, b... (master)\n",
      "        [A_]2ad8645b: Hello! I'm just a program, so I don't have feelings, but ... (retry_response)\n",
      "         (new_branch*)\n",
      "    [U_]ecf21cad: Solve the Riemann hypothesis....\n",
      "        [A_]af5de4e2: The Riemann Hypothesis is one of the most famous unsolved...\n",
      "            [U_]1aeaedd1: <IMG>Ok, describe this image. What type of image is it?...\n",
      "                [A_]afacbdeb: It seems like your message got cut off, but I’ll do my be...\n",
      "                    [U_]f05b7bd4: <IMG>Ok, I gave you image analysis powers now. Try again....\n",
      "                        [A_]8ee7390f: This appears to be a screenshot from a programming enviro... (edit_prompt)\n"
     ]
    }
   ],
   "source": [
    "chat.log(\"forum\")"
   ]
  }
 ],
 "metadata": {
  "kernelspec": {
   "display_name": ".venv",
   "language": "python",
   "name": "python3"
  },
  "language_info": {
   "codemirror_mode": {
    "name": "ipython",
    "version": 3
   },
   "file_extension": ".py",
   "mimetype": "text/x-python",
   "name": "python",
   "nbconvert_exporter": "python",
   "pygments_lexer": "ipython3",
   "version": "3.10.16"
  }
 },
 "nbformat": 4,
 "nbformat_minor": 2
}

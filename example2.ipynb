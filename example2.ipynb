{
 "cells": [
  {
   "cell_type": "code",
   "execution_count": 39,
   "metadata": {},
   "outputs": [
    {
     "name": "stdout",
     "output_type": "stream",
     "text": [
      "The autoreload extension is already loaded. To reload it, use:\n",
      "  %reload_ext autoreload\n"
     ]
    }
   ],
   "source": [
    "import chit\n",
    "\n",
    "%load_ext autoreload\n",
    "%autoreload 2"
   ]
  },
  {
   "cell_type": "code",
   "execution_count": 87,
   "metadata": {},
   "outputs": [],
   "source": [
    "chat = chit.Chat.clone(\"foo.json\")"
   ]
  },
  {
   "cell_type": "code",
   "execution_count": 89,
   "metadata": {},
   "outputs": [],
   "source": [
    "chat.checkout(\"d47ce694-84d8-4c51-af30-90e60941bb0c\")\n",
    "chat.branch(\"new_branch\")\n",
    "chat.checkout(branch_name=\"new_branch\")"
   ]
  },
  {
   "cell_type": "code",
   "execution_count": 116,
   "metadata": {},
   "outputs": [
    {
     "name": "stdout",
     "output_type": "stream",
     "text": [
      "[S_]bda71f──[U*]d47ce6──[A_]50e45a── (master)\n",
      "          │           ├─[A_]075fa6── (retry_response)\n",
      "          │           └─ (new_branch*)\n",
      "          └─[U_]cb330f──[A_]51a774──[U_]e372f7──[A_]81eaef──[U_]cd01ca──[A_]8950ce── (edit_prompt)\n"
     ]
    }
   ],
   "source": [
    "chat.log(\"tree\")"
   ]
  },
  {
   "cell_type": "code",
   "execution_count": 119,
   "metadata": {},
   "outputs": [
    {
     "name": "stdout",
     "output_type": "stream",
     "text": [
      "[S_]bda71f: You are a helpful assistant....\n",
      "    [U*]d47ce6: Hey, how are you?...\n",
      "        [A_]50e45a: Hey! I'm just a virtual assistant, so I don't have feelin... (master)\n",
      "        [A_]075fa6: I'm just a program, so I don't have feelings, but I'm her... (retry_response)\n",
      "         (new_branch*)\n",
      "    [U_]cb330f: Solve the Riemann hypothesis....\n",
      "        [A_]51a774: The Riemann Hypothesis is one of the most famous unsolved...\n",
      "            [U_]e372f7: <IMG>Ok, describe this image. What type of image is it?...\n",
      "                [A_]81eaef:  ![Image of the Riemann zeta function](https://upload.wik...\n",
      "                    [U_]cd01ca: <IMG>Ok, I gave you image analysis powers now. Try again....\n",
      "                        [A_]8950ce: This is a screenshot of Python code in what appears to be... (edit_prompt)\n"
     ]
    }
   ],
   "source": [
    "chat.log(\"forum\")"
   ]
  }
 ],
 "metadata": {
  "kernelspec": {
   "display_name": ".venv",
   "language": "python",
   "name": "python3"
  },
  "language_info": {
   "codemirror_mode": {
    "name": "ipython",
    "version": 3
   },
   "file_extension": ".py",
   "mimetype": "text/x-python",
   "name": "python",
   "nbconvert_exporter": "python",
   "pygments_lexer": "ipython3",
   "version": "3.10.16"
  }
 },
 "nbformat": 4,
 "nbformat_minor": 2
}

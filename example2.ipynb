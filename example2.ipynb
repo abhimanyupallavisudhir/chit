{
 "cells": [
  {
   "cell_type": "code",
   "execution_count": 98,
   "metadata": {},
   "outputs": [
    {
     "name": "stdout",
     "output_type": "stream",
     "text": [
      "The autoreload extension is already loaded. To reload it, use:\n",
      "  %reload_ext autoreload\n"
     ]
    }
   ],
   "source": [
    "import chit\n",
    "\n",
    "%load_ext autoreload\n",
    "%autoreload 2"
   ]
  },
  {
   "cell_type": "code",
   "execution_count": 99,
   "metadata": {},
   "outputs": [],
   "source": [
    "chat = chit.Chat.clone(\"foo.json\")"
   ]
  },
  {
   "cell_type": "code",
   "execution_count": 100,
   "metadata": {},
   "outputs": [
    {
     "name": "stdout",
     "output_type": "stream",
     "text": [
      "[S_]dfac3dae──[U_]203da29b──[A*]dab57316── (master*)\n",
      "            │             └─[A_]2ad8645b── (retry_response)\n",
      "            └─[U_]ecf21cad──[A_]af5de4e2──[U_]1aeaedd1──[A_]afacbdeb──[U_]f05b7bd4──[A_]8ee7390f── (edit_prompt)\n"
     ]
    }
   ],
   "source": [
    "chat.log(\"tree\")"
   ]
  },
  {
   "cell_type": "code",
   "execution_count": 101,
   "metadata": {},
   "outputs": [
    {
     "name": "stdout",
     "output_type": "stream",
     "text": [
      "uhh 203da29b\n",
      "[S_]dfac3dae──[U*]203da29b──[A_]dab57316── (master)\n",
      "            │             ├─[A_]2ad8645b── (retry_response)\n",
      "            │             └─ (new_branch*)\n",
      "            └─[U_]ecf21cad──[A_]af5de4e2──[U_]1aeaedd1──[A_]afacbdeb──[U_]f05b7bd4──[A_]8ee7390f── (edit_prompt)\n"
     ]
    }
   ],
   "source": [
    "chat.checkout(\"203da29b\")\n",
    "chat.branch(\"new_branch\")\n",
    "chat.checkout(branch_name=\"new_branch\")\n",
    "chat.log(\"tree\")"
   ]
  },
  {
   "cell_type": "code",
   "execution_count": 102,
   "metadata": {},
   "outputs": [
    {
     "name": "stdout",
     "output_type": "stream",
     "text": [
      "[S_]dfac3dae: You are a helpful assistant....\n",
      "    [U*]203da29b: Hey, how are you?...\n",
      "        [A_]dab57316: Hi! I’m just a bunch of code, so I don’t have feelings, b... (master)\n",
      "        [A_]2ad8645b: Hello! I'm just a program, so I don't have feelings, but ... (retry_response)\n",
      "         (new_branch*)\n",
      "    [U_]ecf21cad: Solve the Riemann hypothesis....\n",
      "        [A_]af5de4e2: The Riemann Hypothesis is one of the most famous unsolved...\n",
      "            [U_]1aeaedd1: <IMG>Ok, describe this image. What type of image is it?...\n",
      "                [A_]afacbdeb: It seems like your message got cut off, but I’ll do my be...\n",
      "                    [U_]f05b7bd4: <IMG>Ok, I gave you image analysis powers now. Try again....\n",
      "                        [A_]8ee7390f: This appears to be a screenshot from a programming enviro... (edit_prompt)\n"
     ]
    }
   ],
   "source": [
    "chat.log(\"forum\")"
   ]
  },
  {
   "cell_type": "code",
   "execution_count": 103,
   "metadata": {},
   "outputs": [],
   "source": [
    "chat.remote = chit.Remote(\"foo2.json\", \"foo2.html\")\n",
    "\n",
    "chat.push()"
   ]
  },
  {
   "cell_type": "code",
   "execution_count": 104,
   "metadata": {},
   "outputs": [
    {
     "name": "stdout",
     "output_type": "stream",
     "text": [
      "I'm doing well, thank you for asking! I'm ready to help you with whatever you need. How are you today?"
     ]
    }
   ],
   "source": [
    "chat.commit(\"assistant\")"
   ]
  },
  {
   "cell_type": "code",
   "execution_count": 105,
   "metadata": {},
   "outputs": [
    {
     "name": "stdout",
     "output_type": "stream",
     "text": [
      "I'm not able to physically show you a tree since I'm a text-based AI assistant. However, I can:\n",
      "\n",
      "1. Describe different types of trees\n",
      "2. Share information about trees\n",
      "3. Use text characters to create a simple ASCII art tree, like this:\n",
      "\n",
      "```\n",
      "    *\n",
      "   ***\n",
      "  *****\n",
      " *******\n",
      "*********\n",
      "    |\n",
      "    |\n",
      "```\n",
      "\n",
      "Would you like me to do any of these things?"
     ]
    }
   ],
   "source": [
    "chat.commit(\"user\", \"I want to see the tree\")\n",
    "chat.commit(\"assistant\")"
   ]
  },
  {
   "cell_type": "code",
   "execution_count": 106,
   "metadata": {},
   "outputs": [
    {
     "name": "stdout",
     "output_type": "stream",
     "text": [
      "[S_]dfac3dae──[U_]203da29b──[A_]dab57316── (master)\n",
      "            │             ├─[A_]2ad8645b── (retry_response)\n",
      "            │             └─[A_]d870c72d──[U_]1ad2153d──[A*]393595f7── (new_branch*)\n",
      "            └─[U_]ecf21cad──[A_]af5de4e2──[U_]1aeaedd1──[A_]afacbdeb──[U_]f05b7bd4──[A_]8ee7390f── (edit_prompt)\n"
     ]
    }
   ],
   "source": [
    "chat.log(\"tree\")"
   ]
  },
  {
   "cell_type": "code",
   "execution_count": 108,
   "metadata": {},
   "outputs": [
    {
     "data": {
      "text/plain": [
       "('d870c72d', 'new_branch')"
      ]
     },
     "execution_count": 108,
     "metadata": {},
     "output_type": "execute_result"
    }
   ],
   "source": [
    "chat._check_kalidasa_commit(\"1ad2153d\")"
   ]
  },
  {
   "cell_type": "code",
   "execution_count": 109,
   "metadata": {},
   "outputs": [
    {
     "name": "stdout",
     "output_type": "stream",
     "text": [
      "uhh d870c72d\n",
      "uhh d870c72d\n",
      "[S_]dfac3dae──[U_]203da29b──[A_]dab57316── (master)\n",
      "            │             ├─[A_]2ad8645b── (retry_response)\n",
      "            │             └─[A*]d870c72d── (new_branch*)\n",
      "            └─[U_]ecf21cad──[A_]af5de4e2──[U_]1aeaedd1──[A_]afacbdeb──[U_]f05b7bd4──[A_]8ee7390f── (edit_prompt)\n"
     ]
    }
   ],
   "source": [
    "chat.rm(\"1ad2153d\", force=True)\n",
    "chat.log(\"tree\")"
   ]
  },
  {
   "cell_type": "code",
   "execution_count": 110,
   "metadata": {},
   "outputs": [
    {
     "name": "stdout",
     "output_type": "stream",
     "text": [
      "[S_]dfac3dae──[U*]203da29b──[A_]dab57316── (master*)\n",
      "            │             ├─[A_]2ad8645b── (retry_response)\n",
      "            │             └─ (new_branch)\n",
      "            └─[U_]ecf21cad──[A_]af5de4e2──[U_]1aeaedd1──[A_]afacbdeb──[U_]f05b7bd4──[A_]8ee7390f── (edit_prompt)\n"
     ]
    }
   ],
   "source": [
    "chat.rm(branch_name=\"new_branch\")\n",
    "chat.log(\"tree\")"
   ]
  },
  {
   "cell_type": "code",
   "execution_count": null,
   "metadata": {},
   "outputs": [
    {
     "data": {
      "text/plain": [
       "'778f538e'"
      ]
     },
     "execution_count": 29,
     "metadata": {},
     "output_type": "execute_result"
    }
   ],
   "source": [
    "chat.current_id"
   ]
  }
 ],
 "metadata": {
  "kernelspec": {
   "display_name": ".venv",
   "language": "python",
   "name": "python3"
  },
  "language_info": {
   "codemirror_mode": {
    "name": "ipython",
    "version": 3
   },
   "file_extension": ".py",
   "mimetype": "text/x-python",
   "name": "python",
   "nbconvert_exporter": "python",
   "pygments_lexer": "ipython3",
   "version": "3.10.16"
  }
 },
 "nbformat": 4,
 "nbformat_minor": 2
}

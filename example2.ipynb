{
 "cells": [
  {
   "cell_type": "code",
   "execution_count": 2,
   "metadata": {},
   "outputs": [],
   "source": [
    "import chit\n",
    "\n",
    "%load_ext autoreload\n",
    "%autoreload 2"
   ]
  },
  {
   "cell_type": "code",
   "execution_count": 3,
   "metadata": {},
   "outputs": [],
   "source": [
    "chat = chit.Chat.clone(\"foo.json\")"
   ]
  },
  {
   "cell_type": "code",
   "execution_count": 9,
   "metadata": {},
   "outputs": [
    {
     "name": "stdout",
     "output_type": "stream",
     "text": [
      "bda71f\n",
      "├───cb330f\n",
      "├───└───51a774\n",
      "├───└───└───e372f7\n",
      "├───└───└───└───81eaef\n",
      "├───└───└───└───└───cd01ca\n",
      "├───└───└───└───└───└───8950ce (edit_prompt)\n",
      "└───d47ce6\n",
      "└───├───50e45a (master) *\n",
      "└───└───075fa6 (retry_response)\n"
     ]
    }
   ],
   "source": [
    "print(chat.log)"
   ]
  }
 ],
 "metadata": {
  "kernelspec": {
   "display_name": ".venv",
   "language": "python",
   "name": "python3"
  },
  "language_info": {
   "codemirror_mode": {
    "name": "ipython",
    "version": 3
   },
   "file_extension": ".py",
   "mimetype": "text/x-python",
   "name": "python",
   "nbconvert_exporter": "python",
   "pygments_lexer": "ipython3",
   "version": "3.10.16"
  }
 },
 "nbformat": 4,
 "nbformat_minor": 2
}
